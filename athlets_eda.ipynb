{
 "cells": [
  {
   "cell_type": "markdown",
   "id": "23d31b11-8e99-454f-a5b6-0ca552bcf509",
   "metadata": {},
   "source": [
    "# Содержание"
   ]
  },
  {
   "cell_type": "markdown",
   "id": "6136eacb-6ab8-4d33-8dc5-36e592dbf0e7",
   "metadata": {
    "jp-MarkdownHeadingCollapsed": true
   },
   "source": [
    "[Задание](#Задание)\n",
    "\n",
    "---\n",
    "\n",
    "[Импорт зависимостей](#Импорт-зависимостей)\n",
    "\n",
    "---\n",
    "\n",
    "[Чтение файла](#Чтение-файла)\n",
    "\n",
    "[Попытка чтения файла в формате CSV](#Попытка-чтения-файла-в-формате-CSV)\n",
    "\n",
    "[Попытка чтения файла в формате XLSX](#Попытка-чтения-файла-в-формате-XLSX)\n",
    "\n",
    "---\n",
    "\n",
    "[Получение информации о данных](#Получение-информации-о-данных)\n",
    "\n",
    "[Основная информация](#Основная-информация)\n",
    "\n",
    "[Информация о столбцах](#Информация-о-столбцах)\n",
    "\n",
    "[Количество отсутствующие значения](#Количество-отсутствующие-значения)\n",
    "\n",
    "---\n",
    "\n",
    "[Дубликаты](#Дубликаты)\n",
    "\n",
    "[Поиск дубликатов](#Поиск-дубликатов)\n",
    "\n",
    "[Удаление дубликатов](#Удаление-дубликатов)\n",
    "\n",
    "---\n",
    "\n",
    "[Выбор вида спорта](#Выбор-вида-спорта)\n",
    "\n",
    "[Получение выборки по данному виду спорта](#Получение-выборки-по-данному-виду-спорта)\n",
    "\n",
    "---\n",
    "\n",
    "[Выбросы](#Выбросы)\n",
    "\n",
    "[Пол](#Пол)\n",
    "\n",
    "[Возраст](#Возраст)\n",
    "\n",
    "[Рост](#Рост)\n",
    "\n",
    "[Вес](#Вес)\n",
    "\n",
    "[Команда](#Команда)\n",
    "\n",
    "[НОК](#НОК)\n",
    "\n",
    "[Игра](#Игра)\n",
    "\n",
    "[Год](#Год)\n",
    "\n",
    "[Сезон](#Сезон)\n",
    "\n",
    "[Город](#Город)\n",
    "\n",
    "[Спорт](#Спорт)\n",
    "\n",
    "[Событие](#Событие)\n",
    "\n",
    "[Медаль](#Медаль)\n",
    "\n",
    "---\n",
    "\n",
    "[Коррекци противоречивых данных](#Коррекци-противоречивых-данных)\n",
    "\n",
    "[Возраст](#Возраст)\n",
    "\n",
    "[Рост](#Рост)\n",
    "\n",
    "[Вес](#Вес)\n",
    "\n",
    "---\n",
    "\n",
    "[Обработка пропусков](#Обработка-пропусков)\n",
    "\n",
    "[Возраст](#Возраст)\n",
    "\n",
    "[Рост](#Рост)\n",
    "\n",
    "[Вес](#Вес)\n",
    "\n",
    "[Медали](#Медали)\n",
    "\n",
    "---\n",
    "\n",
    "[Цифровизация данных](#Цифровизация-данных)\n",
    "\n",
    "---\n",
    "\n",
    "[Корреляция](#Корреляция)\n",
    "\n",
    "---\n",
    "\n",
    "[Создание тестовой и тренировочной выборки](#Создание-тестовой-и-тренировочной-выборки)\n",
    "\n",
    "[Модель](#Модель)\n",
    "\n",
    "---\n",
    "\n",
    "[Предсказание](#Предсказание)\n",
    "\n",
    "---\n",
    "\n",
    "[Ответы на вопросы](#Ответы-на-вопросы)\n"
   ]
  },
  {
   "cell_type": "markdown",
   "id": "d31816f4-d9cb-425e-819f-62813e655c0c",
   "metadata": {},
   "source": [
    "# Задание"
   ]
  },
  {
   "cell_type": "markdown",
   "id": "844f1cbc-d268-405c-b1ce-2b8375e5e888",
   "metadata": {},
   "source": [
    "Цель работы: изучение современных компьютерных технологий для подготовки больших данных к прогнозному анализу, в рамках курса «Управление данными».\n",
    "\n",
    "Задание 1:\n",
    "\n",
    "В рамках практической работы необходимо исследовать представленный data set на ошибки (описки), на отсутствие данных («missing»), на выбросы («outliers»), на наличие дублирующих строк (наблюдений), на наличие мультиколлинеарности объясняющих переменных (атрибутов).\r\n",
    "Перед тем как приступать к подготовке («чистке») исходных данных желательно провести процедуру «описательная статистика» data set athlete_events1.xlsx для всех входящих переменных (15 переменных). Это поможет дать общее представление об исходных данных и определиться с входными данными и целевой переменной. В этом смысле будет полезным ответить на контрольные вопросы, приведенные нижка.\r\n",
    ".\r\n"
   ]
  },
  {
   "cell_type": "markdown",
   "id": "34890726-8a29-49ba-86fc-af032fc68f86",
   "metadata": {},
   "source": [
    "Задание 2:\n",
    "\n",
    "1) Ответить на контрольные вопросы, приведенного data set (11 вопросов)\n",
    "2)  Отметить и записать в приведенную таблицу название входных переменных и их формат\n",
    "3)  Заполнить таблицу описательных статистик для числовых и текстовых переменны\n",
    "4)  Построить прогнозную модель победителя Олимпиады 2016 года (рост, вес, возраст), используя исторические данные и сравнить с реальной картино)\n",
    "\n",
    "Предлагается построить прогнозные модели победителей Олимпийских игр 2016 г. по следующим спортивным дисципли на:\t\n",
    "\n",
    "Мужчины легкая атлетика:\n",
    "100м, 200м, 400м, 800м, 1500м, 5000м, 10000м, марафон, прыжки в высоту, прыжки в длину, метание копья, метание диска.\n",
    "\n",
    "Женщины легкая атлетика:\n",
    "100м, 200м, 400м, 800м, 1500м, 5000м, 10000м, марафон, прыжки в высоту, прыжки в длину, метание копья, метание диска.\n"
   ]
  },
  {
   "cell_type": "markdown",
   "id": "cfbb2a75-18af-4cd4-b310-d9d4d4dc9af5",
   "metadata": {},
   "source": [
    "# Импорт зависимостей"
   ]
  },
  {
   "cell_type": "code",
   "execution_count": 1,
   "id": "e996d069-8d5c-4100-9af0-a983bb462001",
   "metadata": {},
   "outputs": [],
   "source": [
    "import pandas as pd #Для анализа таблиц\n",
    "import matplotlib.pyplot as plt #Для созздание графиков\n",
    "from matplotlib.pyplot import figure #Для создания граиков\n",
    "import seaborn as sns #Для построения хитмапов"
   ]
  },
  {
   "cell_type": "markdown",
   "id": "702595dd-8679-42b7-be7f-1419aa951cb9",
   "metadata": {},
   "source": [
    "# Чтение файла"
   ]
  },
  {
   "cell_type": "markdown",
   "id": "130cb37d-64a5-4465-b4b2-f6805ec9f16d",
   "metadata": {},
   "source": [
    "## Попытка чтения файла в формате CSV"
   ]
  },
  {
   "cell_type": "code",
   "execution_count": 2,
   "id": "f1ee2196-fea7-4976-ad29-184665a005a7",
   "metadata": {},
   "outputs": [],
   "source": [
    "def read_csv(filepath: str):\n",
    "    return pd.read_csv(filepath)"
   ]
  },
  {
   "cell_type": "code",
   "execution_count": 3,
   "id": "456ab017-3632-4d38-ad57-83d9b061d531",
   "metadata": {},
   "outputs": [
    {
     "data": {
      "text/html": [
       "<div>\n",
       "<style scoped>\n",
       "    .dataframe tbody tr th:only-of-type {\n",
       "        vertical-align: middle;\n",
       "    }\n",
       "\n",
       "    .dataframe tbody tr th {\n",
       "        vertical-align: top;\n",
       "    }\n",
       "\n",
       "    .dataframe thead th {\n",
       "        text-align: right;\n",
       "    }\n",
       "</style>\n",
       "<table border=\"1\" class=\"dataframe\">\n",
       "  <thead>\n",
       "    <tr style=\"text-align: right;\">\n",
       "      <th></th>\n",
       "      <th>ID,\"Name\",\"Sex\",\"Age\",\"Height\",\"Weight\",\"Team\",\"NOC\",\"Games\",\"Year\",\"Season\",\"City\",\"Sport\",\"Event\",\"Medal\";;;;;;;;;;;</th>\n",
       "    </tr>\n",
       "  </thead>\n",
       "  <tbody>\n",
       "    <tr>\n",
       "      <th>0</th>\n",
       "      <td>1,\"A Dijiang\",\"M\",24,180,80,\"China\",\"CHN\",\"199...</td>\n",
       "    </tr>\n",
       "    <tr>\n",
       "      <th>1</th>\n",
       "      <td>2,\"A Lamusi\",\"M\",23,170,60,\"China\",\"CHN\",\"2012...</td>\n",
       "    </tr>\n",
       "    <tr>\n",
       "      <th>2</th>\n",
       "      <td>3,\"Gunnar Nielsen Aaby\",\"M\",24,NA,NA,\"Denmark\"...</td>\n",
       "    </tr>\n",
       "    <tr>\n",
       "      <th>3</th>\n",
       "      <td>4,\"Edgar Lindenau Aabye\",\"M\",34,NA,NA,\"Denmark...</td>\n",
       "    </tr>\n",
       "    <tr>\n",
       "      <th>4</th>\n",
       "      <td>5,\"Christine Jacoba Aaftink\",\"F\",21,185,82,\"Ne...</td>\n",
       "    </tr>\n",
       "  </tbody>\n",
       "</table>\n",
       "</div>"
      ],
      "text/plain": [
       "  ID,\"Name\",\"Sex\",\"Age\",\"Height\",\"Weight\",\"Team\",\"NOC\",\"Games\",\"Year\",\"Season\",\"City\",\"Sport\",\"Event\",\"Medal\";;;;;;;;;;;\n",
       "0  1,\"A Dijiang\",\"M\",24,180,80,\"China\",\"CHN\",\"199...                                                                    \n",
       "1  2,\"A Lamusi\",\"M\",23,170,60,\"China\",\"CHN\",\"2012...                                                                    \n",
       "2  3,\"Gunnar Nielsen Aaby\",\"M\",24,NA,NA,\"Denmark\"...                                                                    \n",
       "3  4,\"Edgar Lindenau Aabye\",\"M\",34,NA,NA,\"Denmark...                                                                    \n",
       "4  5,\"Christine Jacoba Aaftink\",\"F\",21,185,82,\"Ne...                                                                    "
      ]
     },
     "execution_count": 3,
     "metadata": {},
     "output_type": "execute_result"
    }
   ],
   "source": [
    "df = pd.read_csv(\"./athlete_events.csv\", sep =\",\")\n",
    "df.head()"
   ]
  },
  {
   "cell_type": "markdown",
   "id": "03e80394-ec9d-427f-a511-51e9643c85ce",
   "metadata": {},
   "source": [
    "Не удаеться получить данные в формате CSV"
   ]
  },
  {
   "cell_type": "markdown",
   "id": "e50a437e-7390-4e79-b373-e194b38e34c9",
   "metadata": {},
   "source": [
    "## Попытка чтения файла в формате XLSX"
   ]
  },
  {
   "cell_type": "code",
   "execution_count": 4,
   "id": "84f6ecae-2847-49d4-a4c3-eb92ce2d9702",
   "metadata": {},
   "outputs": [],
   "source": [
    "def parse_excel(filepath: str):\n",
    "    dfs = []\n",
    "    xlsx = pd.ExcelFile(filepath)\n",
    "\n",
    "    for sheet in xlsx.sheet_names:\n",
    "        dfs.append(xlsx.parse(sheet))\n",
    "        \n",
    "    return dfs"
   ]
  },
  {
   "cell_type": "code",
   "execution_count": 5,
   "id": "1928c703-4229-4110-9ef8-412eda3fcf4d",
   "metadata": {},
   "outputs": [
    {
     "data": {
      "text/html": [
       "<div>\n",
       "<style scoped>\n",
       "    .dataframe tbody tr th:only-of-type {\n",
       "        vertical-align: middle;\n",
       "    }\n",
       "\n",
       "    .dataframe tbody tr th {\n",
       "        vertical-align: top;\n",
       "    }\n",
       "\n",
       "    .dataframe thead th {\n",
       "        text-align: right;\n",
       "    }\n",
       "</style>\n",
       "<table border=\"1\" class=\"dataframe\">\n",
       "  <thead>\n",
       "    <tr style=\"text-align: right;\">\n",
       "      <th></th>\n",
       "      <th>ID</th>\n",
       "      <th>Name</th>\n",
       "      <th>Sex</th>\n",
       "      <th>Age</th>\n",
       "      <th>Height</th>\n",
       "      <th>Weight</th>\n",
       "      <th>Team</th>\n",
       "      <th>NOC</th>\n",
       "      <th>Games</th>\n",
       "      <th>Year</th>\n",
       "      <th>Season</th>\n",
       "      <th>City</th>\n",
       "      <th>Sport</th>\n",
       "      <th>Event</th>\n",
       "      <th>Medal</th>\n",
       "    </tr>\n",
       "  </thead>\n",
       "  <tbody>\n",
       "    <tr>\n",
       "      <th>0</th>\n",
       "      <td>1</td>\n",
       "      <td>A Dijiang</td>\n",
       "      <td>M</td>\n",
       "      <td>24.0</td>\n",
       "      <td>180.0</td>\n",
       "      <td>80.0</td>\n",
       "      <td>China</td>\n",
       "      <td>CHN</td>\n",
       "      <td>1992 Summer</td>\n",
       "      <td>1992</td>\n",
       "      <td>Summer</td>\n",
       "      <td>Barcelona</td>\n",
       "      <td>Basketball</td>\n",
       "      <td>Basketball Men's Basketball</td>\n",
       "      <td>NaN</td>\n",
       "    </tr>\n",
       "    <tr>\n",
       "      <th>1</th>\n",
       "      <td>2</td>\n",
       "      <td>A Lamusi</td>\n",
       "      <td>M</td>\n",
       "      <td>23.0</td>\n",
       "      <td>170.0</td>\n",
       "      <td>60.0</td>\n",
       "      <td>China</td>\n",
       "      <td>CHN</td>\n",
       "      <td>2012 Summer</td>\n",
       "      <td>2012</td>\n",
       "      <td>Summer</td>\n",
       "      <td>London</td>\n",
       "      <td>Judo</td>\n",
       "      <td>Judo Men's Extra-Lightweight</td>\n",
       "      <td>NaN</td>\n",
       "    </tr>\n",
       "    <tr>\n",
       "      <th>2</th>\n",
       "      <td>3</td>\n",
       "      <td>Gunnar Nielsen Aaby</td>\n",
       "      <td>M</td>\n",
       "      <td>24.0</td>\n",
       "      <td>NaN</td>\n",
       "      <td>NaN</td>\n",
       "      <td>Denmark</td>\n",
       "      <td>DEN</td>\n",
       "      <td>1920 Summer</td>\n",
       "      <td>1920</td>\n",
       "      <td>Summer</td>\n",
       "      <td>Antwerpen</td>\n",
       "      <td>Football</td>\n",
       "      <td>Football Men's Football</td>\n",
       "      <td>NaN</td>\n",
       "    </tr>\n",
       "    <tr>\n",
       "      <th>3</th>\n",
       "      <td>4</td>\n",
       "      <td>Edgar Lindenau Aabye</td>\n",
       "      <td>M</td>\n",
       "      <td>34.0</td>\n",
       "      <td>NaN</td>\n",
       "      <td>NaN</td>\n",
       "      <td>Denmark/Sweden</td>\n",
       "      <td>DEN</td>\n",
       "      <td>1900 Summer</td>\n",
       "      <td>1900</td>\n",
       "      <td>Summer</td>\n",
       "      <td>Paris</td>\n",
       "      <td>Tug-Of-War</td>\n",
       "      <td>Tug-Of-War Men's Tug-Of-War</td>\n",
       "      <td>Gold</td>\n",
       "    </tr>\n",
       "    <tr>\n",
       "      <th>4</th>\n",
       "      <td>5</td>\n",
       "      <td>Christine Jacoba Aaftink</td>\n",
       "      <td>F</td>\n",
       "      <td>21.0</td>\n",
       "      <td>185.0</td>\n",
       "      <td>82.0</td>\n",
       "      <td>Netherlands</td>\n",
       "      <td>NED</td>\n",
       "      <td>1988 Winter</td>\n",
       "      <td>1988</td>\n",
       "      <td>Winter</td>\n",
       "      <td>Calgary</td>\n",
       "      <td>Speed Skating</td>\n",
       "      <td>Speed Skating Women's 500 metres</td>\n",
       "      <td>NaN</td>\n",
       "    </tr>\n",
       "  </tbody>\n",
       "</table>\n",
       "</div>"
      ],
      "text/plain": [
       "   ID                      Name Sex   Age  Height  Weight            Team  \\\n",
       "0   1                 A Dijiang   M  24.0   180.0    80.0           China   \n",
       "1   2                  A Lamusi   M  23.0   170.0    60.0           China   \n",
       "2   3       Gunnar Nielsen Aaby   M  24.0     NaN     NaN         Denmark   \n",
       "3   4      Edgar Lindenau Aabye   M  34.0     NaN     NaN  Denmark/Sweden   \n",
       "4   5  Christine Jacoba Aaftink   F  21.0   185.0    82.0     Netherlands   \n",
       "\n",
       "   NOC        Games  Year  Season       City          Sport  \\\n",
       "0  CHN  1992 Summer  1992  Summer  Barcelona     Basketball   \n",
       "1  CHN  2012 Summer  2012  Summer     London           Judo   \n",
       "2  DEN  1920 Summer  1920  Summer  Antwerpen       Football   \n",
       "3  DEN  1900 Summer  1900  Summer      Paris     Tug-Of-War   \n",
       "4  NED  1988 Winter  1988  Winter    Calgary  Speed Skating   \n",
       "\n",
       "                              Event Medal  \n",
       "0       Basketball Men's Basketball   NaN  \n",
       "1      Judo Men's Extra-Lightweight   NaN  \n",
       "2           Football Men's Football   NaN  \n",
       "3       Tug-Of-War Men's Tug-Of-War  Gold  \n",
       "4  Speed Skating Women's 500 metres   NaN  "
      ]
     },
     "execution_count": 5,
     "metadata": {},
     "output_type": "execute_result"
    }
   ],
   "source": [
    "df_list = parse_excel(\"./athlete_events.xlsx\")\n",
    "main_df = df_list[0]\n",
    "main_df.head()"
   ]
  },
  {
   "cell_type": "markdown",
   "id": "2374b5fc-d2b1-4bb2-bb67-18cd7ade217f",
   "metadata": {},
   "source": [
    "# Получение информации о данных"
   ]
  },
  {
   "cell_type": "markdown",
   "id": "4feeb4e5-3d44-4bfd-aa2f-5b4d70979e4c",
   "metadata": {},
   "source": [
    "## Основная информация"
   ]
  },
  {
   "cell_type": "markdown",
   "id": "4294eb59-f570-4f9e-b1a4-022e3578fc70",
   "metadata": {},
   "source": [
    "* ID - Уникальный номер атлета;\n",
    "* Name - Имя атлета;\n",
    "* Sex - M или F;\n",
    "* Age - Integer;\n",
    "* Height - В сантиметрах;\n",
    "* Weight - В килограммах;\n",
    "* Team - Название команды;\n",
    "* NOC - National Olympic Committee;\n",
    "* Games - Год и сезон;\n",
    "* Year - Год;\n",
    "* Season - Summer или Winter;\n",
    "* City - Город проведения;\n",
    "* Sport - Наименование вида спорта;\n",
    "* Event - Событие;\n",
    "* Medal - Gold, Silver, Bronze, или NA."
   ]
  },
  {
   "cell_type": "code",
   "execution_count": 6,
   "id": "88362316-b0ce-4ae2-82fa-481dd64fa4fa",
   "metadata": {},
   "outputs": [
    {
     "name": "stdout",
     "output_type": "stream",
     "text": [
      "<class 'pandas.core.frame.DataFrame'>\n",
      "RangeIndex: 271116 entries, 0 to 271115\n",
      "Data columns (total 15 columns):\n",
      " #   Column  Non-Null Count   Dtype  \n",
      "---  ------  --------------   -----  \n",
      " 0   ID      271116 non-null  int64  \n",
      " 1   Name    271116 non-null  object \n",
      " 2   Sex     271116 non-null  object \n",
      " 3   Age     261642 non-null  float64\n",
      " 4   Height  210945 non-null  float64\n",
      " 5   Weight  208241 non-null  float64\n",
      " 6   Team    271116 non-null  object \n",
      " 7   NOC     271116 non-null  object \n",
      " 8   Games   271116 non-null  object \n",
      " 9   Year    271116 non-null  int64  \n",
      " 10  Season  271116 non-null  object \n",
      " 11  City    271116 non-null  object \n",
      " 12  Sport   271116 non-null  object \n",
      " 13  Event   271116 non-null  object \n",
      " 14  Medal   39783 non-null   object \n",
      "dtypes: float64(3), int64(2), object(10)\n",
      "memory usage: 31.0+ MB\n"
     ]
    }
   ],
   "source": [
    "main_df.info()"
   ]
  },
  {
   "cell_type": "markdown",
   "id": "8bc00783-0890-4637-ad35-08983eada198",
   "metadata": {},
   "source": [
    "## Информация о столбцах"
   ]
  },
  {
   "cell_type": "code",
   "execution_count": 7,
   "id": "f11a373b-9592-4d90-aaf4-72a2e7c858f1",
   "metadata": {},
   "outputs": [
    {
     "data": {
      "text/plain": [
       "Index(['ID', 'Name', 'Sex', 'Age', 'Height', 'Weight', 'Team', 'NOC', 'Games',\n",
       "       'Year', 'Season', 'City', 'Sport', 'Event', 'Medal'],\n",
       "      dtype='object')"
      ]
     },
     "execution_count": 7,
     "metadata": {},
     "output_type": "execute_result"
    }
   ],
   "source": [
    "main_df.columns"
   ]
  },
  {
   "cell_type": "markdown",
   "id": "3282d363-585c-40e1-80a7-c3ca2e55d122",
   "metadata": {},
   "source": [
    "## Количество отсутствующие значения"
   ]
  },
  {
   "cell_type": "code",
   "execution_count": 8,
   "id": "bbad8ef9-0724-492e-a3f8-4a31a35c3ada",
   "metadata": {},
   "outputs": [
    {
     "data": {
      "text/plain": [
       "ID             0\n",
       "Name           0\n",
       "Sex            0\n",
       "Age         9474\n",
       "Height     60171\n",
       "Weight     62875\n",
       "Team           0\n",
       "NOC            0\n",
       "Games          0\n",
       "Year           0\n",
       "Season         0\n",
       "City           0\n",
       "Sport          0\n",
       "Event          0\n",
       "Medal     231333\n",
       "dtype: int64"
      ]
     },
     "execution_count": 8,
     "metadata": {},
     "output_type": "execute_result"
    }
   ],
   "source": [
    "main_df.isnull().sum()"
   ]
  },
  {
   "cell_type": "markdown",
   "id": "829e7a06-3cc5-4238-b60e-29b1007cbed1",
   "metadata": {},
   "source": [
    "# Дубликаты"
   ]
  },
  {
   "cell_type": "markdown",
   "id": "9c2300b1-d047-4a18-9aee-5b1f73c6c678",
   "metadata": {},
   "source": [
    "Дубликаты - это одинаковые данные (записи). Дубликаты приводят к избыточности, увеличивают объем выборки, при этом не повышая информативность данных."
   ]
  },
  {
   "cell_type": "markdown",
   "id": "613f1fc4-94b0-43c9-b558-221d3e0f5da3",
   "metadata": {},
   "source": [
    "Наличие одинаковых наблюдений влияет на коэффициенты \n",
    "регрессии, увеличивая дисперсию модели, поэтому дублирующи \r\n",
    "наблюдения должны быть найдены и удалены из аналиа\r\n"
   ]
  },
  {
   "cell_type": "markdown",
   "id": "87ac8ee6-e036-4785-a6c9-0b2b8761d31f",
   "metadata": {},
   "source": [
    "## Поиск дубликатов"
   ]
  },
  {
   "cell_type": "code",
   "execution_count": 9,
   "id": "89cde58b-3d04-4398-91cc-5b0e2bea03b6",
   "metadata": {},
   "outputs": [
    {
     "data": {
      "text/html": [
       "<div>\n",
       "<style scoped>\n",
       "    .dataframe tbody tr th:only-of-type {\n",
       "        vertical-align: middle;\n",
       "    }\n",
       "\n",
       "    .dataframe tbody tr th {\n",
       "        vertical-align: top;\n",
       "    }\n",
       "\n",
       "    .dataframe thead th {\n",
       "        text-align: right;\n",
       "    }\n",
       "</style>\n",
       "<table border=\"1\" class=\"dataframe\">\n",
       "  <thead>\n",
       "    <tr style=\"text-align: right;\">\n",
       "      <th></th>\n",
       "      <th>ID</th>\n",
       "      <th>Name</th>\n",
       "      <th>Sex</th>\n",
       "      <th>Age</th>\n",
       "      <th>Height</th>\n",
       "      <th>Weight</th>\n",
       "      <th>Team</th>\n",
       "      <th>NOC</th>\n",
       "      <th>Games</th>\n",
       "      <th>Year</th>\n",
       "      <th>Season</th>\n",
       "      <th>City</th>\n",
       "      <th>Sport</th>\n",
       "      <th>Event</th>\n",
       "      <th>Medal</th>\n",
       "    </tr>\n",
       "  </thead>\n",
       "  <tbody>\n",
       "    <tr>\n",
       "      <th>1252</th>\n",
       "      <td>704</td>\n",
       "      <td>Dsir Antoine Acket</td>\n",
       "      <td>M</td>\n",
       "      <td>27.0</td>\n",
       "      <td>NaN</td>\n",
       "      <td>NaN</td>\n",
       "      <td>Belgium</td>\n",
       "      <td>BEL</td>\n",
       "      <td>1932 Summer</td>\n",
       "      <td>1932</td>\n",
       "      <td>Summer</td>\n",
       "      <td>Los Angeles</td>\n",
       "      <td>Art Competitions</td>\n",
       "      <td>Art Competitions Mixed Painting, Unknown Event</td>\n",
       "      <td>NaN</td>\n",
       "    </tr>\n",
       "    <tr>\n",
       "      <th>4282</th>\n",
       "      <td>2449</td>\n",
       "      <td>William Truman Aldrich</td>\n",
       "      <td>M</td>\n",
       "      <td>48.0</td>\n",
       "      <td>NaN</td>\n",
       "      <td>NaN</td>\n",
       "      <td>United States</td>\n",
       "      <td>USA</td>\n",
       "      <td>1928 Summer</td>\n",
       "      <td>1928</td>\n",
       "      <td>Summer</td>\n",
       "      <td>Amsterdam</td>\n",
       "      <td>Art Competitions</td>\n",
       "      <td>Art Competitions Mixed Painting, Drawings And ...</td>\n",
       "      <td>NaN</td>\n",
       "    </tr>\n",
       "    <tr>\n",
       "      <th>4283</th>\n",
       "      <td>2449</td>\n",
       "      <td>William Truman Aldrich</td>\n",
       "      <td>M</td>\n",
       "      <td>48.0</td>\n",
       "      <td>NaN</td>\n",
       "      <td>NaN</td>\n",
       "      <td>United States</td>\n",
       "      <td>USA</td>\n",
       "      <td>1928 Summer</td>\n",
       "      <td>1928</td>\n",
       "      <td>Summer</td>\n",
       "      <td>Amsterdam</td>\n",
       "      <td>Art Competitions</td>\n",
       "      <td>Art Competitions Mixed Painting, Drawings And ...</td>\n",
       "      <td>NaN</td>\n",
       "    </tr>\n",
       "    <tr>\n",
       "      <th>4862</th>\n",
       "      <td>2777</td>\n",
       "      <td>Hermann Reinhard Alker</td>\n",
       "      <td>M</td>\n",
       "      <td>43.0</td>\n",
       "      <td>NaN</td>\n",
       "      <td>NaN</td>\n",
       "      <td>Germany</td>\n",
       "      <td>GER</td>\n",
       "      <td>1928 Summer</td>\n",
       "      <td>1928</td>\n",
       "      <td>Summer</td>\n",
       "      <td>Amsterdam</td>\n",
       "      <td>Art Competitions</td>\n",
       "      <td>Art Competitions Mixed Architecture, Designs F...</td>\n",
       "      <td>NaN</td>\n",
       "    </tr>\n",
       "    <tr>\n",
       "      <th>4864</th>\n",
       "      <td>2777</td>\n",
       "      <td>Hermann Reinhard Alker</td>\n",
       "      <td>M</td>\n",
       "      <td>43.0</td>\n",
       "      <td>NaN</td>\n",
       "      <td>NaN</td>\n",
       "      <td>Germany</td>\n",
       "      <td>GER</td>\n",
       "      <td>1928 Summer</td>\n",
       "      <td>1928</td>\n",
       "      <td>Summer</td>\n",
       "      <td>Amsterdam</td>\n",
       "      <td>Art Competitions</td>\n",
       "      <td>Art Competitions Mixed Architecture, Architect...</td>\n",
       "      <td>NaN</td>\n",
       "    </tr>\n",
       "    <tr>\n",
       "      <th>...</th>\n",
       "      <td>...</td>\n",
       "      <td>...</td>\n",
       "      <td>...</td>\n",
       "      <td>...</td>\n",
       "      <td>...</td>\n",
       "      <td>...</td>\n",
       "      <td>...</td>\n",
       "      <td>...</td>\n",
       "      <td>...</td>\n",
       "      <td>...</td>\n",
       "      <td>...</td>\n",
       "      <td>...</td>\n",
       "      <td>...</td>\n",
       "      <td>...</td>\n",
       "      <td>...</td>\n",
       "    </tr>\n",
       "    <tr>\n",
       "      <th>269994</th>\n",
       "      <td>135072</td>\n",
       "      <td>Anna Katrina Zinkeisen (-Heseltine)</td>\n",
       "      <td>F</td>\n",
       "      <td>46.0</td>\n",
       "      <td>NaN</td>\n",
       "      <td>NaN</td>\n",
       "      <td>Great Britain</td>\n",
       "      <td>GBR</td>\n",
       "      <td>1948 Summer</td>\n",
       "      <td>1948</td>\n",
       "      <td>Summer</td>\n",
       "      <td>London</td>\n",
       "      <td>Art Competitions</td>\n",
       "      <td>Art Competitions Mixed Painting, Paintings</td>\n",
       "      <td>NaN</td>\n",
       "    </tr>\n",
       "    <tr>\n",
       "      <th>269995</th>\n",
       "      <td>135072</td>\n",
       "      <td>Anna Katrina Zinkeisen (-Heseltine)</td>\n",
       "      <td>F</td>\n",
       "      <td>46.0</td>\n",
       "      <td>NaN</td>\n",
       "      <td>NaN</td>\n",
       "      <td>Great Britain</td>\n",
       "      <td>GBR</td>\n",
       "      <td>1948 Summer</td>\n",
       "      <td>1948</td>\n",
       "      <td>Summer</td>\n",
       "      <td>London</td>\n",
       "      <td>Art Competitions</td>\n",
       "      <td>Art Competitions Mixed Painting, Paintings</td>\n",
       "      <td>NaN</td>\n",
       "    </tr>\n",
       "    <tr>\n",
       "      <th>269997</th>\n",
       "      <td>135072</td>\n",
       "      <td>Anna Katrina Zinkeisen (-Heseltine)</td>\n",
       "      <td>F</td>\n",
       "      <td>46.0</td>\n",
       "      <td>NaN</td>\n",
       "      <td>NaN</td>\n",
       "      <td>Great Britain</td>\n",
       "      <td>GBR</td>\n",
       "      <td>1948 Summer</td>\n",
       "      <td>1948</td>\n",
       "      <td>Summer</td>\n",
       "      <td>London</td>\n",
       "      <td>Art Competitions</td>\n",
       "      <td>Art Competitions Mixed Painting, Unknown Event</td>\n",
       "      <td>NaN</td>\n",
       "    </tr>\n",
       "    <tr>\n",
       "      <th>269999</th>\n",
       "      <td>135073</td>\n",
       "      <td>Doris Clare Zinkeisen (-Johnstone)</td>\n",
       "      <td>F</td>\n",
       "      <td>49.0</td>\n",
       "      <td>NaN</td>\n",
       "      <td>NaN</td>\n",
       "      <td>Great Britain</td>\n",
       "      <td>GBR</td>\n",
       "      <td>1948 Summer</td>\n",
       "      <td>1948</td>\n",
       "      <td>Summer</td>\n",
       "      <td>London</td>\n",
       "      <td>Art Competitions</td>\n",
       "      <td>Art Competitions Mixed Painting, Unknown Event</td>\n",
       "      <td>NaN</td>\n",
       "    </tr>\n",
       "    <tr>\n",
       "      <th>270200</th>\n",
       "      <td>135173</td>\n",
       "      <td>Henri Achille Zo</td>\n",
       "      <td>M</td>\n",
       "      <td>58.0</td>\n",
       "      <td>NaN</td>\n",
       "      <td>NaN</td>\n",
       "      <td>France</td>\n",
       "      <td>FRA</td>\n",
       "      <td>1932 Summer</td>\n",
       "      <td>1932</td>\n",
       "      <td>Summer</td>\n",
       "      <td>Los Angeles</td>\n",
       "      <td>Art Competitions</td>\n",
       "      <td>Art Competitions Mixed Painting, Unknown Event</td>\n",
       "      <td>NaN</td>\n",
       "    </tr>\n",
       "  </tbody>\n",
       "</table>\n",
       "<p>1385 rows × 15 columns</p>\n",
       "</div>"
      ],
      "text/plain": [
       "            ID                                 Name Sex   Age  Height  Weight  \\\n",
       "1252       704                   Dsir Antoine Acket   M  27.0     NaN     NaN   \n",
       "4282      2449               William Truman Aldrich   M  48.0     NaN     NaN   \n",
       "4283      2449               William Truman Aldrich   M  48.0     NaN     NaN   \n",
       "4862      2777               Hermann Reinhard Alker   M  43.0     NaN     NaN   \n",
       "4864      2777               Hermann Reinhard Alker   M  43.0     NaN     NaN   \n",
       "...        ...                                  ...  ..   ...     ...     ...   \n",
       "269994  135072  Anna Katrina Zinkeisen (-Heseltine)   F  46.0     NaN     NaN   \n",
       "269995  135072  Anna Katrina Zinkeisen (-Heseltine)   F  46.0     NaN     NaN   \n",
       "269997  135072  Anna Katrina Zinkeisen (-Heseltine)   F  46.0     NaN     NaN   \n",
       "269999  135073   Doris Clare Zinkeisen (-Johnstone)   F  49.0     NaN     NaN   \n",
       "270200  135173                     Henri Achille Zo   M  58.0     NaN     NaN   \n",
       "\n",
       "                 Team  NOC        Games  Year  Season         City  \\\n",
       "1252          Belgium  BEL  1932 Summer  1932  Summer  Los Angeles   \n",
       "4282    United States  USA  1928 Summer  1928  Summer    Amsterdam   \n",
       "4283    United States  USA  1928 Summer  1928  Summer    Amsterdam   \n",
       "4862          Germany  GER  1928 Summer  1928  Summer    Amsterdam   \n",
       "4864          Germany  GER  1928 Summer  1928  Summer    Amsterdam   \n",
       "...               ...  ...          ...   ...     ...          ...   \n",
       "269994  Great Britain  GBR  1948 Summer  1948  Summer       London   \n",
       "269995  Great Britain  GBR  1948 Summer  1948  Summer       London   \n",
       "269997  Great Britain  GBR  1948 Summer  1948  Summer       London   \n",
       "269999  Great Britain  GBR  1948 Summer  1948  Summer       London   \n",
       "270200         France  FRA  1932 Summer  1932  Summer  Los Angeles   \n",
       "\n",
       "                   Sport                                              Event  \\\n",
       "1252    Art Competitions     Art Competitions Mixed Painting, Unknown Event   \n",
       "4282    Art Competitions  Art Competitions Mixed Painting, Drawings And ...   \n",
       "4283    Art Competitions  Art Competitions Mixed Painting, Drawings And ...   \n",
       "4862    Art Competitions  Art Competitions Mixed Architecture, Designs F...   \n",
       "4864    Art Competitions  Art Competitions Mixed Architecture, Architect...   \n",
       "...                  ...                                                ...   \n",
       "269994  Art Competitions         Art Competitions Mixed Painting, Paintings   \n",
       "269995  Art Competitions         Art Competitions Mixed Painting, Paintings   \n",
       "269997  Art Competitions     Art Competitions Mixed Painting, Unknown Event   \n",
       "269999  Art Competitions     Art Competitions Mixed Painting, Unknown Event   \n",
       "270200  Art Competitions     Art Competitions Mixed Painting, Unknown Event   \n",
       "\n",
       "       Medal  \n",
       "1252     NaN  \n",
       "4282     NaN  \n",
       "4283     NaN  \n",
       "4862     NaN  \n",
       "4864     NaN  \n",
       "...      ...  \n",
       "269994   NaN  \n",
       "269995   NaN  \n",
       "269997   NaN  \n",
       "269999   NaN  \n",
       "270200   NaN  \n",
       "\n",
       "[1385 rows x 15 columns]"
      ]
     },
     "execution_count": 9,
     "metadata": {},
     "output_type": "execute_result"
    }
   ],
   "source": [
    "main_df[main_df.duplicated()]"
   ]
  },
  {
   "cell_type": "markdown",
   "id": "df29e9fc-68c4-4a0b-b096-4ceb74c62dca",
   "metadata": {},
   "source": [
    "## Удаление дубликатов"
   ]
  },
  {
   "cell_type": "code",
   "execution_count": 10,
   "id": "3678a6c8-0a1e-4930-8c27-819dacce3bc3",
   "metadata": {},
   "outputs": [],
   "source": [
    "del_dup_main_df = main_df.drop_duplicates()"
   ]
  },
  {
   "cell_type": "code",
   "execution_count": 11,
   "id": "4b9a5fa3-5535-400e-ae6a-cf1168d8cef6",
   "metadata": {},
   "outputs": [
    {
     "data": {
      "text/plain": [
       "(269731, 15)"
      ]
     },
     "execution_count": 11,
     "metadata": {},
     "output_type": "execute_result"
    }
   ],
   "source": [
    "del_dup_main_df.shape"
   ]
  },
  {
   "cell_type": "code",
   "execution_count": 12,
   "id": "50bd131c-b399-4993-ac77-92f81251fef0",
   "metadata": {},
   "outputs": [
    {
     "data": {
      "text/plain": [
       "(271116, 15)"
      ]
     },
     "execution_count": 12,
     "metadata": {},
     "output_type": "execute_result"
    }
   ],
   "source": [
    "main_df.shape"
   ]
  },
  {
   "cell_type": "markdown",
   "id": "a6b27985-9ff5-4ef3-b4de-14cb6254cd70",
   "metadata": {},
   "source": [
    "Как видно из размеров данных, то выборка данных с удаленными дубликатами меньше, чем основная выборка."
   ]
  },
  {
   "cell_type": "code",
   "execution_count": 13,
   "id": "7aa999d1-fa23-4b9c-8162-473ffa0a1340",
   "metadata": {},
   "outputs": [
    {
     "data": {
      "text/plain": [
       "-1385"
      ]
     },
     "execution_count": 13,
     "metadata": {},
     "output_type": "execute_result"
    }
   ],
   "source": [
    "269731 - 271116"
   ]
  },
  {
   "cell_type": "markdown",
   "id": "dfbf8f93-2079-4b5a-a410-a60b297c488e",
   "metadata": {},
   "source": [
    "# Выбор вида спорта"
   ]
  },
  {
   "cell_type": "markdown",
   "id": "98c97ec2-8118-45be-9b10-3079981e8a15",
   "metadata": {},
   "source": [
    "В данном заданиии  необходимо выбрать вид спорта и сделать по нему предсказательную модель."
   ]
  },
  {
   "cell_type": "markdown",
   "id": "d248129a-6d5c-43a2-acb2-839c31cc3523",
   "metadata": {},
   "source": [
    "Я выбрал вид спорта - Speed Skating. Спидскейтинг (speed skating), а точнее инлайн спидскейтинг – это скоростное катание на роликовых коньках без использования силы гравитации для ускорения (гравитацией пользуется отдельная дисциплина – даунхилл на роликовых коньках). Это безусловно самый массовый вид роллер спорта, который должен войти в программу летних олимпийских игр."
   ]
  },
  {
   "cell_type": "markdown",
   "id": "a6bb9090-cbb6-422d-a364-90807e603638",
   "metadata": {},
   "source": [
    "Правила участия в олимпийских играх по спидскейтингу могут включать следующие положения:\r\n",
    "\r\n",
    "1. Квалификация: Участники должны пройти отборочные соревнования и соответствовать определенным критериям, установленным Международным союзом конькобежного спорта (ISU).\r\n",
    "\r\n",
    "2. Участники: В соревнованиях могут принимать участие спортсмены, представляющие свои страны и имеющие гражданство этой страны.\r\n",
    "\r\n",
    "3. Возраст: Участники должны быть старше определенного возраста, который может быть установлен организаторами игр или ISU.\r\n",
    "\r\n",
    "4. Экипировка: Участники должны использовать соответствующую экипировку, включая коньки, шлем, защитные очки, перчатки и другие необходимые средства защиты.\r\n",
    "\r\n",
    "5. Допустимые дистанции: В зависимости от программы Олимпийских игр, участники могут соревноваться на различных дистанциях, таких как 500 м, 1000 м, 1500 м, 5000 м, 10000 м и командные эстафеты.\r\n",
    "\r\n",
    "6. Правила гонки: Участники должны соблюдать правила и регламенты, установленные ISU, включая правила старта, обгонов, финишей и другие аспекты гонки.\r\n",
    "\r\n",
    "7. Дисквалификация: Участник может быть дисквалифицирован за нарушение правил или использование запрещенных веществ.\r\n",
    "\r\n",
    "8. Антидопинговый контроль: Участники могут быть подвергнуты антидопинговому контролю для обеспечения честности и чистоты соревнований.\r\n",
    "\r\n",
    "9. Нарушение правил: В случае нарушения правил, участник может быть дисквалифицирован, лишен медалей или оштрафован в соответствии с решением организаторов игр или ISU.\r\n",
    "\r\n",
    "10. Этика и спортивное поведение: Участники должны соблюдать высокие стандарты этики и спортивного поведения, проявлять уважение к соперникам, судьям и зрителям.\r\n"
   ]
  },
  {
   "cell_type": "markdown",
   "id": "5bf462ee-b2da-4f3c-bd54-ab6c6fee584c",
   "metadata": {},
   "source": [
    "В интернете нет точной  информации о возрасте участников, поэтому будет смотреть данные и обрабатывать их по конкретной ситуации."
   ]
  },
  {
   "cell_type": "markdown",
   "id": "32439091-4a51-4db1-a0b0-3efc0210e7a2",
   "metadata": {},
   "source": [
    "## Получение выборки по данному виду спорта"
   ]
  },
  {
   "cell_type": "code",
   "execution_count": 14,
   "id": "f124570f-68be-4b3a-825e-2e8aa3e3b89c",
   "metadata": {},
   "outputs": [
    {
     "data": {
      "text/html": [
       "<div>\n",
       "<style scoped>\n",
       "    .dataframe tbody tr th:only-of-type {\n",
       "        vertical-align: middle;\n",
       "    }\n",
       "\n",
       "    .dataframe tbody tr th {\n",
       "        vertical-align: top;\n",
       "    }\n",
       "\n",
       "    .dataframe thead th {\n",
       "        text-align: right;\n",
       "    }\n",
       "</style>\n",
       "<table border=\"1\" class=\"dataframe\">\n",
       "  <thead>\n",
       "    <tr style=\"text-align: right;\">\n",
       "      <th></th>\n",
       "      <th>ID</th>\n",
       "      <th>Name</th>\n",
       "      <th>Sex</th>\n",
       "      <th>Age</th>\n",
       "      <th>Height</th>\n",
       "      <th>Weight</th>\n",
       "      <th>Team</th>\n",
       "      <th>NOC</th>\n",
       "      <th>Games</th>\n",
       "      <th>Year</th>\n",
       "      <th>Season</th>\n",
       "      <th>City</th>\n",
       "      <th>Sport</th>\n",
       "      <th>Event</th>\n",
       "      <th>Medal</th>\n",
       "    </tr>\n",
       "  </thead>\n",
       "  <tbody>\n",
       "    <tr>\n",
       "      <th>4</th>\n",
       "      <td>5</td>\n",
       "      <td>Christine Jacoba Aaftink</td>\n",
       "      <td>F</td>\n",
       "      <td>21.0</td>\n",
       "      <td>185.0</td>\n",
       "      <td>82.0</td>\n",
       "      <td>Netherlands</td>\n",
       "      <td>NED</td>\n",
       "      <td>1988 Winter</td>\n",
       "      <td>1988</td>\n",
       "      <td>Winter</td>\n",
       "      <td>Calgary</td>\n",
       "      <td>Speed Skating</td>\n",
       "      <td>Speed Skating Women's 500 metres</td>\n",
       "      <td>NaN</td>\n",
       "    </tr>\n",
       "    <tr>\n",
       "      <th>5</th>\n",
       "      <td>5</td>\n",
       "      <td>Christine Jacoba Aaftink</td>\n",
       "      <td>F</td>\n",
       "      <td>21.0</td>\n",
       "      <td>185.0</td>\n",
       "      <td>82.0</td>\n",
       "      <td>Netherlands</td>\n",
       "      <td>NED</td>\n",
       "      <td>1988 Winter</td>\n",
       "      <td>1988</td>\n",
       "      <td>Winter</td>\n",
       "      <td>Calgary</td>\n",
       "      <td>Speed Skating</td>\n",
       "      <td>Speed Skating Women's 1,000 metres</td>\n",
       "      <td>NaN</td>\n",
       "    </tr>\n",
       "    <tr>\n",
       "      <th>6</th>\n",
       "      <td>5</td>\n",
       "      <td>Christine Jacoba Aaftink</td>\n",
       "      <td>F</td>\n",
       "      <td>25.0</td>\n",
       "      <td>185.0</td>\n",
       "      <td>82.0</td>\n",
       "      <td>Netherlands</td>\n",
       "      <td>NED</td>\n",
       "      <td>1992 Winter</td>\n",
       "      <td>1992</td>\n",
       "      <td>Winter</td>\n",
       "      <td>Albertville</td>\n",
       "      <td>Speed Skating</td>\n",
       "      <td>Speed Skating Women's 500 metres</td>\n",
       "      <td>NaN</td>\n",
       "    </tr>\n",
       "    <tr>\n",
       "      <th>7</th>\n",
       "      <td>5</td>\n",
       "      <td>Christine Jacoba Aaftink</td>\n",
       "      <td>F</td>\n",
       "      <td>25.0</td>\n",
       "      <td>185.0</td>\n",
       "      <td>82.0</td>\n",
       "      <td>Netherlands</td>\n",
       "      <td>NED</td>\n",
       "      <td>1992 Winter</td>\n",
       "      <td>1992</td>\n",
       "      <td>Winter</td>\n",
       "      <td>Albertville</td>\n",
       "      <td>Speed Skating</td>\n",
       "      <td>Speed Skating Women's 1,000 metres</td>\n",
       "      <td>NaN</td>\n",
       "    </tr>\n",
       "    <tr>\n",
       "      <th>8</th>\n",
       "      <td>5</td>\n",
       "      <td>Christine Jacoba Aaftink</td>\n",
       "      <td>F</td>\n",
       "      <td>27.0</td>\n",
       "      <td>185.0</td>\n",
       "      <td>82.0</td>\n",
       "      <td>Netherlands</td>\n",
       "      <td>NED</td>\n",
       "      <td>1994 Winter</td>\n",
       "      <td>1994</td>\n",
       "      <td>Winter</td>\n",
       "      <td>Lillehammer</td>\n",
       "      <td>Speed Skating</td>\n",
       "      <td>Speed Skating Women's 500 metres</td>\n",
       "      <td>NaN</td>\n",
       "    </tr>\n",
       "    <tr>\n",
       "      <th>...</th>\n",
       "      <td>...</td>\n",
       "      <td>...</td>\n",
       "      <td>...</td>\n",
       "      <td>...</td>\n",
       "      <td>...</td>\n",
       "      <td>...</td>\n",
       "      <td>...</td>\n",
       "      <td>...</td>\n",
       "      <td>...</td>\n",
       "      <td>...</td>\n",
       "      <td>...</td>\n",
       "      <td>...</td>\n",
       "      <td>...</td>\n",
       "      <td>...</td>\n",
       "      <td>...</td>\n",
       "    </tr>\n",
       "    <tr>\n",
       "      <th>271094</th>\n",
       "      <td>135559</td>\n",
       "      <td>Pawe Jan Zygmunt</td>\n",
       "      <td>M</td>\n",
       "      <td>25.0</td>\n",
       "      <td>182.0</td>\n",
       "      <td>79.0</td>\n",
       "      <td>Poland</td>\n",
       "      <td>POL</td>\n",
       "      <td>1998 Winter</td>\n",
       "      <td>1998</td>\n",
       "      <td>Winter</td>\n",
       "      <td>Nagano</td>\n",
       "      <td>Speed Skating</td>\n",
       "      <td>Speed Skating Men's 1,500 metres</td>\n",
       "      <td>NaN</td>\n",
       "    </tr>\n",
       "    <tr>\n",
       "      <th>271095</th>\n",
       "      <td>135559</td>\n",
       "      <td>Pawe Jan Zygmunt</td>\n",
       "      <td>M</td>\n",
       "      <td>25.0</td>\n",
       "      <td>182.0</td>\n",
       "      <td>79.0</td>\n",
       "      <td>Poland</td>\n",
       "      <td>POL</td>\n",
       "      <td>1998 Winter</td>\n",
       "      <td>1998</td>\n",
       "      <td>Winter</td>\n",
       "      <td>Nagano</td>\n",
       "      <td>Speed Skating</td>\n",
       "      <td>Speed Skating Men's 5,000 metres</td>\n",
       "      <td>NaN</td>\n",
       "    </tr>\n",
       "    <tr>\n",
       "      <th>271096</th>\n",
       "      <td>135559</td>\n",
       "      <td>Pawe Jan Zygmunt</td>\n",
       "      <td>M</td>\n",
       "      <td>29.0</td>\n",
       "      <td>182.0</td>\n",
       "      <td>79.0</td>\n",
       "      <td>Poland</td>\n",
       "      <td>POL</td>\n",
       "      <td>2002 Winter</td>\n",
       "      <td>2002</td>\n",
       "      <td>Winter</td>\n",
       "      <td>Salt Lake City</td>\n",
       "      <td>Speed Skating</td>\n",
       "      <td>Speed Skating Men's 5,000 metres</td>\n",
       "      <td>NaN</td>\n",
       "    </tr>\n",
       "    <tr>\n",
       "      <th>271097</th>\n",
       "      <td>135559</td>\n",
       "      <td>Pawe Jan Zygmunt</td>\n",
       "      <td>M</td>\n",
       "      <td>29.0</td>\n",
       "      <td>182.0</td>\n",
       "      <td>79.0</td>\n",
       "      <td>Poland</td>\n",
       "      <td>POL</td>\n",
       "      <td>2002 Winter</td>\n",
       "      <td>2002</td>\n",
       "      <td>Winter</td>\n",
       "      <td>Salt Lake City</td>\n",
       "      <td>Speed Skating</td>\n",
       "      <td>Speed Skating Men's 10,000 metres</td>\n",
       "      <td>NaN</td>\n",
       "    </tr>\n",
       "    <tr>\n",
       "      <th>271098</th>\n",
       "      <td>135559</td>\n",
       "      <td>Pawe Jan Zygmunt</td>\n",
       "      <td>M</td>\n",
       "      <td>33.0</td>\n",
       "      <td>182.0</td>\n",
       "      <td>79.0</td>\n",
       "      <td>Poland</td>\n",
       "      <td>POL</td>\n",
       "      <td>2006 Winter</td>\n",
       "      <td>2006</td>\n",
       "      <td>Winter</td>\n",
       "      <td>Torino</td>\n",
       "      <td>Speed Skating</td>\n",
       "      <td>Speed Skating Men's 5,000 metres</td>\n",
       "      <td>NaN</td>\n",
       "    </tr>\n",
       "  </tbody>\n",
       "</table>\n",
       "<p>5613 rows × 15 columns</p>\n",
       "</div>"
      ],
      "text/plain": [
       "            ID                      Name Sex   Age  Height  Weight  \\\n",
       "4            5  Christine Jacoba Aaftink   F  21.0   185.0    82.0   \n",
       "5            5  Christine Jacoba Aaftink   F  21.0   185.0    82.0   \n",
       "6            5  Christine Jacoba Aaftink   F  25.0   185.0    82.0   \n",
       "7            5  Christine Jacoba Aaftink   F  25.0   185.0    82.0   \n",
       "8            5  Christine Jacoba Aaftink   F  27.0   185.0    82.0   \n",
       "...        ...                       ...  ..   ...     ...     ...   \n",
       "271094  135559          Pawe Jan Zygmunt   M  25.0   182.0    79.0   \n",
       "271095  135559          Pawe Jan Zygmunt   M  25.0   182.0    79.0   \n",
       "271096  135559          Pawe Jan Zygmunt   M  29.0   182.0    79.0   \n",
       "271097  135559          Pawe Jan Zygmunt   M  29.0   182.0    79.0   \n",
       "271098  135559          Pawe Jan Zygmunt   M  33.0   182.0    79.0   \n",
       "\n",
       "               Team  NOC        Games  Year  Season            City  \\\n",
       "4       Netherlands  NED  1988 Winter  1988  Winter         Calgary   \n",
       "5       Netherlands  NED  1988 Winter  1988  Winter         Calgary   \n",
       "6       Netherlands  NED  1992 Winter  1992  Winter     Albertville   \n",
       "7       Netherlands  NED  1992 Winter  1992  Winter     Albertville   \n",
       "8       Netherlands  NED  1994 Winter  1994  Winter     Lillehammer   \n",
       "...             ...  ...          ...   ...     ...             ...   \n",
       "271094       Poland  POL  1998 Winter  1998  Winter          Nagano   \n",
       "271095       Poland  POL  1998 Winter  1998  Winter          Nagano   \n",
       "271096       Poland  POL  2002 Winter  2002  Winter  Salt Lake City   \n",
       "271097       Poland  POL  2002 Winter  2002  Winter  Salt Lake City   \n",
       "271098       Poland  POL  2006 Winter  2006  Winter          Torino   \n",
       "\n",
       "                Sport                               Event Medal  \n",
       "4       Speed Skating    Speed Skating Women's 500 metres   NaN  \n",
       "5       Speed Skating  Speed Skating Women's 1,000 metres   NaN  \n",
       "6       Speed Skating    Speed Skating Women's 500 metres   NaN  \n",
       "7       Speed Skating  Speed Skating Women's 1,000 metres   NaN  \n",
       "8       Speed Skating    Speed Skating Women's 500 metres   NaN  \n",
       "...               ...                                 ...   ...  \n",
       "271094  Speed Skating    Speed Skating Men's 1,500 metres   NaN  \n",
       "271095  Speed Skating    Speed Skating Men's 5,000 metres   NaN  \n",
       "271096  Speed Skating    Speed Skating Men's 5,000 metres   NaN  \n",
       "271097  Speed Skating   Speed Skating Men's 10,000 metres   NaN  \n",
       "271098  Speed Skating    Speed Skating Men's 5,000 metres   NaN  \n",
       "\n",
       "[5613 rows x 15 columns]"
      ]
     },
     "execution_count": 14,
     "metadata": {},
     "output_type": "execute_result"
    }
   ],
   "source": [
    "speed_skating_df = del_dup_main_df[del_dup_main_df['Sport'] == 'Speed Skating']\n",
    "speed_skating_df"
   ]
  },
  {
   "cell_type": "markdown",
   "id": "87c308cb-7500-4318-9b6a-bf87c350b595",
   "metadata": {},
   "source": [
    "# Выбросы"
   ]
  },
  {
   "cell_type": "markdown",
   "id": "daa3167a-a075-4bfb-8a62-7b8098cda1d5",
   "metadata": {},
   "source": [
    "Выбросы в данных — это значения, которые сильно отличаются от большинства других значений в наборе данных. "
   ]
  },
  {
   "cell_type": "markdown",
   "id": "8cda149d-c336-4633-8869-b0668c715ced",
   "metadata": {},
   "source": [
    "## Пол"
   ]
  },
  {
   "cell_type": "code",
   "execution_count": 15,
   "id": "0671f937-2b66-45ce-9469-f39b88261810",
   "metadata": {},
   "outputs": [
    {
     "data": {
      "text/plain": [
       "Sex\n",
       "M    0.629254\n",
       "F    0.370746\n",
       "Name: proportion, dtype: float64"
      ]
     },
     "execution_count": 15,
     "metadata": {},
     "output_type": "execute_result"
    }
   ],
   "source": [
    "speed_skating_df['Sex'].value_counts(normalize=True, dropna=False)"
   ]
  },
  {
   "cell_type": "code",
   "execution_count": 16,
   "id": "e0a2f955-b503-4920-ba65-5f0938964b1c",
   "metadata": {},
   "outputs": [
    {
     "data": {
      "text/plain": [
       "<Axes: xlabel='Sex'>"
      ]
     },
     "execution_count": 16,
     "metadata": {},
     "output_type": "execute_result"
    },
    {
     "data": {
      "image/png": "[encoded data removed]",
      "text/plain": [
       "<Figure size 640x480 with 1 Axes>"
      ]
     },
     "metadata": {},
     "output_type": "display_data"
    }
   ],
   "source": [
    "speed_skating_df['Sex'].value_counts(normalize=True, dropna=False).plot.bar()"
   ]
  },
  {
   "cell_type": "markdown",
   "id": "924d32ab-1a44-4722-b05d-e4efeabe17ab",
   "metadata": {},
   "source": [
    "## Возраст"
   ]
  },
  {
   "cell_type": "code",
   "execution_count": 17,
   "id": "a50eea44-b527-4136-bf8f-3273ce824585",
   "metadata": {},
   "outputs": [
    {
     "data": {
      "text/plain": [
       "Age\n",
       "24.0    0.108320\n",
       "23.0    0.098699\n",
       "22.0    0.091751\n",
       "21.0    0.090148\n",
       "25.0    0.079993\n",
       "26.0    0.072867\n",
       "20.0    0.071798\n",
       "27.0    0.068769\n",
       "28.0    0.058258\n",
       "19.0    0.047212\n",
       "29.0    0.037235\n",
       "30.0    0.029931\n",
       "18.0    0.028862\n",
       "31.0    0.026189\n",
       "17.0    0.018707\n",
       "32.0    0.014431\n",
       "33.0    0.013896\n",
       "34.0    0.009264\n",
       "35.0    0.006414\n",
       "16.0    0.005701\n",
       "15.0    0.004098\n",
       "NaN     0.003385\n",
       "37.0    0.003207\n",
       "14.0    0.002138\n",
       "36.0    0.001960\n",
       "38.0    0.001960\n",
       "39.0    0.001425\n",
       "40.0    0.000891\n",
       "41.0    0.000713\n",
       "46.0    0.000713\n",
       "13.0    0.000356\n",
       "42.0    0.000356\n",
       "52.0    0.000356\n",
       "Name: proportion, dtype: float64"
      ]
     },
     "execution_count": 17,
     "metadata": {},
     "output_type": "execute_result"
    }
   ],
   "source": [
    "speed_skating_df['Age'].value_counts(normalize=True, dropna=False)"
   ]
  },
  {
   "cell_type": "code",
   "execution_count": 18,
   "id": "d996effa-f459-4423-b1e8-84ee00242a3d",
   "metadata": {},
   "outputs": [
    {
     "data": {
      "text/plain": [
       "<Axes: xlabel='Age'>"
      ]
     },
     "execution_count": 18,
     "metadata": {},
     "output_type": "execute_result"
    },
    {
     "data": {
      "image/png": "[encoded data removed]",
      "text/plain": [
       "<Figure size 2500x1000 with 1 Axes>"
      ]
     },
     "metadata": {},
     "output_type": "display_data"
    }
   ],
   "source": [
    "speed_skating_df['Age'].value_counts('Age', dropna=False).sort_index().plot.bar(figsize=(25,10))"
   ]
  },
  {
   "cell_type": "markdown",
   "id": "83b3a9ee-1367-4184-bc65-6de6d93bd7fd",
   "metadata": {},
   "source": [
    "По возрасту большой разброс значений. Однако для каждого вида спорта выделяют свой интервал возрастов. К этому моменту я вернусь чуть позже. Явных выбросов в данном параметре нет"
   ]
  },
  {
   "cell_type": "markdown",
   "id": "32803f7b-a1af-4c38-912d-fe348b6bbbf1",
   "metadata": {},
   "source": [
    "## Рост"
   ]
  },
  {
   "cell_type": "code",
   "execution_count": 19,
   "id": "4f52741e-da34-4af3-b02c-9513283c96bc",
   "metadata": {},
   "outputs": [
    {
     "data": {
      "text/plain": [
       "Height\n",
       "NaN      0.194192\n",
       "180.0    0.055585\n",
       "170.0    0.046321\n",
       "178.0    0.042402\n",
       "167.0    0.041867\n",
       "175.0    0.040620\n",
       "168.0    0.038126\n",
       "172.0    0.035097\n",
       "183.0    0.034563\n",
       "173.0    0.033850\n",
       "182.0    0.029574\n",
       "185.0    0.029396\n",
       "171.0    0.025298\n",
       "165.0    0.024586\n",
       "174.0    0.022804\n",
       "160.0    0.022270\n",
       "162.0    0.021735\n",
       "181.0    0.021023\n",
       "164.0    0.017816\n",
       "169.0    0.017459\n",
       "190.0    0.017281\n",
       "177.0    0.016747\n",
       "163.0    0.016391\n",
       "176.0    0.015143\n",
       "184.0    0.014965\n",
       "166.0    0.014253\n",
       "189.0    0.013184\n",
       "188.0    0.012649\n",
       "186.0    0.011937\n",
       "179.0    0.011402\n",
       "187.0    0.010868\n",
       "158.0    0.008017\n",
       "159.0    0.007483\n",
       "157.0    0.006414\n",
       "161.0    0.004988\n",
       "156.0    0.004632\n",
       "153.0    0.004098\n",
       "192.0    0.004098\n",
       "193.0    0.002672\n",
       "152.0    0.001425\n",
       "155.0    0.001425\n",
       "154.0    0.001247\n",
       "197.0    0.001069\n",
       "191.0    0.001069\n",
       "199.0    0.000713\n",
       "200.0    0.000356\n",
       "149.0    0.000356\n",
       "151.0    0.000178\n",
       "203.0    0.000178\n",
       "194.0    0.000178\n",
       "Name: proportion, dtype: float64"
      ]
     },
     "execution_count": 19,
     "metadata": {},
     "output_type": "execute_result"
    }
   ],
   "source": [
    "speed_skating_df['Height'].value_counts(normalize=True, dropna=False)"
   ]
  },
  {
   "cell_type": "code",
   "execution_count": 20,
   "id": "d2a7ec34-534c-43c4-909c-60ab13e491e6",
   "metadata": {},
   "outputs": [
    {
     "data": {
      "text/plain": [
       "<Axes: xlabel='Height'>"
      ]
     },
     "execution_count": 20,
     "metadata": {},
     "output_type": "execute_result"
    },
    {
     "data": {
      "image/png": "[encoded data removed]",
      "text/plain": [
       "<Figure size 2500x1000 with 1 Axes>"
      ]
     },
     "metadata": {},
     "output_type": "display_data"
    }
   ],
   "source": [
    "speed_skating_df['Height'].value_counts('Height', dropna=False).sort_index().plot.bar(figsize=(25,10))"
   ]
  },
  {
   "cell_type": "markdown",
   "id": "6cdf6627-4de8-4f0a-82e2-3fe3d2a19d96",
   "metadata": {},
   "source": [
    "Возможно для конкретного вида спорта также выделяют свои ограничения по росту. Явных выбросов нет"
   ]
  },
  {
   "cell_type": "markdown",
   "id": "d6b317d1-8f8e-49ba-9478-a2a4453dc889",
   "metadata": {},
   "source": [
    "## Вес"
   ]
  },
  {
   "cell_type": "code",
   "execution_count": 21,
   "id": "7ad3826f-07eb-410b-a7da-b9f863ab1a2d",
   "metadata": {},
   "outputs": [
    {
     "data": {
      "text/plain": [
       "Weight\n",
       "46.0     0.001425\n",
       "47.0     0.000713\n",
       "48.0     0.002138\n",
       "49.0     0.000356\n",
       "50.0     0.004276\n",
       "51.0     0.005345\n",
       "52.0     0.008017\n",
       "53.0     0.004098\n",
       "54.0     0.005701\n",
       "55.0     0.008908\n",
       "56.0     0.016391\n",
       "57.0     0.023695\n",
       "58.0     0.029574\n",
       "59.0     0.021557\n",
       "59.5     0.001247\n",
       "60.0     0.024051\n",
       "61.0     0.026367\n",
       "62.0     0.026367\n",
       "63.0     0.024051\n",
       "64.0     0.020132\n",
       "65.0     0.030465\n",
       "65.5     0.000356\n",
       "66.0     0.029931\n",
       "67.0     0.020310\n",
       "68.0     0.022626\n",
       "69.0     0.010868\n",
       "70.0     0.041511\n",
       "71.0     0.019241\n",
       "72.0     0.033672\n",
       "73.0     0.024764\n",
       "74.0     0.017281\n",
       "75.0     0.044896\n",
       "75.5     0.000713\n",
       "76.0     0.021379\n",
       "77.0     0.020666\n",
       "78.0     0.024942\n",
       "79.0     0.016925\n",
       "80.0     0.034741\n",
       "81.0     0.008552\n",
       "82.0     0.022626\n",
       "83.0     0.008373\n",
       "84.0     0.012471\n",
       "85.0     0.023517\n",
       "86.0     0.007839\n",
       "87.0     0.003207\n",
       "88.0     0.009264\n",
       "89.0     0.001782\n",
       "90.0     0.009086\n",
       "91.0     0.000356\n",
       "92.0     0.003029\n",
       "93.0     0.003029\n",
       "95.0     0.002138\n",
       "96.0     0.001603\n",
       "97.0     0.000891\n",
       "100.0    0.000178\n",
       "NaN      0.212364\n",
       "Name: proportion, dtype: float64"
      ]
     },
     "execution_count": 21,
     "metadata": {},
     "output_type": "execute_result"
    }
   ],
   "source": [
    "speed_skating_df['Weight'].value_counts(normalize=True, dropna=False).sort_index()"
   ]
  },
  {
   "cell_type": "code",
   "execution_count": 22,
   "id": "d3487cdd-21a7-498d-a50d-6b70eba1a821",
   "metadata": {},
   "outputs": [
    {
     "data": {
      "text/plain": [
       "<Axes: xlabel='Weight'>"
      ]
     },
     "execution_count": 22,
     "metadata": {},
     "output_type": "execute_result"
    },
    {
     "data": {
      "image/png": "[encoded data removed]",
      "text/plain": [
       "<Figure size 2000x1000 with 1 Axes>"
      ]
     },
     "metadata": {},
     "output_type": "display_data"
    }
   ],
   "source": [
    "speed_skating_df['Weight'].value_counts('Weight', dropna=False).sort_index().plot.bar(figsize=(20,10))"
   ]
  },
  {
   "cell_type": "markdown",
   "id": "33dd098a-6be7-4a22-bf9b-98e830877a23",
   "metadata": {},
   "source": [
    "Таже ситуация с конкретным видом спорта. Есть странные показателе, однако их я рассмотрю чуть позже."
   ]
  },
  {
   "cell_type": "markdown",
   "id": "3e95efb6-814c-4893-bfd4-881d98c7503e",
   "metadata": {},
   "source": [
    "## Команда"
   ]
  },
  {
   "cell_type": "markdown",
   "id": "60eb8060-5400-4511-a0c8-59691a30471f",
   "metadata": {},
   "source": [
    "Данный параметр не имеет смысла анализировать, так как количество команд большое и может содержать всего 1 человека. Также этот парамет не влияет на дальнейший анализ. Его оставлю без изменений"
   ]
  },
  {
   "cell_type": "markdown",
   "id": "ea705e30-ed82-485d-aa84-17d6a1dfe0df",
   "metadata": {},
   "source": [
    "## НОК"
   ]
  },
  {
   "cell_type": "code",
   "execution_count": 23,
   "id": "5ccfca45-738c-4210-ab67-b3a7f6eb47bf",
   "metadata": {},
   "outputs": [
    {
     "data": {
      "text/plain": [
       "NOC\n",
       "AUS    0.011224\n",
       "AUT    0.029040\n",
       "BEL    0.008908\n",
       "BLR    0.004276\n",
       "CAN    0.077142\n",
       "CHN    0.031356\n",
       "CZE    0.002494\n",
       "DEN    0.001603\n",
       "EST    0.001782\n",
       "EUN    0.006414\n",
       "FIN    0.043471\n",
       "FRA    0.019419\n",
       "FRG    0.013896\n",
       "GBR    0.020310\n",
       "GDR    0.017816\n",
       "GER    0.051488\n",
       "HUN    0.012115\n",
       "ITA    0.032247\n",
       "IVB    0.000356\n",
       "JPN    0.084447\n",
       "KAZ    0.012115\n",
       "KOR    0.048281\n",
       "LAT    0.004810\n",
       "LTU    0.000713\n",
       "MGL    0.004454\n",
       "NED    0.089613\n",
       "NOR    0.073045\n",
       "NZL    0.000891\n",
       "POL    0.026546\n",
       "POR    0.000178\n",
       "PRK    0.013362\n",
       "ROU    0.009264\n",
       "RUS    0.035988\n",
       "SUI    0.006057\n",
       "SWE    0.050062\n",
       "TCH    0.006057\n",
       "TPE    0.000356\n",
       "UKR    0.003029\n",
       "URS    0.039551\n",
       "USA    0.101550\n",
       "YUG    0.004276\n",
       "Name: proportion, dtype: float64"
      ]
     },
     "execution_count": 23,
     "metadata": {},
     "output_type": "execute_result"
    }
   ],
   "source": [
    "speed_skating_df['NOC'].value_counts(normalize=True, dropna=False).sort_index()"
   ]
  },
  {
   "cell_type": "markdown",
   "id": "3a7f4d52-d873-4758-b268-25735f586eb9",
   "metadata": {},
   "source": [
    "## Игра"
   ]
  },
  {
   "cell_type": "code",
   "execution_count": 24,
   "id": "77a50e83-7f6f-4fc4-8c96-57b0b529a32a",
   "metadata": {},
   "outputs": [
    {
     "data": {
      "text/plain": [
       "Games\n",
       "1924 Winter    0.019597\n",
       "1928 Winter    0.018885\n",
       "1932 Winter    0.012471\n",
       "1936 Winter    0.024942\n",
       "1948 Winter    0.027436\n",
       "1952 Winter    0.025833\n",
       "1956 Winter    0.031890\n",
       "1960 Winter    0.044361\n",
       "1964 Winter    0.051131\n",
       "1968 Winter    0.049884\n",
       "1972 Winter    0.043471\n",
       "1976 Winter    0.044005\n",
       "1980 Winter    0.052735\n",
       "1984 Winter    0.058436\n",
       "1988 Winter    0.058079\n",
       "1992 Winter    0.063068\n",
       "1994 Winter    0.056654\n",
       "1998 Winter    0.059683\n",
       "2002 Winter    0.059148\n",
       "2006 Winter    0.067522\n",
       "2010 Winter    0.065206\n",
       "2014 Winter    0.065562\n",
       "Name: proportion, dtype: float64"
      ]
     },
     "execution_count": 24,
     "metadata": {},
     "output_type": "execute_result"
    }
   ],
   "source": [
    "speed_skating_df['Games'].value_counts(normalize=True, dropna=False).sort_index()"
   ]
  },
  {
   "cell_type": "markdown",
   "id": "c4fb2b9a-77a1-4c4b-98ee-88889ee1a2b9",
   "metadata": {},
   "source": [
    "В целом, игры соответствуют действительности. Оставим их без изменений"
   ]
  },
  {
   "cell_type": "markdown",
   "id": "09faffd7-d994-4e92-8022-7430580fcee7",
   "metadata": {},
   "source": [
    "## Год"
   ]
  },
  {
   "cell_type": "code",
   "execution_count": 25,
   "id": "41a3facb-a063-4519-b93e-de21447269f5",
   "metadata": {},
   "outputs": [
    {
     "data": {
      "text/plain": [
       "Year\n",
       "1924    0.019597\n",
       "1928    0.018885\n",
       "1932    0.012471\n",
       "1936    0.024942\n",
       "1948    0.027436\n",
       "1952    0.025833\n",
       "1956    0.031890\n",
       "1960    0.044361\n",
       "1964    0.051131\n",
       "1968    0.049884\n",
       "1972    0.043471\n",
       "1976    0.044005\n",
       "1980    0.052735\n",
       "1984    0.058436\n",
       "1988    0.058079\n",
       "1992    0.063068\n",
       "1994    0.056654\n",
       "1998    0.059683\n",
       "2002    0.059148\n",
       "2006    0.067522\n",
       "2010    0.065206\n",
       "2014    0.065562\n",
       "Name: proportion, dtype: float64"
      ]
     },
     "execution_count": 25,
     "metadata": {},
     "output_type": "execute_result"
    }
   ],
   "source": [
    "speed_skating_df['Year'].value_counts(normalize=True, dropna=False).sort_index()"
   ]
  },
  {
   "cell_type": "markdown",
   "id": "a92931b4-a757-4787-a334-150e5431005d",
   "metadata": {},
   "source": [
    "## Сезон"
   ]
  },
  {
   "cell_type": "code",
   "execution_count": 26,
   "id": "5dea46e5-d6b5-486e-925b-963222d37b9e",
   "metadata": {},
   "outputs": [
    {
     "data": {
      "text/plain": [
       "Season\n",
       "Winter    1.0\n",
       "Name: proportion, dtype: float64"
      ]
     },
     "execution_count": 26,
     "metadata": {},
     "output_type": "execute_result"
    }
   ],
   "source": [
    "speed_skating_df['Season'].value_counts(normalize=True, dropna=False).sort_index()"
   ]
  },
  {
   "cell_type": "markdown",
   "id": "c32aa9bb-2a23-4629-808c-27e32220a4ed",
   "metadata": {},
   "source": [
    "## Город"
   ]
  },
  {
   "cell_type": "code",
   "execution_count": 27,
   "id": "27fc6992-2fcb-490b-a1bd-afeb16cda981",
   "metadata": {},
   "outputs": [
    {
     "data": {
      "text/plain": [
       "City\n",
       "Albertville               0.063068\n",
       "Calgary                   0.058079\n",
       "Chamonix                  0.019597\n",
       "Cortina d'Ampezzo         0.031890\n",
       "Garmisch-Partenkirchen    0.024942\n",
       "Grenoble                  0.049884\n",
       "Innsbruck                 0.095136\n",
       "Lake Placid               0.065206\n",
       "Lillehammer               0.056654\n",
       "Nagano                    0.059683\n",
       "Oslo                      0.025833\n",
       "Salt Lake City            0.059148\n",
       "Sankt Moritz              0.046321\n",
       "Sapporo                   0.043471\n",
       "Sarajevo                  0.058436\n",
       "Sochi                     0.065562\n",
       "Squaw Valley              0.044361\n",
       "Torino                    0.067522\n",
       "Vancouver                 0.065206\n",
       "Name: proportion, dtype: float64"
      ]
     },
     "execution_count": 27,
     "metadata": {},
     "output_type": "execute_result"
    }
   ],
   "source": [
    "speed_skating_df['City'].value_counts(normalize=True, dropna=False).sort_index()"
   ]
  },
  {
   "cell_type": "markdown",
   "id": "a8c90b28-cba6-452f-aa44-c768e7c902b6",
   "metadata": {},
   "source": [
    "## Спорт"
   ]
  },
  {
   "cell_type": "code",
   "execution_count": 28,
   "id": "d4a054a2-1c47-4dcf-bd3c-67ae45fe7861",
   "metadata": {},
   "outputs": [
    {
     "data": {
      "text/plain": [
       "Sport\n",
       "Speed Skating    1.0\n",
       "Name: proportion, dtype: float64"
      ]
     },
     "execution_count": 28,
     "metadata": {},
     "output_type": "execute_result"
    }
   ],
   "source": [
    "speed_skating_df['Sport'].value_counts(normalize=True, dropna=False).sort_index()"
   ]
  },
  {
   "cell_type": "code",
   "execution_count": 29,
   "id": "63a63183-cfa4-46bf-b063-8d1117b6cbca",
   "metadata": {},
   "outputs": [
    {
     "data": {
      "text/plain": [
       "<Axes: xlabel='Sport'>"
      ]
     },
     "execution_count": 29,
     "metadata": {},
     "output_type": "execute_result"
    },
    {
     "data": {
      "image/png": "[encoded data removed]",
      "text/plain": [
       "<Figure size 2000x1000 with 1 Axes>"
      ]
     },
     "metadata": {},
     "output_type": "display_data"
    }
   ],
   "source": [
    "speed_skating_df['Sport'].value_counts(normalize=True, dropna=False).sort_index().plot.bar(figsize=(20,10))"
   ]
  },
  {
   "cell_type": "markdown",
   "id": "03b7d39b-39bd-4660-bda7-7f2c4e1b2ba5",
   "metadata": {},
   "source": [
    "## Событие"
   ]
  },
  {
   "cell_type": "code",
   "execution_count": 30,
   "id": "4c8c0197-5564-4b6c-b292-c78677fc373e",
   "metadata": {},
   "outputs": [
    {
     "data": {
      "text/plain": [
       "Event\n",
       "Speed Skating Men's 1,000 metres               0.080171\n",
       "Speed Skating Men's 1,500 metres               0.157670\n",
       "Speed Skating Men's 10,000 metres              0.090861\n",
       "Speed Skating Men's 5,000 metres               0.130055\n",
       "Speed Skating Men's 500 metres                 0.150009\n",
       "Speed Skating Men's Allround                   0.004098\n",
       "Speed Skating Men's Team Pursuit (8 laps)      0.016391\n",
       "Speed Skating Women's 1,000 metres             0.088544\n",
       "Speed Skating Women's 1,500 metres             0.084447\n",
       "Speed Skating Women's 3,000 metres             0.072332\n",
       "Speed Skating Women's 5,000 metres             0.025655\n",
       "Speed Skating Women's 500 metres               0.083200\n",
       "Speed Skating Women's Team Pursuit (6 laps)    0.016569\n",
       "Name: proportion, dtype: float64"
      ]
     },
     "execution_count": 30,
     "metadata": {},
     "output_type": "execute_result"
    }
   ],
   "source": [
    "speed_skating_df['Event'].value_counts(normalize=True, dropna=False).sort_index()"
   ]
  },
  {
   "cell_type": "markdown",
   "id": "b3b76e3e-e8e9-45f1-8cbc-7d8253932ee3",
   "metadata": {},
   "source": [
    "## Медаль"
   ]
  },
  {
   "cell_type": "code",
   "execution_count": 31,
   "id": "9ac4d6e7-3d05-44ae-9a12-11ed4c1dc753",
   "metadata": {},
   "outputs": [
    {
     "data": {
      "text/plain": [
       "Medal\n",
       "Bronze    0.033850\n",
       "Gold      0.034384\n",
       "Silver    0.035097\n",
       "NaN       0.896668\n",
       "Name: proportion, dtype: float64"
      ]
     },
     "execution_count": 31,
     "metadata": {},
     "output_type": "execute_result"
    }
   ],
   "source": [
    "speed_skating_df['Medal'].value_counts(normalize=True, dropna=False).sort_index()"
   ]
  },
  {
   "cell_type": "markdown",
   "id": "365e8223-c258-4f16-b1e0-276827732e10",
   "metadata": {},
   "source": [
    "# Коррекция противоречивых данных"
   ]
  },
  {
   "cell_type": "markdown",
   "id": "0d68d269-aab4-4124-984e-6c2bb68c5f03",
   "metadata": {},
   "source": [
    "## Возраст"
   ]
  },
  {
   "cell_type": "code",
   "execution_count": 32,
   "id": "616d6c8a-fd5c-4162-800c-e2e65adfacb5",
   "metadata": {},
   "outputs": [
    {
     "data": {
      "text/plain": [
       "Age\n",
       "13.0    0.000356\n",
       "14.0    0.002138\n",
       "15.0    0.004098\n",
       "16.0    0.005701\n",
       "17.0    0.018707\n",
       "18.0    0.028862\n",
       "19.0    0.047212\n",
       "20.0    0.071798\n",
       "21.0    0.090148\n",
       "22.0    0.091751\n",
       "23.0    0.098699\n",
       "24.0    0.108320\n",
       "25.0    0.079993\n",
       "26.0    0.072867\n",
       "27.0    0.068769\n",
       "28.0    0.058258\n",
       "29.0    0.037235\n",
       "30.0    0.029931\n",
       "31.0    0.026189\n",
       "32.0    0.014431\n",
       "33.0    0.013896\n",
       "34.0    0.009264\n",
       "35.0    0.006414\n",
       "36.0    0.001960\n",
       "37.0    0.003207\n",
       "38.0    0.001960\n",
       "39.0    0.001425\n",
       "40.0    0.000891\n",
       "41.0    0.000713\n",
       "42.0    0.000356\n",
       "46.0    0.000713\n",
       "52.0    0.000356\n",
       "NaN     0.003385\n",
       "Name: proportion, dtype: float64"
      ]
     },
     "execution_count": 32,
     "metadata": {},
     "output_type": "execute_result"
    }
   ],
   "source": [
    "speed_skating_df['Age'].value_counts('Age', dropna=False).sort_index()"
   ]
  },
  {
   "cell_type": "code",
   "execution_count": 33,
   "id": "046d3fd6-7981-4c68-850b-5ace9aea93f1",
   "metadata": {},
   "outputs": [
    {
     "data": {
      "text/plain": [
       "<Axes: xlabel='Age'>"
      ]
     },
     "execution_count": 33,
     "metadata": {},
     "output_type": "execute_result"
    },
    {
     "data": {
      "image/png": "[encoded data removed]",
      "text/plain": [
       "<Figure size 2500x1000 with 1 Axes>"
      ]
     },
     "metadata": {},
     "output_type": "display_data"
    }
   ],
   "source": [
    "speed_skating_df['Age'].value_counts('Age', dropna=False).sort_index().plot.bar(figsize=(25,10))"
   ]
  },
  {
   "cell_type": "markdown",
   "id": "83720313-16d4-4897-88d2-be8d6def22ea",
   "metadata": {},
   "source": [
    "Тут есть противоречивые данные в виде возраста 13-14 лет. Это выглядит странно, так как во всех источниках указываеться что минимальный возраст участия - 15 лет. Попробуем найти этих участников"
   ]
  },
  {
   "cell_type": "code",
   "execution_count": 34,
   "id": "177b49f6-1906-445b-aafe-94a790ab6a78",
   "metadata": {},
   "outputs": [
    {
     "data": {
      "text/html": [
       "<div>\n",
       "<style scoped>\n",
       "    .dataframe tbody tr th:only-of-type {\n",
       "        vertical-align: middle;\n",
       "    }\n",
       "\n",
       "    .dataframe tbody tr th {\n",
       "        vertical-align: top;\n",
       "    }\n",
       "\n",
       "    .dataframe thead th {\n",
       "        text-align: right;\n",
       "    }\n",
       "</style>\n",
       "<table border=\"1\" class=\"dataframe\">\n",
       "  <thead>\n",
       "    <tr style=\"text-align: right;\">\n",
       "      <th></th>\n",
       "      <th>ID</th>\n",
       "      <th>Name</th>\n",
       "      <th>Sex</th>\n",
       "      <th>Age</th>\n",
       "      <th>Height</th>\n",
       "      <th>Weight</th>\n",
       "      <th>Team</th>\n",
       "      <th>NOC</th>\n",
       "      <th>Games</th>\n",
       "      <th>Year</th>\n",
       "      <th>Season</th>\n",
       "      <th>City</th>\n",
       "      <th>Sport</th>\n",
       "      <th>Event</th>\n",
       "      <th>Medal</th>\n",
       "    </tr>\n",
       "  </thead>\n",
       "  <tbody>\n",
       "    <tr>\n",
       "      <th>12379</th>\n",
       "      <td>6723</td>\n",
       "      <td>Baeg Eun-Bi</td>\n",
       "      <td>F</td>\n",
       "      <td>14.0</td>\n",
       "      <td>158.0</td>\n",
       "      <td>52.0</td>\n",
       "      <td>South Korea</td>\n",
       "      <td>KOR</td>\n",
       "      <td>1994 Winter</td>\n",
       "      <td>1994</td>\n",
       "      <td>Winter</td>\n",
       "      <td>Lillehammer</td>\n",
       "      <td>Speed Skating</td>\n",
       "      <td>Speed Skating Women's 3,000 metres</td>\n",
       "      <td>NaN</td>\n",
       "    </tr>\n",
       "    <tr>\n",
       "      <th>35933</th>\n",
       "      <td>18459</td>\n",
       "      <td>Helen Constance \"Connie\" Carpenter-Phinney</td>\n",
       "      <td>F</td>\n",
       "      <td>14.0</td>\n",
       "      <td>178.0</td>\n",
       "      <td>59.0</td>\n",
       "      <td>United States</td>\n",
       "      <td>USA</td>\n",
       "      <td>1972 Winter</td>\n",
       "      <td>1972</td>\n",
       "      <td>Winter</td>\n",
       "      <td>Sapporo</td>\n",
       "      <td>Speed Skating</td>\n",
       "      <td>Speed Skating Women's 1,500 metres</td>\n",
       "      <td>NaN</td>\n",
       "    </tr>\n",
       "    <tr>\n",
       "      <th>83113</th>\n",
       "      <td>42223</td>\n",
       "      <td>James Edward Graeffe</td>\n",
       "      <td>M</td>\n",
       "      <td>14.0</td>\n",
       "      <td>NaN</td>\n",
       "      <td>NaN</td>\n",
       "      <td>Belgium</td>\n",
       "      <td>BEL</td>\n",
       "      <td>1936 Winter</td>\n",
       "      <td>1936</td>\n",
       "      <td>Winter</td>\n",
       "      <td>Garmisch-Partenkirchen</td>\n",
       "      <td>Speed Skating</td>\n",
       "      <td>Speed Skating Men's 500 metres</td>\n",
       "      <td>NaN</td>\n",
       "    </tr>\n",
       "    <tr>\n",
       "      <th>83114</th>\n",
       "      <td>42223</td>\n",
       "      <td>James Edward Graeffe</td>\n",
       "      <td>M</td>\n",
       "      <td>14.0</td>\n",
       "      <td>NaN</td>\n",
       "      <td>NaN</td>\n",
       "      <td>Belgium</td>\n",
       "      <td>BEL</td>\n",
       "      <td>1936 Winter</td>\n",
       "      <td>1936</td>\n",
       "      <td>Winter</td>\n",
       "      <td>Garmisch-Partenkirchen</td>\n",
       "      <td>Speed Skating</td>\n",
       "      <td>Speed Skating Men's 1,500 metres</td>\n",
       "      <td>NaN</td>\n",
       "    </tr>\n",
       "    <tr>\n",
       "      <th>83115</th>\n",
       "      <td>42223</td>\n",
       "      <td>James Edward Graeffe</td>\n",
       "      <td>M</td>\n",
       "      <td>14.0</td>\n",
       "      <td>NaN</td>\n",
       "      <td>NaN</td>\n",
       "      <td>Belgium</td>\n",
       "      <td>BEL</td>\n",
       "      <td>1936 Winter</td>\n",
       "      <td>1936</td>\n",
       "      <td>Winter</td>\n",
       "      <td>Garmisch-Partenkirchen</td>\n",
       "      <td>Speed Skating</td>\n",
       "      <td>Speed Skating Men's 5,000 metres</td>\n",
       "      <td>NaN</td>\n",
       "    </tr>\n",
       "    <tr>\n",
       "      <th>134941</th>\n",
       "      <td>67898</td>\n",
       "      <td>Lee Gyeong-Hui</td>\n",
       "      <td>F</td>\n",
       "      <td>13.0</td>\n",
       "      <td>162.0</td>\n",
       "      <td>50.0</td>\n",
       "      <td>South Korea</td>\n",
       "      <td>KOR</td>\n",
       "      <td>1972 Winter</td>\n",
       "      <td>1972</td>\n",
       "      <td>Winter</td>\n",
       "      <td>Sapporo</td>\n",
       "      <td>Speed Skating</td>\n",
       "      <td>Speed Skating Women's 500 metres</td>\n",
       "      <td>NaN</td>\n",
       "    </tr>\n",
       "    <tr>\n",
       "      <th>134942</th>\n",
       "      <td>67898</td>\n",
       "      <td>Lee Gyeong-Hui</td>\n",
       "      <td>F</td>\n",
       "      <td>13.0</td>\n",
       "      <td>162.0</td>\n",
       "      <td>50.0</td>\n",
       "      <td>South Korea</td>\n",
       "      <td>KOR</td>\n",
       "      <td>1972 Winter</td>\n",
       "      <td>1972</td>\n",
       "      <td>Winter</td>\n",
       "      <td>Sapporo</td>\n",
       "      <td>Speed Skating</td>\n",
       "      <td>Speed Skating Women's 1,000 metres</td>\n",
       "      <td>NaN</td>\n",
       "    </tr>\n",
       "    <tr>\n",
       "      <th>135297</th>\n",
       "      <td>68078</td>\n",
       "      <td>Lee Nam-Sun</td>\n",
       "      <td>F</td>\n",
       "      <td>14.0</td>\n",
       "      <td>164.0</td>\n",
       "      <td>62.0</td>\n",
       "      <td>South Korea</td>\n",
       "      <td>KOR</td>\n",
       "      <td>1976 Winter</td>\n",
       "      <td>1976</td>\n",
       "      <td>Winter</td>\n",
       "      <td>Innsbruck</td>\n",
       "      <td>Speed Skating</td>\n",
       "      <td>Speed Skating Women's 500 metres</td>\n",
       "      <td>NaN</td>\n",
       "    </tr>\n",
       "    <tr>\n",
       "      <th>135298</th>\n",
       "      <td>68078</td>\n",
       "      <td>Lee Nam-Sun</td>\n",
       "      <td>F</td>\n",
       "      <td>14.0</td>\n",
       "      <td>164.0</td>\n",
       "      <td>62.0</td>\n",
       "      <td>South Korea</td>\n",
       "      <td>KOR</td>\n",
       "      <td>1976 Winter</td>\n",
       "      <td>1976</td>\n",
       "      <td>Winter</td>\n",
       "      <td>Innsbruck</td>\n",
       "      <td>Speed Skating</td>\n",
       "      <td>Speed Skating Women's 1,000 metres</td>\n",
       "      <td>NaN</td>\n",
       "    </tr>\n",
       "    <tr>\n",
       "      <th>135299</th>\n",
       "      <td>68078</td>\n",
       "      <td>Lee Nam-Sun</td>\n",
       "      <td>F</td>\n",
       "      <td>14.0</td>\n",
       "      <td>164.0</td>\n",
       "      <td>62.0</td>\n",
       "      <td>South Korea</td>\n",
       "      <td>KOR</td>\n",
       "      <td>1976 Winter</td>\n",
       "      <td>1976</td>\n",
       "      <td>Winter</td>\n",
       "      <td>Innsbruck</td>\n",
       "      <td>Speed Skating</td>\n",
       "      <td>Speed Skating Women's 1,500 metres</td>\n",
       "      <td>NaN</td>\n",
       "    </tr>\n",
       "    <tr>\n",
       "      <th>135300</th>\n",
       "      <td>68078</td>\n",
       "      <td>Lee Nam-Sun</td>\n",
       "      <td>F</td>\n",
       "      <td>14.0</td>\n",
       "      <td>164.0</td>\n",
       "      <td>62.0</td>\n",
       "      <td>South Korea</td>\n",
       "      <td>KOR</td>\n",
       "      <td>1976 Winter</td>\n",
       "      <td>1976</td>\n",
       "      <td>Winter</td>\n",
       "      <td>Innsbruck</td>\n",
       "      <td>Speed Skating</td>\n",
       "      <td>Speed Skating Women's 3,000 metres</td>\n",
       "      <td>NaN</td>\n",
       "    </tr>\n",
       "    <tr>\n",
       "      <th>143977</th>\n",
       "      <td>72265</td>\n",
       "      <td>Kathryn Ann \"Kay\" Lunda (-Vandevrede)</td>\n",
       "      <td>F</td>\n",
       "      <td>14.0</td>\n",
       "      <td>167.0</td>\n",
       "      <td>58.0</td>\n",
       "      <td>United States</td>\n",
       "      <td>USA</td>\n",
       "      <td>1972 Winter</td>\n",
       "      <td>1972</td>\n",
       "      <td>Winter</td>\n",
       "      <td>Sapporo</td>\n",
       "      <td>Speed Skating</td>\n",
       "      <td>Speed Skating Women's 500 metres</td>\n",
       "      <td>NaN</td>\n",
       "    </tr>\n",
       "    <tr>\n",
       "      <th>185466</th>\n",
       "      <td>93243</td>\n",
       "      <td>Marzia Peretti</td>\n",
       "      <td>F</td>\n",
       "      <td>14.0</td>\n",
       "      <td>NaN</td>\n",
       "      <td>NaN</td>\n",
       "      <td>Italy</td>\n",
       "      <td>ITA</td>\n",
       "      <td>1980 Winter</td>\n",
       "      <td>1980</td>\n",
       "      <td>Winter</td>\n",
       "      <td>Lake Placid</td>\n",
       "      <td>Speed Skating</td>\n",
       "      <td>Speed Skating Women's 500 metres</td>\n",
       "      <td>NaN</td>\n",
       "    </tr>\n",
       "    <tr>\n",
       "      <th>185467</th>\n",
       "      <td>93243</td>\n",
       "      <td>Marzia Peretti</td>\n",
       "      <td>F</td>\n",
       "      <td>14.0</td>\n",
       "      <td>NaN</td>\n",
       "      <td>NaN</td>\n",
       "      <td>Italy</td>\n",
       "      <td>ITA</td>\n",
       "      <td>1980 Winter</td>\n",
       "      <td>1980</td>\n",
       "      <td>Winter</td>\n",
       "      <td>Lake Placid</td>\n",
       "      <td>Speed Skating</td>\n",
       "      <td>Speed Skating Women's 1,000 metres</td>\n",
       "      <td>NaN</td>\n",
       "    </tr>\n",
       "  </tbody>\n",
       "</table>\n",
       "</div>"
      ],
      "text/plain": [
       "           ID                                        Name Sex   Age  Height  \\\n",
       "12379    6723                                 Baeg Eun-Bi   F  14.0   158.0   \n",
       "35933   18459  Helen Constance \"Connie\" Carpenter-Phinney   F  14.0   178.0   \n",
       "83113   42223                        James Edward Graeffe   M  14.0     NaN   \n",
       "83114   42223                        James Edward Graeffe   M  14.0     NaN   \n",
       "83115   42223                        James Edward Graeffe   M  14.0     NaN   \n",
       "134941  67898                              Lee Gyeong-Hui   F  13.0   162.0   \n",
       "134942  67898                              Lee Gyeong-Hui   F  13.0   162.0   \n",
       "135297  68078                                 Lee Nam-Sun   F  14.0   164.0   \n",
       "135298  68078                                 Lee Nam-Sun   F  14.0   164.0   \n",
       "135299  68078                                 Lee Nam-Sun   F  14.0   164.0   \n",
       "135300  68078                                 Lee Nam-Sun   F  14.0   164.0   \n",
       "143977  72265       Kathryn Ann \"Kay\" Lunda (-Vandevrede)   F  14.0   167.0   \n",
       "185466  93243                              Marzia Peretti   F  14.0     NaN   \n",
       "185467  93243                              Marzia Peretti   F  14.0     NaN   \n",
       "\n",
       "        Weight           Team  NOC        Games  Year  Season  \\\n",
       "12379     52.0    South Korea  KOR  1994 Winter  1994  Winter   \n",
       "35933     59.0  United States  USA  1972 Winter  1972  Winter   \n",
       "83113      NaN        Belgium  BEL  1936 Winter  1936  Winter   \n",
       "83114      NaN        Belgium  BEL  1936 Winter  1936  Winter   \n",
       "83115      NaN        Belgium  BEL  1936 Winter  1936  Winter   \n",
       "134941    50.0    South Korea  KOR  1972 Winter  1972  Winter   \n",
       "134942    50.0    South Korea  KOR  1972 Winter  1972  Winter   \n",
       "135297    62.0    South Korea  KOR  1976 Winter  1976  Winter   \n",
       "135298    62.0    South Korea  KOR  1976 Winter  1976  Winter   \n",
       "135299    62.0    South Korea  KOR  1976 Winter  1976  Winter   \n",
       "135300    62.0    South Korea  KOR  1976 Winter  1976  Winter   \n",
       "143977    58.0  United States  USA  1972 Winter  1972  Winter   \n",
       "185466     NaN          Italy  ITA  1980 Winter  1980  Winter   \n",
       "185467     NaN          Italy  ITA  1980 Winter  1980  Winter   \n",
       "\n",
       "                          City          Sport  \\\n",
       "12379              Lillehammer  Speed Skating   \n",
       "35933                  Sapporo  Speed Skating   \n",
       "83113   Garmisch-Partenkirchen  Speed Skating   \n",
       "83114   Garmisch-Partenkirchen  Speed Skating   \n",
       "83115   Garmisch-Partenkirchen  Speed Skating   \n",
       "134941                 Sapporo  Speed Skating   \n",
       "134942                 Sapporo  Speed Skating   \n",
       "135297               Innsbruck  Speed Skating   \n",
       "135298               Innsbruck  Speed Skating   \n",
       "135299               Innsbruck  Speed Skating   \n",
       "135300               Innsbruck  Speed Skating   \n",
       "143977                 Sapporo  Speed Skating   \n",
       "185466             Lake Placid  Speed Skating   \n",
       "185467             Lake Placid  Speed Skating   \n",
       "\n",
       "                                     Event Medal  \n",
       "12379   Speed Skating Women's 3,000 metres   NaN  \n",
       "35933   Speed Skating Women's 1,500 metres   NaN  \n",
       "83113       Speed Skating Men's 500 metres   NaN  \n",
       "83114     Speed Skating Men's 1,500 metres   NaN  \n",
       "83115     Speed Skating Men's 5,000 metres   NaN  \n",
       "134941    Speed Skating Women's 500 metres   NaN  \n",
       "134942  Speed Skating Women's 1,000 metres   NaN  \n",
       "135297    Speed Skating Women's 500 metres   NaN  \n",
       "135298  Speed Skating Women's 1,000 metres   NaN  \n",
       "135299  Speed Skating Women's 1,500 metres   NaN  \n",
       "135300  Speed Skating Women's 3,000 metres   NaN  \n",
       "143977    Speed Skating Women's 500 metres   NaN  \n",
       "185466    Speed Skating Women's 500 metres   NaN  \n",
       "185467  Speed Skating Women's 1,000 metres   NaN  "
      ]
     },
     "execution_count": 34,
     "metadata": {},
     "output_type": "execute_result"
    }
   ],
   "source": [
    "speed_skating_df[speed_skating_df['Age'] < 15].sort_index()"
   ]
  },
  {
   "cell_type": "markdown",
   "id": "cd0befa5-0143-49ed-a053-279bb3fa72bd",
   "metadata": {},
   "source": [
    "Ссылки на статьи о данных участниках:\n",
    "\n",
    "https://en.wikipedia.org/wiki/Marzia_Peretti\n",
    "\n",
    "https://en.wikipedia.org/wiki/Kay_Lunda\n",
    "\n",
    "https://en.wikipedia.org/wiki/Lee_Nam-sun\n",
    "\n",
    "https://en.wikipedia.org/wiki/Baek_Eun-bi\n",
    "\n",
    "https://ru.wikipedia.org/wiki/%D0%9A%D0%B0%D1%80%D0%BF%D0%B5%D0%BD%D1%82%D0%B5%D1%80-%D0%A4%D0%B8%D0%BD%D0%BD%D0%B8,_%D0%9A%D0%BE%D0%BD%D0%BD%D0%B8\n",
    "\n",
    "https://en.wikipedia.org/wiki/James_Graeffe\n",
    "\n",
    "https://en.wikipedia.org/wiki/Lee_Gyeong-hui"
   ]
  },
  {
   "cell_type": "markdown",
   "id": "10088cfe-3e87-4cb1-aead-3c8e573c74c7",
   "metadata": {},
   "source": [
    "Участник Baeg Eun-Bi по открытой информации участвовал несколько раз в ОИ, но тут представлен как один. Попробуем найти его в выборке"
   ]
  },
  {
   "cell_type": "code",
   "execution_count": 35,
   "id": "d00a24b2-b19f-4449-9ff3-70ce500bd9cc",
   "metadata": {},
   "outputs": [
    {
     "data": {
      "text/html": [
       "<div>\n",
       "<style scoped>\n",
       "    .dataframe tbody tr th:only-of-type {\n",
       "        vertical-align: middle;\n",
       "    }\n",
       "\n",
       "    .dataframe tbody tr th {\n",
       "        vertical-align: top;\n",
       "    }\n",
       "\n",
       "    .dataframe thead th {\n",
       "        text-align: right;\n",
       "    }\n",
       "</style>\n",
       "<table border=\"1\" class=\"dataframe\">\n",
       "  <thead>\n",
       "    <tr style=\"text-align: right;\">\n",
       "      <th></th>\n",
       "      <th>ID</th>\n",
       "      <th>Name</th>\n",
       "      <th>Sex</th>\n",
       "      <th>Age</th>\n",
       "      <th>Height</th>\n",
       "      <th>Weight</th>\n",
       "      <th>Team</th>\n",
       "      <th>NOC</th>\n",
       "      <th>Games</th>\n",
       "      <th>Year</th>\n",
       "      <th>Season</th>\n",
       "      <th>City</th>\n",
       "      <th>Sport</th>\n",
       "      <th>Event</th>\n",
       "      <th>Medal</th>\n",
       "    </tr>\n",
       "  </thead>\n",
       "  <tbody>\n",
       "    <tr>\n",
       "      <th>12379</th>\n",
       "      <td>6723</td>\n",
       "      <td>Baeg Eun-Bi</td>\n",
       "      <td>F</td>\n",
       "      <td>14.0</td>\n",
       "      <td>158.0</td>\n",
       "      <td>52.0</td>\n",
       "      <td>South Korea</td>\n",
       "      <td>KOR</td>\n",
       "      <td>1994 Winter</td>\n",
       "      <td>1994</td>\n",
       "      <td>Winter</td>\n",
       "      <td>Lillehammer</td>\n",
       "      <td>Speed Skating</td>\n",
       "      <td>Speed Skating Women's 3,000 metres</td>\n",
       "      <td>NaN</td>\n",
       "    </tr>\n",
       "    <tr>\n",
       "      <th>12380</th>\n",
       "      <td>6723</td>\n",
       "      <td>Baeg Eun-Bi</td>\n",
       "      <td>F</td>\n",
       "      <td>18.0</td>\n",
       "      <td>158.0</td>\n",
       "      <td>52.0</td>\n",
       "      <td>South Korea</td>\n",
       "      <td>KOR</td>\n",
       "      <td>1998 Winter</td>\n",
       "      <td>1998</td>\n",
       "      <td>Winter</td>\n",
       "      <td>Nagano</td>\n",
       "      <td>Speed Skating</td>\n",
       "      <td>Speed Skating Women's 1,500 metres</td>\n",
       "      <td>NaN</td>\n",
       "    </tr>\n",
       "    <tr>\n",
       "      <th>12381</th>\n",
       "      <td>6723</td>\n",
       "      <td>Baeg Eun-Bi</td>\n",
       "      <td>F</td>\n",
       "      <td>18.0</td>\n",
       "      <td>158.0</td>\n",
       "      <td>52.0</td>\n",
       "      <td>South Korea</td>\n",
       "      <td>KOR</td>\n",
       "      <td>1998 Winter</td>\n",
       "      <td>1998</td>\n",
       "      <td>Winter</td>\n",
       "      <td>Nagano</td>\n",
       "      <td>Speed Skating</td>\n",
       "      <td>Speed Skating Women's 3,000 metres</td>\n",
       "      <td>NaN</td>\n",
       "    </tr>\n",
       "    <tr>\n",
       "      <th>12382</th>\n",
       "      <td>6723</td>\n",
       "      <td>Baeg Eun-Bi</td>\n",
       "      <td>F</td>\n",
       "      <td>22.0</td>\n",
       "      <td>158.0</td>\n",
       "      <td>52.0</td>\n",
       "      <td>South Korea</td>\n",
       "      <td>KOR</td>\n",
       "      <td>2002 Winter</td>\n",
       "      <td>2002</td>\n",
       "      <td>Winter</td>\n",
       "      <td>Salt Lake City</td>\n",
       "      <td>Speed Skating</td>\n",
       "      <td>Speed Skating Women's 1,500 metres</td>\n",
       "      <td>NaN</td>\n",
       "    </tr>\n",
       "    <tr>\n",
       "      <th>12383</th>\n",
       "      <td>6723</td>\n",
       "      <td>Baeg Eun-Bi</td>\n",
       "      <td>F</td>\n",
       "      <td>22.0</td>\n",
       "      <td>158.0</td>\n",
       "      <td>52.0</td>\n",
       "      <td>South Korea</td>\n",
       "      <td>KOR</td>\n",
       "      <td>2002 Winter</td>\n",
       "      <td>2002</td>\n",
       "      <td>Winter</td>\n",
       "      <td>Salt Lake City</td>\n",
       "      <td>Speed Skating</td>\n",
       "      <td>Speed Skating Women's 3,000 metres</td>\n",
       "      <td>NaN</td>\n",
       "    </tr>\n",
       "  </tbody>\n",
       "</table>\n",
       "</div>"
      ],
      "text/plain": [
       "         ID         Name Sex   Age  Height  Weight         Team  NOC  \\\n",
       "12379  6723  Baeg Eun-Bi   F  14.0   158.0    52.0  South Korea  KOR   \n",
       "12380  6723  Baeg Eun-Bi   F  18.0   158.0    52.0  South Korea  KOR   \n",
       "12381  6723  Baeg Eun-Bi   F  18.0   158.0    52.0  South Korea  KOR   \n",
       "12382  6723  Baeg Eun-Bi   F  22.0   158.0    52.0  South Korea  KOR   \n",
       "12383  6723  Baeg Eun-Bi   F  22.0   158.0    52.0  South Korea  KOR   \n",
       "\n",
       "             Games  Year  Season            City          Sport  \\\n",
       "12379  1994 Winter  1994  Winter     Lillehammer  Speed Skating   \n",
       "12380  1998 Winter  1998  Winter          Nagano  Speed Skating   \n",
       "12381  1998 Winter  1998  Winter          Nagano  Speed Skating   \n",
       "12382  2002 Winter  2002  Winter  Salt Lake City  Speed Skating   \n",
       "12383  2002 Winter  2002  Winter  Salt Lake City  Speed Skating   \n",
       "\n",
       "                                    Event Medal  \n",
       "12379  Speed Skating Women's 3,000 metres   NaN  \n",
       "12380  Speed Skating Women's 1,500 metres   NaN  \n",
       "12381  Speed Skating Women's 3,000 metres   NaN  \n",
       "12382  Speed Skating Women's 1,500 metres   NaN  \n",
       "12383  Speed Skating Women's 3,000 metres   NaN  "
      ]
     },
     "execution_count": 35,
     "metadata": {},
     "output_type": "execute_result"
    }
   ],
   "source": [
    "speed_skating_df[speed_skating_df['Name'] == 'Baeg Eun-Bi'].sort_index()"
   ]
  },
  {
   "cell_type": "markdown",
   "id": "9595d298-7eaa-431a-b439-193635851465",
   "metadata": {},
   "source": [
    "Информация по данному участнику верна"
   ]
  },
  {
   "cell_type": "markdown",
   "id": "62875f51-4375-469c-95e1-1bed0ddbb761",
   "metadata": {},
   "source": [
    "По остальным участникам ифнормация верна, можно проверить ссылки "
   ]
  },
  {
   "cell_type": "code",
   "execution_count": 36,
   "id": "17adb7c7-0db5-4f61-9b4a-6e223d3b68e1",
   "metadata": {},
   "outputs": [
    {
     "data": {
      "text/html": [
       "<div>\n",
       "<style scoped>\n",
       "    .dataframe tbody tr th:only-of-type {\n",
       "        vertical-align: middle;\n",
       "    }\n",
       "\n",
       "    .dataframe tbody tr th {\n",
       "        vertical-align: top;\n",
       "    }\n",
       "\n",
       "    .dataframe thead th {\n",
       "        text-align: right;\n",
       "    }\n",
       "</style>\n",
       "<table border=\"1\" class=\"dataframe\">\n",
       "  <thead>\n",
       "    <tr style=\"text-align: right;\">\n",
       "      <th></th>\n",
       "      <th>ID</th>\n",
       "      <th>Name</th>\n",
       "      <th>Sex</th>\n",
       "      <th>Age</th>\n",
       "      <th>Height</th>\n",
       "      <th>Weight</th>\n",
       "      <th>Team</th>\n",
       "      <th>NOC</th>\n",
       "      <th>Games</th>\n",
       "      <th>Year</th>\n",
       "      <th>Season</th>\n",
       "      <th>City</th>\n",
       "      <th>Sport</th>\n",
       "      <th>Event</th>\n",
       "      <th>Medal</th>\n",
       "    </tr>\n",
       "  </thead>\n",
       "  <tbody>\n",
       "    <tr>\n",
       "      <th>237266</th>\n",
       "      <td>118995</td>\n",
       "      <td>Albert Edward Tebbit</td>\n",
       "      <td>M</td>\n",
       "      <td>52.0</td>\n",
       "      <td>NaN</td>\n",
       "      <td>NaN</td>\n",
       "      <td>Great Britain</td>\n",
       "      <td>GBR</td>\n",
       "      <td>1924 Winter</td>\n",
       "      <td>1924</td>\n",
       "      <td>Winter</td>\n",
       "      <td>Chamonix</td>\n",
       "      <td>Speed Skating</td>\n",
       "      <td>Speed Skating Men's 5,000 metres</td>\n",
       "      <td>NaN</td>\n",
       "    </tr>\n",
       "    <tr>\n",
       "      <th>237267</th>\n",
       "      <td>118995</td>\n",
       "      <td>Albert Edward Tebbit</td>\n",
       "      <td>M</td>\n",
       "      <td>52.0</td>\n",
       "      <td>NaN</td>\n",
       "      <td>NaN</td>\n",
       "      <td>Great Britain</td>\n",
       "      <td>GBR</td>\n",
       "      <td>1924 Winter</td>\n",
       "      <td>1924</td>\n",
       "      <td>Winter</td>\n",
       "      <td>Chamonix</td>\n",
       "      <td>Speed Skating</td>\n",
       "      <td>Speed Skating Men's Allround</td>\n",
       "      <td>NaN</td>\n",
       "    </tr>\n",
       "  </tbody>\n",
       "</table>\n",
       "</div>"
      ],
      "text/plain": [
       "            ID                  Name Sex   Age  Height  Weight           Team  \\\n",
       "237266  118995  Albert Edward Tebbit   M  52.0     NaN     NaN  Great Britain   \n",
       "237267  118995  Albert Edward Tebbit   M  52.0     NaN     NaN  Great Britain   \n",
       "\n",
       "        NOC        Games  Year  Season      City          Sport  \\\n",
       "237266  GBR  1924 Winter  1924  Winter  Chamonix  Speed Skating   \n",
       "237267  GBR  1924 Winter  1924  Winter  Chamonix  Speed Skating   \n",
       "\n",
       "                                   Event Medal  \n",
       "237266  Speed Skating Men's 5,000 metres   NaN  \n",
       "237267      Speed Skating Men's Allround   NaN  "
      ]
     },
     "execution_count": 36,
     "metadata": {},
     "output_type": "execute_result"
    }
   ],
   "source": [
    "speed_skating_df[speed_skating_df['Age'] > 50].sort_index()"
   ]
  },
  {
   "cell_type": "markdown",
   "id": "447cb5f7-e0ac-4d67-875e-c1d59fcfc319",
   "metadata": {},
   "source": [
    "https://en.wikipedia.org/wiki/Albert_Tebbit\n",
    "\n",
    "Информация верна"
   ]
  },
  {
   "cell_type": "markdown",
   "id": "df54a3f9-6217-4a99-b5e0-b79fffaf0cfa",
   "metadata": {},
   "source": [
    "## Рост"
   ]
  },
  {
   "cell_type": "code",
   "execution_count": 37,
   "id": "a1194913-c17e-4d6f-b502-7b47710b22e3",
   "metadata": {},
   "outputs": [
    {
     "data": {
      "text/plain": [
       "Height\n",
       "149.0    0.000356\n",
       "151.0    0.000178\n",
       "152.0    0.001425\n",
       "153.0    0.004098\n",
       "154.0    0.001247\n",
       "155.0    0.001425\n",
       "156.0    0.004632\n",
       "157.0    0.006414\n",
       "158.0    0.008017\n",
       "159.0    0.007483\n",
       "160.0    0.022270\n",
       "161.0    0.004988\n",
       "162.0    0.021735\n",
       "163.0    0.016391\n",
       "164.0    0.017816\n",
       "165.0    0.024586\n",
       "166.0    0.014253\n",
       "167.0    0.041867\n",
       "168.0    0.038126\n",
       "169.0    0.017459\n",
       "170.0    0.046321\n",
       "171.0    0.025298\n",
       "172.0    0.035097\n",
       "173.0    0.033850\n",
       "174.0    0.022804\n",
       "175.0    0.040620\n",
       "176.0    0.015143\n",
       "177.0    0.016747\n",
       "178.0    0.042402\n",
       "179.0    0.011402\n",
       "180.0    0.055585\n",
       "181.0    0.021023\n",
       "182.0    0.029574\n",
       "183.0    0.034563\n",
       "184.0    0.014965\n",
       "185.0    0.029396\n",
       "186.0    0.011937\n",
       "187.0    0.010868\n",
       "188.0    0.012649\n",
       "189.0    0.013184\n",
       "190.0    0.017281\n",
       "191.0    0.001069\n",
       "192.0    0.004098\n",
       "193.0    0.002672\n",
       "194.0    0.000178\n",
       "197.0    0.001069\n",
       "199.0    0.000713\n",
       "200.0    0.000356\n",
       "203.0    0.000178\n",
       "NaN      0.194192\n",
       "Name: proportion, dtype: float64"
      ]
     },
     "execution_count": 37,
     "metadata": {},
     "output_type": "execute_result"
    }
   ],
   "source": [
    "speed_skating_df['Height'].value_counts('Height', dropna=False).sort_index()"
   ]
  },
  {
   "cell_type": "code",
   "execution_count": 38,
   "id": "5ce750fa-714e-4107-8d94-89c7173ec176",
   "metadata": {},
   "outputs": [
    {
     "data": {
      "text/plain": [
       "<Axes: xlabel='Height'>"
      ]
     },
     "execution_count": 38,
     "metadata": {},
     "output_type": "execute_result"
    },
    {
     "data": {
      "image/png": "[encoded data removed]",
      "text/plain": [
       "<Figure size 2500x1000 with 1 Axes>"
      ]
     },
     "metadata": {},
     "output_type": "display_data"
    }
   ],
   "source": [
    "speed_skating_df['Height'].value_counts('Height', dropna=False).sort_index().plot.bar(figsize=(25,10))"
   ]
  },
  {
   "cell_type": "markdown",
   "id": "7633f6d0-404e-4990-ae1c-affe3de72108",
   "metadata": {},
   "source": [
    "В данной выборке все данные корректны (за исключением NAN)"
   ]
  },
  {
   "cell_type": "code",
   "execution_count": 39,
   "id": "2974abae-39d4-4da9-8218-b19b699e8ebd",
   "metadata": {},
   "outputs": [
    {
     "data": {
      "text/html": [
       "<div>\n",
       "<style scoped>\n",
       "    .dataframe tbody tr th:only-of-type {\n",
       "        vertical-align: middle;\n",
       "    }\n",
       "\n",
       "    .dataframe tbody tr th {\n",
       "        vertical-align: top;\n",
       "    }\n",
       "\n",
       "    .dataframe thead th {\n",
       "        text-align: right;\n",
       "    }\n",
       "</style>\n",
       "<table border=\"1\" class=\"dataframe\">\n",
       "  <thead>\n",
       "    <tr style=\"text-align: right;\">\n",
       "      <th></th>\n",
       "      <th>ID</th>\n",
       "      <th>Name</th>\n",
       "      <th>Sex</th>\n",
       "      <th>Age</th>\n",
       "      <th>Height</th>\n",
       "      <th>Weight</th>\n",
       "      <th>Team</th>\n",
       "      <th>NOC</th>\n",
       "      <th>Games</th>\n",
       "      <th>Year</th>\n",
       "      <th>Season</th>\n",
       "      <th>City</th>\n",
       "      <th>Sport</th>\n",
       "      <th>Event</th>\n",
       "      <th>Medal</th>\n",
       "    </tr>\n",
       "  </thead>\n",
       "  <tbody>\n",
       "    <tr>\n",
       "      <th>213653</th>\n",
       "      <td>107290</td>\n",
       "      <td>Roger Robert Schneider</td>\n",
       "      <td>M</td>\n",
       "      <td>26.0</td>\n",
       "      <td>203.0</td>\n",
       "      <td>100.0</td>\n",
       "      <td>Switzerland</td>\n",
       "      <td>SUI</td>\n",
       "      <td>2010 Winter</td>\n",
       "      <td>2010</td>\n",
       "      <td>Winter</td>\n",
       "      <td>Vancouver</td>\n",
       "      <td>Speed Skating</td>\n",
       "      <td>Speed Skating Men's 5,000 metres</td>\n",
       "      <td>NaN</td>\n",
       "    </tr>\n",
       "  </tbody>\n",
       "</table>\n",
       "</div>"
      ],
      "text/plain": [
       "            ID                    Name Sex   Age  Height  Weight         Team  \\\n",
       "213653  107290  Roger Robert Schneider   M  26.0   203.0   100.0  Switzerland   \n",
       "\n",
       "        NOC        Games  Year  Season       City          Sport  \\\n",
       "213653  SUI  2010 Winter  2010  Winter  Vancouver  Speed Skating   \n",
       "\n",
       "                                   Event Medal  \n",
       "213653  Speed Skating Men's 5,000 metres   NaN  "
      ]
     },
     "execution_count": 39,
     "metadata": {},
     "output_type": "execute_result"
    }
   ],
   "source": [
    "speed_skating_df[speed_skating_df['Height'] > 200]"
   ]
  },
  {
   "cell_type": "markdown",
   "id": "0b04d7cd-370c-4670-b560-e83813e741ae",
   "metadata": {},
   "source": [
    "https://www.olympedia.org/athletes/119715"
   ]
  },
  {
   "cell_type": "markdown",
   "id": "fedbed2f-fb4e-4cb8-a783-81f4c6f9464d",
   "metadata": {},
   "source": [
    "## Вес"
   ]
  },
  {
   "cell_type": "code",
   "execution_count": 40,
   "id": "ec698cbe-d8c9-4503-83c1-510b95705439",
   "metadata": {},
   "outputs": [
    {
     "data": {
      "text/plain": [
       "Weight\n",
       "46.0     0.001425\n",
       "47.0     0.000713\n",
       "48.0     0.002138\n",
       "49.0     0.000356\n",
       "50.0     0.004276\n",
       "51.0     0.005345\n",
       "52.0     0.008017\n",
       "53.0     0.004098\n",
       "54.0     0.005701\n",
       "55.0     0.008908\n",
       "56.0     0.016391\n",
       "57.0     0.023695\n",
       "58.0     0.029574\n",
       "59.0     0.021557\n",
       "59.5     0.001247\n",
       "60.0     0.024051\n",
       "61.0     0.026367\n",
       "62.0     0.026367\n",
       "63.0     0.024051\n",
       "64.0     0.020132\n",
       "65.0     0.030465\n",
       "65.5     0.000356\n",
       "66.0     0.029931\n",
       "67.0     0.020310\n",
       "68.0     0.022626\n",
       "69.0     0.010868\n",
       "70.0     0.041511\n",
       "71.0     0.019241\n",
       "72.0     0.033672\n",
       "73.0     0.024764\n",
       "74.0     0.017281\n",
       "75.0     0.044896\n",
       "75.5     0.000713\n",
       "76.0     0.021379\n",
       "77.0     0.020666\n",
       "78.0     0.024942\n",
       "79.0     0.016925\n",
       "80.0     0.034741\n",
       "81.0     0.008552\n",
       "82.0     0.022626\n",
       "83.0     0.008373\n",
       "84.0     0.012471\n",
       "85.0     0.023517\n",
       "86.0     0.007839\n",
       "87.0     0.003207\n",
       "88.0     0.009264\n",
       "89.0     0.001782\n",
       "90.0     0.009086\n",
       "91.0     0.000356\n",
       "92.0     0.003029\n",
       "93.0     0.003029\n",
       "95.0     0.002138\n",
       "96.0     0.001603\n",
       "97.0     0.000891\n",
       "100.0    0.000178\n",
       "NaN      0.212364\n",
       "Name: proportion, dtype: float64"
      ]
     },
     "execution_count": 40,
     "metadata": {},
     "output_type": "execute_result"
    }
   ],
   "source": [
    "speed_skating_df['Weight'].value_counts('Weight', dropna=False).sort_index()"
   ]
  },
  {
   "cell_type": "code",
   "execution_count": 41,
   "id": "9783b906-4289-4777-a08b-dfe49d458469",
   "metadata": {},
   "outputs": [
    {
     "data": {
      "text/plain": [
       "<Axes: xlabel='Weight'>"
      ]
     },
     "execution_count": 41,
     "metadata": {},
     "output_type": "execute_result"
    },
    {
     "data": {
      "image/png": "[encoded data removed]",
      "text/plain": [
       "<Figure size 2500x1000 with 1 Axes>"
      ]
     },
     "metadata": {},
     "output_type": "display_data"
    }
   ],
   "source": [
    "speed_skating_df['Weight'].value_counts('Weight', dropna=False).sort_index().plot.bar(figsize=(25,10))"
   ]
  },
  {
   "cell_type": "markdown",
   "id": "066704f5-16ab-47d5-ba61-8567a36b8f91",
   "metadata": {},
   "source": [
    "Тут все данные соответствуют действительности"
   ]
  },
  {
   "cell_type": "markdown",
   "id": "a3f2d452-22d7-4f91-ba32-462fb982d6d1",
   "metadata": {},
   "source": [
    "# Обработка пропусков"
   ]
  },
  {
   "cell_type": "code",
   "execution_count": 42,
   "id": "e8923b3c-f068-4479-a8a5-c37bd19805cd",
   "metadata": {},
   "outputs": [
    {
     "data": {
      "text/plain": [
       "Medal     0.896668\n",
       "Weight    0.212364\n",
       "Height    0.194192\n",
       "Age       0.003385\n",
       "ID        0.000000\n",
       "Name      0.000000\n",
       "Sex       0.000000\n",
       "Team      0.000000\n",
       "NOC       0.000000\n",
       "Games     0.000000\n",
       "Year      0.000000\n",
       "Season    0.000000\n",
       "City      0.000000\n",
       "Sport     0.000000\n",
       "Event     0.000000\n",
       "dtype: float64"
      ]
     },
     "execution_count": 42,
     "metadata": {},
     "output_type": "execute_result"
    }
   ],
   "source": [
    "speed_skating_df.isna().mean().sort_values(ascending=False)"
   ]
  },
  {
   "cell_type": "markdown",
   "id": "9c703615-6eb2-4169-a00e-ad34bc346af5",
   "metadata": {},
   "source": [
    "## Возраст"
   ]
  },
  {
   "cell_type": "code",
   "execution_count": 44,
   "id": "a49f69d6-fa0a-4b61-a4c8-446b7c3ad677",
   "metadata": {},
   "outputs": [
    {
     "data": {
      "text/html": [
       "<div>\n",
       "<style scoped>\n",
       "    .dataframe tbody tr th:only-of-type {\n",
       "        vertical-align: middle;\n",
       "    }\n",
       "\n",
       "    .dataframe tbody tr th {\n",
       "        vertical-align: top;\n",
       "    }\n",
       "\n",
       "    .dataframe thead th {\n",
       "        text-align: right;\n",
       "    }\n",
       "</style>\n",
       "<table border=\"1\" class=\"dataframe\">\n",
       "  <thead>\n",
       "    <tr style=\"text-align: right;\">\n",
       "      <th></th>\n",
       "      <th>ID</th>\n",
       "      <th>Name</th>\n",
       "      <th>Sex</th>\n",
       "      <th>Age</th>\n",
       "      <th>Height</th>\n",
       "      <th>Weight</th>\n",
       "      <th>Team</th>\n",
       "      <th>NOC</th>\n",
       "      <th>Games</th>\n",
       "      <th>Year</th>\n",
       "      <th>Season</th>\n",
       "      <th>City</th>\n",
       "      <th>Sport</th>\n",
       "      <th>Event</th>\n",
       "      <th>Medal</th>\n",
       "    </tr>\n",
       "  </thead>\n",
       "  <tbody>\n",
       "    <tr>\n",
       "      <th>56232</th>\n",
       "      <td>28806</td>\n",
       "      <td>Frederick William \"Fred\" Dix</td>\n",
       "      <td>M</td>\n",
       "      <td>NaN</td>\n",
       "      <td>178.0</td>\n",
       "      <td>74.0</td>\n",
       "      <td>Great Britain</td>\n",
       "      <td>GBR</td>\n",
       "      <td>1924 Winter</td>\n",
       "      <td>1924</td>\n",
       "      <td>Winter</td>\n",
       "      <td>Chamonix</td>\n",
       "      <td>Speed Skating</td>\n",
       "      <td>Speed Skating Men's 500 metres</td>\n",
       "      <td>NaN</td>\n",
       "    </tr>\n",
       "    <tr>\n",
       "      <th>56233</th>\n",
       "      <td>28806</td>\n",
       "      <td>Frederick William \"Fred\" Dix</td>\n",
       "      <td>M</td>\n",
       "      <td>NaN</td>\n",
       "      <td>178.0</td>\n",
       "      <td>74.0</td>\n",
       "      <td>Great Britain</td>\n",
       "      <td>GBR</td>\n",
       "      <td>1924 Winter</td>\n",
       "      <td>1924</td>\n",
       "      <td>Winter</td>\n",
       "      <td>Chamonix</td>\n",
       "      <td>Speed Skating</td>\n",
       "      <td>Speed Skating Men's Allround</td>\n",
       "      <td>NaN</td>\n",
       "    </tr>\n",
       "    <tr>\n",
       "      <th>56234</th>\n",
       "      <td>28806</td>\n",
       "      <td>Frederick William \"Fred\" Dix</td>\n",
       "      <td>M</td>\n",
       "      <td>NaN</td>\n",
       "      <td>178.0</td>\n",
       "      <td>74.0</td>\n",
       "      <td>Great Britain</td>\n",
       "      <td>GBR</td>\n",
       "      <td>1928 Winter</td>\n",
       "      <td>1928</td>\n",
       "      <td>Winter</td>\n",
       "      <td>Sankt Moritz</td>\n",
       "      <td>Speed Skating</td>\n",
       "      <td>Speed Skating Men's 500 metres</td>\n",
       "      <td>NaN</td>\n",
       "    </tr>\n",
       "    <tr>\n",
       "      <th>56235</th>\n",
       "      <td>28806</td>\n",
       "      <td>Frederick William \"Fred\" Dix</td>\n",
       "      <td>M</td>\n",
       "      <td>NaN</td>\n",
       "      <td>178.0</td>\n",
       "      <td>74.0</td>\n",
       "      <td>Great Britain</td>\n",
       "      <td>GBR</td>\n",
       "      <td>1928 Winter</td>\n",
       "      <td>1928</td>\n",
       "      <td>Winter</td>\n",
       "      <td>Sankt Moritz</td>\n",
       "      <td>Speed Skating</td>\n",
       "      <td>Speed Skating Men's 1,500 metres</td>\n",
       "      <td>NaN</td>\n",
       "    </tr>\n",
       "    <tr>\n",
       "      <th>56236</th>\n",
       "      <td>28806</td>\n",
       "      <td>Frederick William \"Fred\" Dix</td>\n",
       "      <td>M</td>\n",
       "      <td>NaN</td>\n",
       "      <td>178.0</td>\n",
       "      <td>74.0</td>\n",
       "      <td>Great Britain</td>\n",
       "      <td>GBR</td>\n",
       "      <td>1928 Winter</td>\n",
       "      <td>1928</td>\n",
       "      <td>Winter</td>\n",
       "      <td>Sankt Moritz</td>\n",
       "      <td>Speed Skating</td>\n",
       "      <td>Speed Skating Men's 5,000 metres</td>\n",
       "      <td>NaN</td>\n",
       "    </tr>\n",
       "    <tr>\n",
       "      <th>89832</th>\n",
       "      <td>45516</td>\n",
       "      <td>Oldich Han</td>\n",
       "      <td>M</td>\n",
       "      <td>NaN</td>\n",
       "      <td>NaN</td>\n",
       "      <td>NaN</td>\n",
       "      <td>Czechoslovakia</td>\n",
       "      <td>TCH</td>\n",
       "      <td>1936 Winter</td>\n",
       "      <td>1936</td>\n",
       "      <td>Winter</td>\n",
       "      <td>Garmisch-Partenkirchen</td>\n",
       "      <td>Speed Skating</td>\n",
       "      <td>Speed Skating Men's 500 metres</td>\n",
       "      <td>NaN</td>\n",
       "    </tr>\n",
       "    <tr>\n",
       "      <th>89833</th>\n",
       "      <td>45516</td>\n",
       "      <td>Oldich Han</td>\n",
       "      <td>M</td>\n",
       "      <td>NaN</td>\n",
       "      <td>NaN</td>\n",
       "      <td>NaN</td>\n",
       "      <td>Czechoslovakia</td>\n",
       "      <td>TCH</td>\n",
       "      <td>1936 Winter</td>\n",
       "      <td>1936</td>\n",
       "      <td>Winter</td>\n",
       "      <td>Garmisch-Partenkirchen</td>\n",
       "      <td>Speed Skating</td>\n",
       "      <td>Speed Skating Men's 1,500 metres</td>\n",
       "      <td>NaN</td>\n",
       "    </tr>\n",
       "    <tr>\n",
       "      <th>89834</th>\n",
       "      <td>45516</td>\n",
       "      <td>Oldich Han</td>\n",
       "      <td>M</td>\n",
       "      <td>NaN</td>\n",
       "      <td>NaN</td>\n",
       "      <td>NaN</td>\n",
       "      <td>Czechoslovakia</td>\n",
       "      <td>TCH</td>\n",
       "      <td>1936 Winter</td>\n",
       "      <td>1936</td>\n",
       "      <td>Winter</td>\n",
       "      <td>Garmisch-Partenkirchen</td>\n",
       "      <td>Speed Skating</td>\n",
       "      <td>Speed Skating Men's 5,000 metres</td>\n",
       "      <td>NaN</td>\n",
       "    </tr>\n",
       "    <tr>\n",
       "      <th>106007</th>\n",
       "      <td>53625</td>\n",
       "      <td>Jang In-Won</td>\n",
       "      <td>M</td>\n",
       "      <td>NaN</td>\n",
       "      <td>NaN</td>\n",
       "      <td>NaN</td>\n",
       "      <td>South Korea</td>\n",
       "      <td>KOR</td>\n",
       "      <td>1960 Winter</td>\n",
       "      <td>1960</td>\n",
       "      <td>Winter</td>\n",
       "      <td>Squaw Valley</td>\n",
       "      <td>Speed Skating</td>\n",
       "      <td>Speed Skating Men's 1,500 metres</td>\n",
       "      <td>NaN</td>\n",
       "    </tr>\n",
       "    <tr>\n",
       "      <th>106008</th>\n",
       "      <td>53625</td>\n",
       "      <td>Jang In-Won</td>\n",
       "      <td>M</td>\n",
       "      <td>NaN</td>\n",
       "      <td>NaN</td>\n",
       "      <td>NaN</td>\n",
       "      <td>South Korea</td>\n",
       "      <td>KOR</td>\n",
       "      <td>1960 Winter</td>\n",
       "      <td>1960</td>\n",
       "      <td>Winter</td>\n",
       "      <td>Squaw Valley</td>\n",
       "      <td>Speed Skating</td>\n",
       "      <td>Speed Skating Men's 5,000 metres</td>\n",
       "      <td>NaN</td>\n",
       "    </tr>\n",
       "    <tr>\n",
       "      <th>106009</th>\n",
       "      <td>53625</td>\n",
       "      <td>Jang In-Won</td>\n",
       "      <td>M</td>\n",
       "      <td>NaN</td>\n",
       "      <td>NaN</td>\n",
       "      <td>NaN</td>\n",
       "      <td>South Korea</td>\n",
       "      <td>KOR</td>\n",
       "      <td>1960 Winter</td>\n",
       "      <td>1960</td>\n",
       "      <td>Winter</td>\n",
       "      <td>Squaw Valley</td>\n",
       "      <td>Speed Skating</td>\n",
       "      <td>Speed Skating Men's 10,000 metres</td>\n",
       "      <td>NaN</td>\n",
       "    </tr>\n",
       "    <tr>\n",
       "      <th>136341</th>\n",
       "      <td>68568</td>\n",
       "      <td>Arvds Lejnieks</td>\n",
       "      <td>M</td>\n",
       "      <td>NaN</td>\n",
       "      <td>NaN</td>\n",
       "      <td>NaN</td>\n",
       "      <td>Latvia</td>\n",
       "      <td>LAT</td>\n",
       "      <td>1936 Winter</td>\n",
       "      <td>1936</td>\n",
       "      <td>Winter</td>\n",
       "      <td>Garmisch-Partenkirchen</td>\n",
       "      <td>Speed Skating</td>\n",
       "      <td>Speed Skating Men's 5,000 metres</td>\n",
       "      <td>NaN</td>\n",
       "    </tr>\n",
       "    <tr>\n",
       "      <th>136342</th>\n",
       "      <td>68568</td>\n",
       "      <td>Arvds Lejnieks</td>\n",
       "      <td>M</td>\n",
       "      <td>NaN</td>\n",
       "      <td>NaN</td>\n",
       "      <td>NaN</td>\n",
       "      <td>Latvia</td>\n",
       "      <td>LAT</td>\n",
       "      <td>1936 Winter</td>\n",
       "      <td>1936</td>\n",
       "      <td>Winter</td>\n",
       "      <td>Garmisch-Partenkirchen</td>\n",
       "      <td>Speed Skating</td>\n",
       "      <td>Speed Skating Men's 10,000 metres</td>\n",
       "      <td>NaN</td>\n",
       "    </tr>\n",
       "    <tr>\n",
       "      <th>248963</th>\n",
       "      <td>124642</td>\n",
       "      <td>Gaston Van Hazebroeck</td>\n",
       "      <td>M</td>\n",
       "      <td>NaN</td>\n",
       "      <td>NaN</td>\n",
       "      <td>NaN</td>\n",
       "      <td>Belgium</td>\n",
       "      <td>BEL</td>\n",
       "      <td>1924 Winter</td>\n",
       "      <td>1924</td>\n",
       "      <td>Winter</td>\n",
       "      <td>Chamonix</td>\n",
       "      <td>Speed Skating</td>\n",
       "      <td>Speed Skating Men's 500 metres</td>\n",
       "      <td>NaN</td>\n",
       "    </tr>\n",
       "    <tr>\n",
       "      <th>248964</th>\n",
       "      <td>124642</td>\n",
       "      <td>Gaston Van Hazebroeck</td>\n",
       "      <td>M</td>\n",
       "      <td>NaN</td>\n",
       "      <td>NaN</td>\n",
       "      <td>NaN</td>\n",
       "      <td>Belgium</td>\n",
       "      <td>BEL</td>\n",
       "      <td>1924 Winter</td>\n",
       "      <td>1924</td>\n",
       "      <td>Winter</td>\n",
       "      <td>Chamonix</td>\n",
       "      <td>Speed Skating</td>\n",
       "      <td>Speed Skating Men's 1,500 metres</td>\n",
       "      <td>NaN</td>\n",
       "    </tr>\n",
       "    <tr>\n",
       "      <th>248965</th>\n",
       "      <td>124642</td>\n",
       "      <td>Gaston Van Hazebroeck</td>\n",
       "      <td>M</td>\n",
       "      <td>NaN</td>\n",
       "      <td>NaN</td>\n",
       "      <td>NaN</td>\n",
       "      <td>Belgium</td>\n",
       "      <td>BEL</td>\n",
       "      <td>1924 Winter</td>\n",
       "      <td>1924</td>\n",
       "      <td>Winter</td>\n",
       "      <td>Chamonix</td>\n",
       "      <td>Speed Skating</td>\n",
       "      <td>Speed Skating Men's 5,000 metres</td>\n",
       "      <td>NaN</td>\n",
       "    </tr>\n",
       "    <tr>\n",
       "      <th>248966</th>\n",
       "      <td>124642</td>\n",
       "      <td>Gaston Van Hazebroeck</td>\n",
       "      <td>M</td>\n",
       "      <td>NaN</td>\n",
       "      <td>NaN</td>\n",
       "      <td>NaN</td>\n",
       "      <td>Belgium</td>\n",
       "      <td>BEL</td>\n",
       "      <td>1924 Winter</td>\n",
       "      <td>1924</td>\n",
       "      <td>Winter</td>\n",
       "      <td>Chamonix</td>\n",
       "      <td>Speed Skating</td>\n",
       "      <td>Speed Skating Men's Allround</td>\n",
       "      <td>NaN</td>\n",
       "    </tr>\n",
       "    <tr>\n",
       "      <th>264166</th>\n",
       "      <td>132193</td>\n",
       "      <td>Boris Yakimov</td>\n",
       "      <td>M</td>\n",
       "      <td>NaN</td>\n",
       "      <td>NaN</td>\n",
       "      <td>NaN</td>\n",
       "      <td>Soviet Union</td>\n",
       "      <td>URS</td>\n",
       "      <td>1956 Winter</td>\n",
       "      <td>1956</td>\n",
       "      <td>Winter</td>\n",
       "      <td>Cortina d'Ampezzo</td>\n",
       "      <td>Speed Skating</td>\n",
       "      <td>Speed Skating Men's 5,000 metres</td>\n",
       "      <td>NaN</td>\n",
       "    </tr>\n",
       "    <tr>\n",
       "      <th>264167</th>\n",
       "      <td>132193</td>\n",
       "      <td>Boris Yakimov</td>\n",
       "      <td>M</td>\n",
       "      <td>NaN</td>\n",
       "      <td>NaN</td>\n",
       "      <td>NaN</td>\n",
       "      <td>Soviet Union</td>\n",
       "      <td>URS</td>\n",
       "      <td>1956 Winter</td>\n",
       "      <td>1956</td>\n",
       "      <td>Winter</td>\n",
       "      <td>Cortina d'Ampezzo</td>\n",
       "      <td>Speed Skating</td>\n",
       "      <td>Speed Skating Men's 10,000 metres</td>\n",
       "      <td>NaN</td>\n",
       "    </tr>\n",
       "  </tbody>\n",
       "</table>\n",
       "</div>"
      ],
      "text/plain": [
       "            ID                          Name Sex  Age  Height  Weight  \\\n",
       "56232    28806  Frederick William \"Fred\" Dix   M  NaN   178.0    74.0   \n",
       "56233    28806  Frederick William \"Fred\" Dix   M  NaN   178.0    74.0   \n",
       "56234    28806  Frederick William \"Fred\" Dix   M  NaN   178.0    74.0   \n",
       "56235    28806  Frederick William \"Fred\" Dix   M  NaN   178.0    74.0   \n",
       "56236    28806  Frederick William \"Fred\" Dix   M  NaN   178.0    74.0   \n",
       "89832    45516                    Oldich Han   M  NaN     NaN     NaN   \n",
       "89833    45516                    Oldich Han   M  NaN     NaN     NaN   \n",
       "89834    45516                    Oldich Han   M  NaN     NaN     NaN   \n",
       "106007   53625                   Jang In-Won   M  NaN     NaN     NaN   \n",
       "106008   53625                   Jang In-Won   M  NaN     NaN     NaN   \n",
       "106009   53625                   Jang In-Won   M  NaN     NaN     NaN   \n",
       "136341   68568                Arvds Lejnieks   M  NaN     NaN     NaN   \n",
       "136342   68568                Arvds Lejnieks   M  NaN     NaN     NaN   \n",
       "248963  124642         Gaston Van Hazebroeck   M  NaN     NaN     NaN   \n",
       "248964  124642         Gaston Van Hazebroeck   M  NaN     NaN     NaN   \n",
       "248965  124642         Gaston Van Hazebroeck   M  NaN     NaN     NaN   \n",
       "248966  124642         Gaston Van Hazebroeck   M  NaN     NaN     NaN   \n",
       "264166  132193                 Boris Yakimov   M  NaN     NaN     NaN   \n",
       "264167  132193                 Boris Yakimov   M  NaN     NaN     NaN   \n",
       "\n",
       "                  Team  NOC        Games  Year  Season  \\\n",
       "56232    Great Britain  GBR  1924 Winter  1924  Winter   \n",
       "56233    Great Britain  GBR  1924 Winter  1924  Winter   \n",
       "56234    Great Britain  GBR  1928 Winter  1928  Winter   \n",
       "56235    Great Britain  GBR  1928 Winter  1928  Winter   \n",
       "56236    Great Britain  GBR  1928 Winter  1928  Winter   \n",
       "89832   Czechoslovakia  TCH  1936 Winter  1936  Winter   \n",
       "89833   Czechoslovakia  TCH  1936 Winter  1936  Winter   \n",
       "89834   Czechoslovakia  TCH  1936 Winter  1936  Winter   \n",
       "106007     South Korea  KOR  1960 Winter  1960  Winter   \n",
       "106008     South Korea  KOR  1960 Winter  1960  Winter   \n",
       "106009     South Korea  KOR  1960 Winter  1960  Winter   \n",
       "136341          Latvia  LAT  1936 Winter  1936  Winter   \n",
       "136342          Latvia  LAT  1936 Winter  1936  Winter   \n",
       "248963         Belgium  BEL  1924 Winter  1924  Winter   \n",
       "248964         Belgium  BEL  1924 Winter  1924  Winter   \n",
       "248965         Belgium  BEL  1924 Winter  1924  Winter   \n",
       "248966         Belgium  BEL  1924 Winter  1924  Winter   \n",
       "264166    Soviet Union  URS  1956 Winter  1956  Winter   \n",
       "264167    Soviet Union  URS  1956 Winter  1956  Winter   \n",
       "\n",
       "                          City          Sport  \\\n",
       "56232                 Chamonix  Speed Skating   \n",
       "56233                 Chamonix  Speed Skating   \n",
       "56234             Sankt Moritz  Speed Skating   \n",
       "56235             Sankt Moritz  Speed Skating   \n",
       "56236             Sankt Moritz  Speed Skating   \n",
       "89832   Garmisch-Partenkirchen  Speed Skating   \n",
       "89833   Garmisch-Partenkirchen  Speed Skating   \n",
       "89834   Garmisch-Partenkirchen  Speed Skating   \n",
       "106007            Squaw Valley  Speed Skating   \n",
       "106008            Squaw Valley  Speed Skating   \n",
       "106009            Squaw Valley  Speed Skating   \n",
       "136341  Garmisch-Partenkirchen  Speed Skating   \n",
       "136342  Garmisch-Partenkirchen  Speed Skating   \n",
       "248963                Chamonix  Speed Skating   \n",
       "248964                Chamonix  Speed Skating   \n",
       "248965                Chamonix  Speed Skating   \n",
       "248966                Chamonix  Speed Skating   \n",
       "264166       Cortina d'Ampezzo  Speed Skating   \n",
       "264167       Cortina d'Ampezzo  Speed Skating   \n",
       "\n",
       "                                    Event Medal  \n",
       "56232      Speed Skating Men's 500 metres   NaN  \n",
       "56233        Speed Skating Men's Allround   NaN  \n",
       "56234      Speed Skating Men's 500 metres   NaN  \n",
       "56235    Speed Skating Men's 1,500 metres   NaN  \n",
       "56236    Speed Skating Men's 5,000 metres   NaN  \n",
       "89832      Speed Skating Men's 500 metres   NaN  \n",
       "89833    Speed Skating Men's 1,500 metres   NaN  \n",
       "89834    Speed Skating Men's 5,000 metres   NaN  \n",
       "106007   Speed Skating Men's 1,500 metres   NaN  \n",
       "106008   Speed Skating Men's 5,000 metres   NaN  \n",
       "106009  Speed Skating Men's 10,000 metres   NaN  \n",
       "136341   Speed Skating Men's 5,000 metres   NaN  \n",
       "136342  Speed Skating Men's 10,000 metres   NaN  \n",
       "248963     Speed Skating Men's 500 metres   NaN  \n",
       "248964   Speed Skating Men's 1,500 metres   NaN  \n",
       "248965   Speed Skating Men's 5,000 metres   NaN  \n",
       "248966       Speed Skating Men's Allround   NaN  \n",
       "264166   Speed Skating Men's 5,000 metres   NaN  \n",
       "264167  Speed Skating Men's 10,000 metres   NaN  "
      ]
     },
     "execution_count": 44,
     "metadata": {},
     "output_type": "execute_result"
    }
   ],
   "source": [
    "speed_skating_df[speed_skating_df['Age'].isna()]"
   ]
  },
  {
   "cell_type": "markdown",
   "id": "982515b0-b838-4424-b2c3-f04e2fd4a1d3",
   "metadata": {},
   "source": [
    "Участников не много, можно найти возраст каждого, чтобы не потерять нужные данные"
   ]
  },
  {
   "cell_type": "markdown",
   "id": "fd4cb2d1-4b59-486e-a2cb-90a6506c5a91",
   "metadata": {},
   "source": [
    "https://yandex.ru/search/?text=Frederick+William+%22Fred%22+Dix&clid=2411726&lr=67 \n",
    "Frederick William \"Fred\" Dix - родился в 1883 - можно найи возраст участия"
   ]
  },
  {
   "cell_type": "code",
   "execution_count": 45,
   "id": "27e2ee78-a27f-4e23-9f61-5989f2404bc8",
   "metadata": {},
   "outputs": [],
   "source": [
    "user_df = speed_skating_df[speed_skating_df['Name'] == 'Frederick William \"Fred\" Dix']\n",
    "for index, row in user_df.iterrows():\n",
    "    speed_skating_df.loc[index, 'Age'] = speed_skating_df.loc[index, 'Year'] - 1883"
   ]
  },
  {
   "cell_type": "code",
   "execution_count": 46,
   "id": "20432e07-c32c-4ae3-a4c7-e68536408ff4",
   "metadata": {},
   "outputs": [],
   "source": [
    "user_df = speed_skating_df[speed_skating_df['Name'] == 'Oldich Han']\n",
    "for index, row in user_df.iterrows():\n",
    "    speed_skating_df.loc[index, 'Age'] = speed_skating_df.loc[index, 'Year'] - 1915"
   ]
  },
  {
   "cell_type": "code",
   "execution_count": 47,
   "id": "85313f60-8344-453d-8784-c58ea5bb1833",
   "metadata": {},
   "outputs": [],
   "source": [
    "user_df = speed_skating_df[speed_skating_df['Name'] == 'Jang In-Won']\n",
    "for index, row in user_df.iterrows():\n",
    "    speed_skating_df.loc[index, 'Age'] = speed_skating_df.loc[index, 'Year'] - 1936"
   ]
  },
  {
   "cell_type": "code",
   "execution_count": 48,
   "id": "50196c60-012a-4200-8dd3-2f221cb370e3",
   "metadata": {},
   "outputs": [],
   "source": [
    "user_df = speed_skating_df[speed_skating_df['Name'] == 'Arvds Lejnieks']\n",
    "for index, row in user_df.iterrows():\n",
    "    speed_skating_df.loc[index, 'Age'] = speed_skating_df.loc[index, 'Year'] - 1913"
   ]
  },
  {
   "cell_type": "code",
   "execution_count": 49,
   "id": "e6195285-befb-4198-9e2c-044684b8d29c",
   "metadata": {},
   "outputs": [],
   "source": [
    "user_df = speed_skating_df[speed_skating_df['Name'] == 'Gaston Van Hazebroeck']\n",
    "for index, row in user_df.iterrows():\n",
    "    speed_skating_df.loc[index, 'Age'] = speed_skating_df.loc[index, 'Year'] - 1904"
   ]
  },
  {
   "cell_type": "code",
   "execution_count": 50,
   "id": "7f9f37fe-d477-4e8b-b042-8c1749af869e",
   "metadata": {},
   "outputs": [],
   "source": [
    "user_df = speed_skating_df[speed_skating_df['Name'] == 'Boris Yakimov']\n",
    "for index, row in user_df.iterrows():\n",
    "    speed_skating_df.loc[index, 'Age'] = speed_skating_df.loc[index, 'Year'] - 1932"
   ]
  },
  {
   "cell_type": "markdown",
   "id": "bb42bf57-b0fa-4b32-a41a-6822b15e847b",
   "metadata": {},
   "source": [
    "Все данные можно найти в открытом доступе"
   ]
  },
  {
   "cell_type": "code",
   "execution_count": 51,
   "id": "6c65c2ea-94ec-4079-953a-f258a960f590",
   "metadata": {},
   "outputs": [
    {
     "data": {
      "text/plain": [
       "0"
      ]
     },
     "execution_count": 51,
     "metadata": {},
     "output_type": "execute_result"
    }
   ],
   "source": [
    "len(speed_skating_df[speed_skating_df['Age'].isna()])"
   ]
  },
  {
   "cell_type": "markdown",
   "id": "d0fa779e-5643-460d-aa6f-833343aa6774",
   "metadata": {},
   "source": [
    "## Рост"
   ]
  },
  {
   "cell_type": "code",
   "execution_count": 52,
   "id": "c7ab7738-367b-41e0-98f2-b5717e0a8f9b",
   "metadata": {},
   "outputs": [
    {
     "data": {
      "text/plain": [
       "1090"
      ]
     },
     "execution_count": 52,
     "metadata": {},
     "output_type": "execute_result"
    }
   ],
   "source": [
    "len(speed_skating_df[speed_skating_df['Height'].isna()])"
   ]
  },
  {
   "cell_type": "markdown",
   "id": "5ebdd2d6-50d7-4134-9452-238cb558f5d4",
   "metadata": {},
   "source": [
    "Данных много и в ручном способе не получиться их изменить. Изменим все пропуски среднем значением"
   ]
  },
  {
   "cell_type": "code",
   "execution_count": 53,
   "id": "ae880d54-ccd4-4804-811a-e24b2c15e518",
   "metadata": {},
   "outputs": [
    {
     "name": "stderr",
     "output_type": "stream",
     "text": [
      "C:\\Users\\alexa\\AppData\\Local\\Temp\\ipykernel_25964\\1536285421.py:1: SettingWithCopyWarning: \n",
      "A value is trying to be set on a copy of a slice from a DataFrame\n",
      "\n",
      "See the caveats in the documentation: https://pandas.pydata.org/pandas-docs/stable/user_guide/indexing.html#returning-a-view-versus-a-copy\n",
      "  speed_skating_df[\"Height\"].fillna((speed_skating_df[\"Height\"].mean()), inplace = True)\n"
     ]
    }
   ],
   "source": [
    "speed_skating_df[\"Height\"].fillna((speed_skating_df[\"Height\"].mean()), inplace = True)"
   ]
  },
  {
   "cell_type": "code",
   "execution_count": 54,
   "id": "e9d71f47-c6f1-4d11-b83f-3dbd33ba21a2",
   "metadata": {},
   "outputs": [
    {
     "data": {
      "text/plain": [
       "0"
      ]
     },
     "execution_count": 54,
     "metadata": {},
     "output_type": "execute_result"
    }
   ],
   "source": [
    "len(speed_skating_df[speed_skating_df['Height'].isna()])"
   ]
  },
  {
   "cell_type": "code",
   "execution_count": 55,
   "id": "aa45ccd8-0bec-409b-afd6-c14da6be7465",
   "metadata": {},
   "outputs": [
    {
     "data": {
      "text/plain": [
       "<Axes: xlabel='Height'>"
      ]
     },
     "execution_count": 55,
     "metadata": {},
     "output_type": "execute_result"
    },
    {
     "data": {
      "image/png": "[encoded data removed]",
      "text/plain": [
       "<Figure size 2000x1000 with 1 Axes>"
      ]
     },
     "metadata": {},
     "output_type": "display_data"
    }
   ],
   "source": [
    "speed_skating_df['Height'].value_counts('Height', dropna=False).sort_index().plot.bar(figsize=(20,10))"
   ]
  },
  {
   "cell_type": "markdown",
   "id": "c25b8f17-c31a-4f23-b27f-d8af7620e0e7",
   "metadata": {},
   "source": [
    "## Вес"
   ]
  },
  {
   "cell_type": "code",
   "execution_count": 56,
   "id": "5fd09ee9-8954-4230-80dc-a7a3587876ce",
   "metadata": {},
   "outputs": [
    {
     "data": {
      "text/plain": [
       "1192"
      ]
     },
     "execution_count": 56,
     "metadata": {},
     "output_type": "execute_result"
    }
   ],
   "source": [
    "len(speed_skating_df[speed_skating_df['Weight'].isna()])"
   ]
  },
  {
   "cell_type": "code",
   "execution_count": 57,
   "id": "9b4d4535-41f3-4349-9ff4-68737d713bd2",
   "metadata": {},
   "outputs": [
    {
     "name": "stderr",
     "output_type": "stream",
     "text": [
      "C:\\Users\\alexa\\AppData\\Local\\Temp\\ipykernel_25964\\3571931037.py:1: SettingWithCopyWarning: \n",
      "A value is trying to be set on a copy of a slice from a DataFrame\n",
      "\n",
      "See the caveats in the documentation: https://pandas.pydata.org/pandas-docs/stable/user_guide/indexing.html#returning-a-view-versus-a-copy\n",
      "  speed_skating_df[\"Weight\"].fillna((speed_skating_df[\"Weight\"].mean()), inplace = True)\n"
     ]
    }
   ],
   "source": [
    "speed_skating_df[\"Weight\"].fillna((speed_skating_df[\"Weight\"].mean()), inplace = True)"
   ]
  },
  {
   "cell_type": "code",
   "execution_count": 58,
   "id": "767f35cc-f1bc-400b-a8af-ab3a35cac209",
   "metadata": {},
   "outputs": [
    {
     "data": {
      "text/plain": [
       "0"
      ]
     },
     "execution_count": 58,
     "metadata": {},
     "output_type": "execute_result"
    }
   ],
   "source": [
    "len(speed_skating_df[speed_skating_df['Weight'].isna()])"
   ]
  },
  {
   "cell_type": "code",
   "execution_count": 59,
   "id": "054e4044-9f8b-4b22-b041-f8a50e0fc9be",
   "metadata": {},
   "outputs": [
    {
     "data": {
      "text/plain": [
       "<Axes: xlabel='Weight'>"
      ]
     },
     "execution_count": 59,
     "metadata": {},
     "output_type": "execute_result"
    },
    {
     "data": {
      "image/png": "[encoded data removed]",
      "text/plain": [
       "<Figure size 2000x1000 with 1 Axes>"
      ]
     },
     "metadata": {},
     "output_type": "display_data"
    }
   ],
   "source": [
    "speed_skating_df['Weight'].value_counts('Weight', dropna=False).sort_index().plot.bar(figsize=(20,10))"
   ]
  },
  {
   "cell_type": "markdown",
   "id": "c339ebf0-75ff-4b34-8fed-cf684bd83ca9",
   "metadata": {},
   "source": [
    "## Медали"
   ]
  },
  {
   "cell_type": "code",
   "execution_count": 60,
   "id": "2a6e043b-9355-47f3-9642-7c602b2eda8f",
   "metadata": {},
   "outputs": [
    {
     "name": "stderr",
     "output_type": "stream",
     "text": [
      "C:\\Users\\alexa\\AppData\\Local\\Temp\\ipykernel_25964\\943974189.py:1: SettingWithCopyWarning: \n",
      "A value is trying to be set on a copy of a slice from a DataFrame\n",
      "\n",
      "See the caveats in the documentation: https://pandas.pydata.org/pandas-docs/stable/user_guide/indexing.html#returning-a-view-versus-a-copy\n",
      "  speed_skating_df['Medal'].fillna('No Medal', inplace = True)\n"
     ]
    }
   ],
   "source": [
    "speed_skating_df['Medal'].fillna('No Medal', inplace = True)"
   ]
  },
  {
   "cell_type": "code",
   "execution_count": 61,
   "id": "d57b0b95-ef41-49e6-aac4-29222f7abb98",
   "metadata": {},
   "outputs": [
    {
     "data": {
      "text/plain": [
       "0"
      ]
     },
     "execution_count": 61,
     "metadata": {},
     "output_type": "execute_result"
    }
   ],
   "source": [
    "len(speed_skating_df[speed_skating_df['Medal'].isna()])"
   ]
  },
  {
   "cell_type": "code",
   "execution_count": 62,
   "id": "eb8e471b-2dfe-429d-a26a-5a7482cbdcc9",
   "metadata": {},
   "outputs": [
    {
     "data": {
      "text/html": [
       "<div>\n",
       "<style scoped>\n",
       "    .dataframe tbody tr th:only-of-type {\n",
       "        vertical-align: middle;\n",
       "    }\n",
       "\n",
       "    .dataframe tbody tr th {\n",
       "        vertical-align: top;\n",
       "    }\n",
       "\n",
       "    .dataframe thead th {\n",
       "        text-align: right;\n",
       "    }\n",
       "</style>\n",
       "<table border=\"1\" class=\"dataframe\">\n",
       "  <thead>\n",
       "    <tr style=\"text-align: right;\">\n",
       "      <th></th>\n",
       "      <th>ID</th>\n",
       "      <th>Name</th>\n",
       "      <th>Sex</th>\n",
       "      <th>Age</th>\n",
       "      <th>Height</th>\n",
       "      <th>Weight</th>\n",
       "      <th>Team</th>\n",
       "      <th>NOC</th>\n",
       "      <th>Games</th>\n",
       "      <th>Year</th>\n",
       "      <th>Season</th>\n",
       "      <th>City</th>\n",
       "      <th>Sport</th>\n",
       "      <th>Event</th>\n",
       "      <th>Medal</th>\n",
       "    </tr>\n",
       "  </thead>\n",
       "  <tbody>\n",
       "    <tr>\n",
       "      <th>4</th>\n",
       "      <td>5</td>\n",
       "      <td>Christine Jacoba Aaftink</td>\n",
       "      <td>F</td>\n",
       "      <td>21.0</td>\n",
       "      <td>185.0</td>\n",
       "      <td>82.0</td>\n",
       "      <td>Netherlands</td>\n",
       "      <td>NED</td>\n",
       "      <td>1988 Winter</td>\n",
       "      <td>1988</td>\n",
       "      <td>Winter</td>\n",
       "      <td>Calgary</td>\n",
       "      <td>Speed Skating</td>\n",
       "      <td>Speed Skating Women's 500 metres</td>\n",
       "      <td>No Medal</td>\n",
       "    </tr>\n",
       "    <tr>\n",
       "      <th>5</th>\n",
       "      <td>5</td>\n",
       "      <td>Christine Jacoba Aaftink</td>\n",
       "      <td>F</td>\n",
       "      <td>21.0</td>\n",
       "      <td>185.0</td>\n",
       "      <td>82.0</td>\n",
       "      <td>Netherlands</td>\n",
       "      <td>NED</td>\n",
       "      <td>1988 Winter</td>\n",
       "      <td>1988</td>\n",
       "      <td>Winter</td>\n",
       "      <td>Calgary</td>\n",
       "      <td>Speed Skating</td>\n",
       "      <td>Speed Skating Women's 1,000 metres</td>\n",
       "      <td>No Medal</td>\n",
       "    </tr>\n",
       "    <tr>\n",
       "      <th>6</th>\n",
       "      <td>5</td>\n",
       "      <td>Christine Jacoba Aaftink</td>\n",
       "      <td>F</td>\n",
       "      <td>25.0</td>\n",
       "      <td>185.0</td>\n",
       "      <td>82.0</td>\n",
       "      <td>Netherlands</td>\n",
       "      <td>NED</td>\n",
       "      <td>1992 Winter</td>\n",
       "      <td>1992</td>\n",
       "      <td>Winter</td>\n",
       "      <td>Albertville</td>\n",
       "      <td>Speed Skating</td>\n",
       "      <td>Speed Skating Women's 500 metres</td>\n",
       "      <td>No Medal</td>\n",
       "    </tr>\n",
       "    <tr>\n",
       "      <th>7</th>\n",
       "      <td>5</td>\n",
       "      <td>Christine Jacoba Aaftink</td>\n",
       "      <td>F</td>\n",
       "      <td>25.0</td>\n",
       "      <td>185.0</td>\n",
       "      <td>82.0</td>\n",
       "      <td>Netherlands</td>\n",
       "      <td>NED</td>\n",
       "      <td>1992 Winter</td>\n",
       "      <td>1992</td>\n",
       "      <td>Winter</td>\n",
       "      <td>Albertville</td>\n",
       "      <td>Speed Skating</td>\n",
       "      <td>Speed Skating Women's 1,000 metres</td>\n",
       "      <td>No Medal</td>\n",
       "    </tr>\n",
       "    <tr>\n",
       "      <th>8</th>\n",
       "      <td>5</td>\n",
       "      <td>Christine Jacoba Aaftink</td>\n",
       "      <td>F</td>\n",
       "      <td>27.0</td>\n",
       "      <td>185.0</td>\n",
       "      <td>82.0</td>\n",
       "      <td>Netherlands</td>\n",
       "      <td>NED</td>\n",
       "      <td>1994 Winter</td>\n",
       "      <td>1994</td>\n",
       "      <td>Winter</td>\n",
       "      <td>Lillehammer</td>\n",
       "      <td>Speed Skating</td>\n",
       "      <td>Speed Skating Women's 500 metres</td>\n",
       "      <td>No Medal</td>\n",
       "    </tr>\n",
       "    <tr>\n",
       "      <th>...</th>\n",
       "      <td>...</td>\n",
       "      <td>...</td>\n",
       "      <td>...</td>\n",
       "      <td>...</td>\n",
       "      <td>...</td>\n",
       "      <td>...</td>\n",
       "      <td>...</td>\n",
       "      <td>...</td>\n",
       "      <td>...</td>\n",
       "      <td>...</td>\n",
       "      <td>...</td>\n",
       "      <td>...</td>\n",
       "      <td>...</td>\n",
       "      <td>...</td>\n",
       "      <td>...</td>\n",
       "    </tr>\n",
       "    <tr>\n",
       "      <th>271094</th>\n",
       "      <td>135559</td>\n",
       "      <td>Pawe Jan Zygmunt</td>\n",
       "      <td>M</td>\n",
       "      <td>25.0</td>\n",
       "      <td>182.0</td>\n",
       "      <td>79.0</td>\n",
       "      <td>Poland</td>\n",
       "      <td>POL</td>\n",
       "      <td>1998 Winter</td>\n",
       "      <td>1998</td>\n",
       "      <td>Winter</td>\n",
       "      <td>Nagano</td>\n",
       "      <td>Speed Skating</td>\n",
       "      <td>Speed Skating Men's 1,500 metres</td>\n",
       "      <td>No Medal</td>\n",
       "    </tr>\n",
       "    <tr>\n",
       "      <th>271095</th>\n",
       "      <td>135559</td>\n",
       "      <td>Pawe Jan Zygmunt</td>\n",
       "      <td>M</td>\n",
       "      <td>25.0</td>\n",
       "      <td>182.0</td>\n",
       "      <td>79.0</td>\n",
       "      <td>Poland</td>\n",
       "      <td>POL</td>\n",
       "      <td>1998 Winter</td>\n",
       "      <td>1998</td>\n",
       "      <td>Winter</td>\n",
       "      <td>Nagano</td>\n",
       "      <td>Speed Skating</td>\n",
       "      <td>Speed Skating Men's 5,000 metres</td>\n",
       "      <td>No Medal</td>\n",
       "    </tr>\n",
       "    <tr>\n",
       "      <th>271096</th>\n",
       "      <td>135559</td>\n",
       "      <td>Pawe Jan Zygmunt</td>\n",
       "      <td>M</td>\n",
       "      <td>29.0</td>\n",
       "      <td>182.0</td>\n",
       "      <td>79.0</td>\n",
       "      <td>Poland</td>\n",
       "      <td>POL</td>\n",
       "      <td>2002 Winter</td>\n",
       "      <td>2002</td>\n",
       "      <td>Winter</td>\n",
       "      <td>Salt Lake City</td>\n",
       "      <td>Speed Skating</td>\n",
       "      <td>Speed Skating Men's 5,000 metres</td>\n",
       "      <td>No Medal</td>\n",
       "    </tr>\n",
       "    <tr>\n",
       "      <th>271097</th>\n",
       "      <td>135559</td>\n",
       "      <td>Pawe Jan Zygmunt</td>\n",
       "      <td>M</td>\n",
       "      <td>29.0</td>\n",
       "      <td>182.0</td>\n",
       "      <td>79.0</td>\n",
       "      <td>Poland</td>\n",
       "      <td>POL</td>\n",
       "      <td>2002 Winter</td>\n",
       "      <td>2002</td>\n",
       "      <td>Winter</td>\n",
       "      <td>Salt Lake City</td>\n",
       "      <td>Speed Skating</td>\n",
       "      <td>Speed Skating Men's 10,000 metres</td>\n",
       "      <td>No Medal</td>\n",
       "    </tr>\n",
       "    <tr>\n",
       "      <th>271098</th>\n",
       "      <td>135559</td>\n",
       "      <td>Pawe Jan Zygmunt</td>\n",
       "      <td>M</td>\n",
       "      <td>33.0</td>\n",
       "      <td>182.0</td>\n",
       "      <td>79.0</td>\n",
       "      <td>Poland</td>\n",
       "      <td>POL</td>\n",
       "      <td>2006 Winter</td>\n",
       "      <td>2006</td>\n",
       "      <td>Winter</td>\n",
       "      <td>Torino</td>\n",
       "      <td>Speed Skating</td>\n",
       "      <td>Speed Skating Men's 5,000 metres</td>\n",
       "      <td>No Medal</td>\n",
       "    </tr>\n",
       "  </tbody>\n",
       "</table>\n",
       "<p>5613 rows × 15 columns</p>\n",
       "</div>"
      ],
      "text/plain": [
       "            ID                      Name Sex   Age  Height  Weight  \\\n",
       "4            5  Christine Jacoba Aaftink   F  21.0   185.0    82.0   \n",
       "5            5  Christine Jacoba Aaftink   F  21.0   185.0    82.0   \n",
       "6            5  Christine Jacoba Aaftink   F  25.0   185.0    82.0   \n",
       "7            5  Christine Jacoba Aaftink   F  25.0   185.0    82.0   \n",
       "8            5  Christine Jacoba Aaftink   F  27.0   185.0    82.0   \n",
       "...        ...                       ...  ..   ...     ...     ...   \n",
       "271094  135559          Pawe Jan Zygmunt   M  25.0   182.0    79.0   \n",
       "271095  135559          Pawe Jan Zygmunt   M  25.0   182.0    79.0   \n",
       "271096  135559          Pawe Jan Zygmunt   M  29.0   182.0    79.0   \n",
       "271097  135559          Pawe Jan Zygmunt   M  29.0   182.0    79.0   \n",
       "271098  135559          Pawe Jan Zygmunt   M  33.0   182.0    79.0   \n",
       "\n",
       "               Team  NOC        Games  Year  Season            City  \\\n",
       "4       Netherlands  NED  1988 Winter  1988  Winter         Calgary   \n",
       "5       Netherlands  NED  1988 Winter  1988  Winter         Calgary   \n",
       "6       Netherlands  NED  1992 Winter  1992  Winter     Albertville   \n",
       "7       Netherlands  NED  1992 Winter  1992  Winter     Albertville   \n",
       "8       Netherlands  NED  1994 Winter  1994  Winter     Lillehammer   \n",
       "...             ...  ...          ...   ...     ...             ...   \n",
       "271094       Poland  POL  1998 Winter  1998  Winter          Nagano   \n",
       "271095       Poland  POL  1998 Winter  1998  Winter          Nagano   \n",
       "271096       Poland  POL  2002 Winter  2002  Winter  Salt Lake City   \n",
       "271097       Poland  POL  2002 Winter  2002  Winter  Salt Lake City   \n",
       "271098       Poland  POL  2006 Winter  2006  Winter          Torino   \n",
       "\n",
       "                Sport                               Event     Medal  \n",
       "4       Speed Skating    Speed Skating Women's 500 metres  No Medal  \n",
       "5       Speed Skating  Speed Skating Women's 1,000 metres  No Medal  \n",
       "6       Speed Skating    Speed Skating Women's 500 metres  No Medal  \n",
       "7       Speed Skating  Speed Skating Women's 1,000 metres  No Medal  \n",
       "8       Speed Skating    Speed Skating Women's 500 metres  No Medal  \n",
       "...               ...                                 ...       ...  \n",
       "271094  Speed Skating    Speed Skating Men's 1,500 metres  No Medal  \n",
       "271095  Speed Skating    Speed Skating Men's 5,000 metres  No Medal  \n",
       "271096  Speed Skating    Speed Skating Men's 5,000 metres  No Medal  \n",
       "271097  Speed Skating   Speed Skating Men's 10,000 metres  No Medal  \n",
       "271098  Speed Skating    Speed Skating Men's 5,000 metres  No Medal  \n",
       "\n",
       "[5613 rows x 15 columns]"
      ]
     },
     "execution_count": 62,
     "metadata": {},
     "output_type": "execute_result"
    }
   ],
   "source": [
    "speed_skating_df"
   ]
  },
  {
   "cell_type": "markdown",
   "id": "ea5a26db-5982-49f5-a9ae-096ce9ad81d8",
   "metadata": {},
   "source": [
    "# Цифровизация данных"
   ]
  },
  {
   "cell_type": "markdown",
   "id": "b9507d27-7500-4549-b368-ee525bf9dd49",
   "metadata": {},
   "source": [
    "Для дальнейшего предсказания нужды данные в числовом формате. Возьмем столбцы рост, вес, возраст и медаль для нашего предсказания. Переведем их в числовой формат."
   ]
  },
  {
   "cell_type": "code",
   "execution_count": 63,
   "id": "4ec4eea8-5261-4fbb-b2d7-f5aaf0115b21",
   "metadata": {},
   "outputs": [
    {
     "data": {
      "text/plain": [
       "<Axes: xlabel='Event'>"
      ]
     },
     "execution_count": 63,
     "metadata": {},
     "output_type": "execute_result"
    },
    {
     "data": {
      "image/png": "[encoded data removed]",
      "text/plain": [
       "<Figure size 2000x1000 with 1 Axes>"
      ]
     },
     "metadata": {},
     "output_type": "display_data"
    }
   ],
   "source": [
    "speed_skating_df['Event'].value_counts('Event', dropna=False).sort_index().plot.bar(figsize=(20,10))"
   ]
  },
  {
   "cell_type": "code",
   "execution_count": 64,
   "id": "821736b7-fce1-40ef-b5b2-b60091169870",
   "metadata": {},
   "outputs": [],
   "source": [
    "sk_500_w_df = speed_skating_df[speed_skating_df['Event'] == \"Speed Skating Women's 500 metres\"]\n",
    "sk_500_m_df = speed_skating_df[speed_skating_df['Event'] == \"Speed Skating Men's 500 metres\"]"
   ]
  },
  {
   "cell_type": "code",
   "execution_count": 65,
   "id": "c27d988e-0192-4753-810a-9b7877a7d6a3",
   "metadata": {},
   "outputs": [
    {
     "data": {
      "text/html": [
       "<div>\n",
       "<style scoped>\n",
       "    .dataframe tbody tr th:only-of-type {\n",
       "        vertical-align: middle;\n",
       "    }\n",
       "\n",
       "    .dataframe tbody tr th {\n",
       "        vertical-align: top;\n",
       "    }\n",
       "\n",
       "    .dataframe thead th {\n",
       "        text-align: right;\n",
       "    }\n",
       "</style>\n",
       "<table border=\"1\" class=\"dataframe\">\n",
       "  <thead>\n",
       "    <tr style=\"text-align: right;\">\n",
       "      <th></th>\n",
       "      <th>ID</th>\n",
       "      <th>Name</th>\n",
       "      <th>Sex</th>\n",
       "      <th>Age</th>\n",
       "      <th>Height</th>\n",
       "      <th>Weight</th>\n",
       "      <th>Team</th>\n",
       "      <th>NOC</th>\n",
       "      <th>Games</th>\n",
       "      <th>Year</th>\n",
       "      <th>Season</th>\n",
       "      <th>City</th>\n",
       "      <th>Sport</th>\n",
       "      <th>Event</th>\n",
       "      <th>Medal</th>\n",
       "    </tr>\n",
       "  </thead>\n",
       "  <tbody>\n",
       "    <tr>\n",
       "      <th>4</th>\n",
       "      <td>5</td>\n",
       "      <td>Christine Jacoba Aaftink</td>\n",
       "      <td>F</td>\n",
       "      <td>21.0</td>\n",
       "      <td>185.0</td>\n",
       "      <td>82.0</td>\n",
       "      <td>Netherlands</td>\n",
       "      <td>NED</td>\n",
       "      <td>1988 Winter</td>\n",
       "      <td>1988</td>\n",
       "      <td>Winter</td>\n",
       "      <td>Calgary</td>\n",
       "      <td>Speed Skating</td>\n",
       "      <td>Speed Skating Women's 500 metres</td>\n",
       "      <td>No Medal</td>\n",
       "    </tr>\n",
       "    <tr>\n",
       "      <th>6</th>\n",
       "      <td>5</td>\n",
       "      <td>Christine Jacoba Aaftink</td>\n",
       "      <td>F</td>\n",
       "      <td>25.0</td>\n",
       "      <td>185.0</td>\n",
       "      <td>82.0</td>\n",
       "      <td>Netherlands</td>\n",
       "      <td>NED</td>\n",
       "      <td>1992 Winter</td>\n",
       "      <td>1992</td>\n",
       "      <td>Winter</td>\n",
       "      <td>Albertville</td>\n",
       "      <td>Speed Skating</td>\n",
       "      <td>Speed Skating Women's 500 metres</td>\n",
       "      <td>No Medal</td>\n",
       "    </tr>\n",
       "    <tr>\n",
       "      <th>8</th>\n",
       "      <td>5</td>\n",
       "      <td>Christine Jacoba Aaftink</td>\n",
       "      <td>F</td>\n",
       "      <td>27.0</td>\n",
       "      <td>185.0</td>\n",
       "      <td>82.0</td>\n",
       "      <td>Netherlands</td>\n",
       "      <td>NED</td>\n",
       "      <td>1994 Winter</td>\n",
       "      <td>1994</td>\n",
       "      <td>Winter</td>\n",
       "      <td>Lillehammer</td>\n",
       "      <td>Speed Skating</td>\n",
       "      <td>Speed Skating Women's 500 metres</td>\n",
       "      <td>No Medal</td>\n",
       "    </tr>\n",
       "    <tr>\n",
       "      <th>6394</th>\n",
       "      <td>3590</td>\n",
       "      <td>An Ji-Min</td>\n",
       "      <td>F</td>\n",
       "      <td>17.0</td>\n",
       "      <td>163.0</td>\n",
       "      <td>52.0</td>\n",
       "      <td>South Korea</td>\n",
       "      <td>KOR</td>\n",
       "      <td>2010 Winter</td>\n",
       "      <td>2010</td>\n",
       "      <td>Winter</td>\n",
       "      <td>Vancouver</td>\n",
       "      <td>Speed Skating</td>\n",
       "      <td>Speed Skating Women's 500 metres</td>\n",
       "      <td>No Medal</td>\n",
       "    </tr>\n",
       "    <tr>\n",
       "      <th>7799</th>\n",
       "      <td>4323</td>\n",
       "      <td>Monique Angermller</td>\n",
       "      <td>F</td>\n",
       "      <td>26.0</td>\n",
       "      <td>174.0</td>\n",
       "      <td>72.0</td>\n",
       "      <td>Germany</td>\n",
       "      <td>GER</td>\n",
       "      <td>2010 Winter</td>\n",
       "      <td>2010</td>\n",
       "      <td>Winter</td>\n",
       "      <td>Vancouver</td>\n",
       "      <td>Speed Skating</td>\n",
       "      <td>Speed Skating Women's 500 metres</td>\n",
       "      <td>No Medal</td>\n",
       "    </tr>\n",
       "    <tr>\n",
       "      <th>...</th>\n",
       "      <td>...</td>\n",
       "      <td>...</td>\n",
       "      <td>...</td>\n",
       "      <td>...</td>\n",
       "      <td>...</td>\n",
       "      <td>...</td>\n",
       "      <td>...</td>\n",
       "      <td>...</td>\n",
       "      <td>...</td>\n",
       "      <td>...</td>\n",
       "      <td>...</td>\n",
       "      <td>...</td>\n",
       "      <td>...</td>\n",
       "      <td>...</td>\n",
       "      <td>...</td>\n",
       "    </tr>\n",
       "    <tr>\n",
       "      <th>268770</th>\n",
       "      <td>134463</td>\n",
       "      <td>Zhang Hong</td>\n",
       "      <td>F</td>\n",
       "      <td>25.0</td>\n",
       "      <td>174.0</td>\n",
       "      <td>65.0</td>\n",
       "      <td>China</td>\n",
       "      <td>CHN</td>\n",
       "      <td>2014 Winter</td>\n",
       "      <td>2014</td>\n",
       "      <td>Winter</td>\n",
       "      <td>Sochi</td>\n",
       "      <td>Speed Skating</td>\n",
       "      <td>Speed Skating Women's 500 metres</td>\n",
       "      <td>No Medal</td>\n",
       "    </tr>\n",
       "    <tr>\n",
       "      <th>268923</th>\n",
       "      <td>134545</td>\n",
       "      <td>Zhang Shuang</td>\n",
       "      <td>F</td>\n",
       "      <td>23.0</td>\n",
       "      <td>172.0</td>\n",
       "      <td>70.0</td>\n",
       "      <td>China</td>\n",
       "      <td>CHN</td>\n",
       "      <td>2010 Winter</td>\n",
       "      <td>2010</td>\n",
       "      <td>Winter</td>\n",
       "      <td>Vancouver</td>\n",
       "      <td>Speed Skating</td>\n",
       "      <td>Speed Skating Women's 500 metres</td>\n",
       "      <td>No Medal</td>\n",
       "    </tr>\n",
       "    <tr>\n",
       "      <th>268924</th>\n",
       "      <td>134545</td>\n",
       "      <td>Zhang Shuang</td>\n",
       "      <td>F</td>\n",
       "      <td>27.0</td>\n",
       "      <td>172.0</td>\n",
       "      <td>70.0</td>\n",
       "      <td>China</td>\n",
       "      <td>CHN</td>\n",
       "      <td>2014 Winter</td>\n",
       "      <td>2014</td>\n",
       "      <td>Winter</td>\n",
       "      <td>Sochi</td>\n",
       "      <td>Speed Skating</td>\n",
       "      <td>Speed Skating Women's 500 metres</td>\n",
       "      <td>No Medal</td>\n",
       "    </tr>\n",
       "    <tr>\n",
       "      <th>270221</th>\n",
       "      <td>135185</td>\n",
       "      <td>Pamela Zoellner (Fischer-)</td>\n",
       "      <td>F</td>\n",
       "      <td>29.0</td>\n",
       "      <td>177.0</td>\n",
       "      <td>69.0</td>\n",
       "      <td>Germany</td>\n",
       "      <td>GER</td>\n",
       "      <td>2006 Winter</td>\n",
       "      <td>2006</td>\n",
       "      <td>Winter</td>\n",
       "      <td>Torino</td>\n",
       "      <td>Speed Skating</td>\n",
       "      <td>Speed Skating Women's 500 metres</td>\n",
       "      <td>No Medal</td>\n",
       "    </tr>\n",
       "    <tr>\n",
       "      <th>271050</th>\n",
       "      <td>135546</td>\n",
       "      <td>Sandra Kornelia Zwolle</td>\n",
       "      <td>F</td>\n",
       "      <td>26.0</td>\n",
       "      <td>174.0</td>\n",
       "      <td>65.0</td>\n",
       "      <td>Netherlands</td>\n",
       "      <td>NED</td>\n",
       "      <td>1998 Winter</td>\n",
       "      <td>1998</td>\n",
       "      <td>Winter</td>\n",
       "      <td>Nagano</td>\n",
       "      <td>Speed Skating</td>\n",
       "      <td>Speed Skating Women's 500 metres</td>\n",
       "      <td>No Medal</td>\n",
       "    </tr>\n",
       "  </tbody>\n",
       "</table>\n",
       "<p>467 rows × 15 columns</p>\n",
       "</div>"
      ],
      "text/plain": [
       "            ID                        Name Sex   Age  Height  Weight  \\\n",
       "4            5    Christine Jacoba Aaftink   F  21.0   185.0    82.0   \n",
       "6            5    Christine Jacoba Aaftink   F  25.0   185.0    82.0   \n",
       "8            5    Christine Jacoba Aaftink   F  27.0   185.0    82.0   \n",
       "6394      3590                   An Ji-Min   F  17.0   163.0    52.0   \n",
       "7799      4323          Monique Angermller   F  26.0   174.0    72.0   \n",
       "...        ...                         ...  ..   ...     ...     ...   \n",
       "268770  134463                  Zhang Hong   F  25.0   174.0    65.0   \n",
       "268923  134545                Zhang Shuang   F  23.0   172.0    70.0   \n",
       "268924  134545                Zhang Shuang   F  27.0   172.0    70.0   \n",
       "270221  135185  Pamela Zoellner (Fischer-)   F  29.0   177.0    69.0   \n",
       "271050  135546      Sandra Kornelia Zwolle   F  26.0   174.0    65.0   \n",
       "\n",
       "               Team  NOC        Games  Year  Season         City  \\\n",
       "4       Netherlands  NED  1988 Winter  1988  Winter      Calgary   \n",
       "6       Netherlands  NED  1992 Winter  1992  Winter  Albertville   \n",
       "8       Netherlands  NED  1994 Winter  1994  Winter  Lillehammer   \n",
       "6394    South Korea  KOR  2010 Winter  2010  Winter    Vancouver   \n",
       "7799        Germany  GER  2010 Winter  2010  Winter    Vancouver   \n",
       "...             ...  ...          ...   ...     ...          ...   \n",
       "268770        China  CHN  2014 Winter  2014  Winter        Sochi   \n",
       "268923        China  CHN  2010 Winter  2010  Winter    Vancouver   \n",
       "268924        China  CHN  2014 Winter  2014  Winter        Sochi   \n",
       "270221      Germany  GER  2006 Winter  2006  Winter       Torino   \n",
       "271050  Netherlands  NED  1998 Winter  1998  Winter       Nagano   \n",
       "\n",
       "                Sport                             Event     Medal  \n",
       "4       Speed Skating  Speed Skating Women's 500 metres  No Medal  \n",
       "6       Speed Skating  Speed Skating Women's 500 metres  No Medal  \n",
       "8       Speed Skating  Speed Skating Women's 500 metres  No Medal  \n",
       "6394    Speed Skating  Speed Skating Women's 500 metres  No Medal  \n",
       "7799    Speed Skating  Speed Skating Women's 500 metres  No Medal  \n",
       "...               ...                               ...       ...  \n",
       "268770  Speed Skating  Speed Skating Women's 500 metres  No Medal  \n",
       "268923  Speed Skating  Speed Skating Women's 500 metres  No Medal  \n",
       "268924  Speed Skating  Speed Skating Women's 500 metres  No Medal  \n",
       "270221  Speed Skating  Speed Skating Women's 500 metres  No Medal  \n",
       "271050  Speed Skating  Speed Skating Women's 500 metres  No Medal  \n",
       "\n",
       "[467 rows x 15 columns]"
      ]
     },
     "execution_count": 65,
     "metadata": {},
     "output_type": "execute_result"
    }
   ],
   "source": [
    "sk_500_w_df"
   ]
  },
  {
   "cell_type": "code",
   "execution_count": 333,
   "id": "0a7ccb74-1582-4d82-b673-d7bf0b33677e",
   "metadata": {},
   "outputs": [
    {
     "data": {
      "text/html": [
       "<div>\n",
       "<style scoped>\n",
       "    .dataframe tbody tr th:only-of-type {\n",
       "        vertical-align: middle;\n",
       "    }\n",
       "\n",
       "    .dataframe tbody tr th {\n",
       "        vertical-align: top;\n",
       "    }\n",
       "\n",
       "    .dataframe thead th {\n",
       "        text-align: right;\n",
       "    }\n",
       "</style>\n",
       "<table border=\"1\" class=\"dataframe\">\n",
       "  <thead>\n",
       "    <tr style=\"text-align: right;\">\n",
       "      <th></th>\n",
       "      <th>Age</th>\n",
       "      <th>Height</th>\n",
       "      <th>Weight</th>\n",
       "      <th>Medal</th>\n",
       "    </tr>\n",
       "  </thead>\n",
       "  <tbody>\n",
       "    <tr>\n",
       "      <th>83</th>\n",
       "      <td>24.0</td>\n",
       "      <td>174.083352</td>\n",
       "      <td>70.026352</td>\n",
       "      <td>No Medal</td>\n",
       "    </tr>\n",
       "    <tr>\n",
       "      <th>997</th>\n",
       "      <td>21.0</td>\n",
       "      <td>183.000000</td>\n",
       "      <td>84.000000</td>\n",
       "      <td>No Medal</td>\n",
       "    </tr>\n",
       "    <tr>\n",
       "      <th>999</th>\n",
       "      <td>27.0</td>\n",
       "      <td>183.000000</td>\n",
       "      <td>84.000000</td>\n",
       "      <td>No Medal</td>\n",
       "    </tr>\n",
       "    <tr>\n",
       "      <th>1001</th>\n",
       "      <td>31.0</td>\n",
       "      <td>183.000000</td>\n",
       "      <td>84.000000</td>\n",
       "      <td>No Medal</td>\n",
       "    </tr>\n",
       "    <tr>\n",
       "      <th>1601</th>\n",
       "      <td>19.0</td>\n",
       "      <td>185.000000</td>\n",
       "      <td>75.000000</td>\n",
       "      <td>No Medal</td>\n",
       "    </tr>\n",
       "    <tr>\n",
       "      <th>...</th>\n",
       "      <td>...</td>\n",
       "      <td>...</td>\n",
       "      <td>...</td>\n",
       "      <td>...</td>\n",
       "    </tr>\n",
       "    <tr>\n",
       "      <th>269877</th>\n",
       "      <td>25.0</td>\n",
       "      <td>185.000000</td>\n",
       "      <td>80.000000</td>\n",
       "      <td>No Medal</td>\n",
       "    </tr>\n",
       "    <tr>\n",
       "      <th>269878</th>\n",
       "      <td>29.0</td>\n",
       "      <td>185.000000</td>\n",
       "      <td>80.000000</td>\n",
       "      <td>No Medal</td>\n",
       "    </tr>\n",
       "    <tr>\n",
       "      <th>269988</th>\n",
       "      <td>25.0</td>\n",
       "      <td>182.000000</td>\n",
       "      <td>80.000000</td>\n",
       "      <td>No Medal</td>\n",
       "    </tr>\n",
       "    <tr>\n",
       "      <th>270282</th>\n",
       "      <td>24.0</td>\n",
       "      <td>174.083352</td>\n",
       "      <td>70.026352</td>\n",
       "      <td>No Medal</td>\n",
       "    </tr>\n",
       "    <tr>\n",
       "      <th>270956</th>\n",
       "      <td>21.0</td>\n",
       "      <td>172.000000</td>\n",
       "      <td>78.000000</td>\n",
       "      <td>No Medal</td>\n",
       "    </tr>\n",
       "  </tbody>\n",
       "</table>\n",
       "<p>842 rows × 4 columns</p>\n",
       "</div>"
      ],
      "text/plain": [
       "         Age      Height     Weight     Medal\n",
       "83      24.0  174.083352  70.026352  No Medal\n",
       "997     21.0  183.000000  84.000000  No Medal\n",
       "999     27.0  183.000000  84.000000  No Medal\n",
       "1001    31.0  183.000000  84.000000  No Medal\n",
       "1601    19.0  185.000000  75.000000  No Medal\n",
       "...      ...         ...        ...       ...\n",
       "269877  25.0  185.000000  80.000000  No Medal\n",
       "269878  29.0  185.000000  80.000000  No Medal\n",
       "269988  25.0  182.000000  80.000000  No Medal\n",
       "270282  24.0  174.083352  70.026352  No Medal\n",
       "270956  21.0  172.000000  78.000000  No Medal\n",
       "\n",
       "[842 rows x 4 columns]"
      ]
     },
     "execution_count": 333,
     "metadata": {},
     "output_type": "execute_result"
    }
   ],
   "source": [
    "sk_500_m_df"
   ]
  },
  {
   "cell_type": "code",
   "execution_count": 334,
   "id": "4478ff76-ee21-4d9c-aff5-fe6574430b32",
   "metadata": {},
   "outputs": [],
   "source": [
    "sk_500_w_df = sk_500_w_df[['Age', 'Height', 'Weight', 'Medal']] "
   ]
  },
  {
   "cell_type": "code",
   "execution_count": 335,
   "id": "bb9adf76-3d92-4446-b60b-e3e878ac1dcd",
   "metadata": {},
   "outputs": [
    {
     "data": {
      "text/html": [
       "<div>\n",
       "<style scoped>\n",
       "    .dataframe tbody tr th:only-of-type {\n",
       "        vertical-align: middle;\n",
       "    }\n",
       "\n",
       "    .dataframe tbody tr th {\n",
       "        vertical-align: top;\n",
       "    }\n",
       "\n",
       "    .dataframe thead th {\n",
       "        text-align: right;\n",
       "    }\n",
       "</style>\n",
       "<table border=\"1\" class=\"dataframe\">\n",
       "  <thead>\n",
       "    <tr style=\"text-align: right;\">\n",
       "      <th></th>\n",
       "      <th>Age</th>\n",
       "      <th>Height</th>\n",
       "      <th>Weight</th>\n",
       "      <th>Medal</th>\n",
       "    </tr>\n",
       "  </thead>\n",
       "  <tbody>\n",
       "    <tr>\n",
       "      <th>4</th>\n",
       "      <td>21.0</td>\n",
       "      <td>185.0</td>\n",
       "      <td>82.0</td>\n",
       "      <td>No Medal</td>\n",
       "    </tr>\n",
       "    <tr>\n",
       "      <th>6</th>\n",
       "      <td>25.0</td>\n",
       "      <td>185.0</td>\n",
       "      <td>82.0</td>\n",
       "      <td>No Medal</td>\n",
       "    </tr>\n",
       "    <tr>\n",
       "      <th>8</th>\n",
       "      <td>27.0</td>\n",
       "      <td>185.0</td>\n",
       "      <td>82.0</td>\n",
       "      <td>No Medal</td>\n",
       "    </tr>\n",
       "    <tr>\n",
       "      <th>6394</th>\n",
       "      <td>17.0</td>\n",
       "      <td>163.0</td>\n",
       "      <td>52.0</td>\n",
       "      <td>No Medal</td>\n",
       "    </tr>\n",
       "    <tr>\n",
       "      <th>7799</th>\n",
       "      <td>26.0</td>\n",
       "      <td>174.0</td>\n",
       "      <td>72.0</td>\n",
       "      <td>No Medal</td>\n",
       "    </tr>\n",
       "    <tr>\n",
       "      <th>...</th>\n",
       "      <td>...</td>\n",
       "      <td>...</td>\n",
       "      <td>...</td>\n",
       "      <td>...</td>\n",
       "    </tr>\n",
       "    <tr>\n",
       "      <th>268770</th>\n",
       "      <td>25.0</td>\n",
       "      <td>174.0</td>\n",
       "      <td>65.0</td>\n",
       "      <td>No Medal</td>\n",
       "    </tr>\n",
       "    <tr>\n",
       "      <th>268923</th>\n",
       "      <td>23.0</td>\n",
       "      <td>172.0</td>\n",
       "      <td>70.0</td>\n",
       "      <td>No Medal</td>\n",
       "    </tr>\n",
       "    <tr>\n",
       "      <th>268924</th>\n",
       "      <td>27.0</td>\n",
       "      <td>172.0</td>\n",
       "      <td>70.0</td>\n",
       "      <td>No Medal</td>\n",
       "    </tr>\n",
       "    <tr>\n",
       "      <th>270221</th>\n",
       "      <td>29.0</td>\n",
       "      <td>177.0</td>\n",
       "      <td>69.0</td>\n",
       "      <td>No Medal</td>\n",
       "    </tr>\n",
       "    <tr>\n",
       "      <th>271050</th>\n",
       "      <td>26.0</td>\n",
       "      <td>174.0</td>\n",
       "      <td>65.0</td>\n",
       "      <td>No Medal</td>\n",
       "    </tr>\n",
       "  </tbody>\n",
       "</table>\n",
       "<p>467 rows × 4 columns</p>\n",
       "</div>"
      ],
      "text/plain": [
       "         Age  Height  Weight     Medal\n",
       "4       21.0   185.0    82.0  No Medal\n",
       "6       25.0   185.0    82.0  No Medal\n",
       "8       27.0   185.0    82.0  No Medal\n",
       "6394    17.0   163.0    52.0  No Medal\n",
       "7799    26.0   174.0    72.0  No Medal\n",
       "...      ...     ...     ...       ...\n",
       "268770  25.0   174.0    65.0  No Medal\n",
       "268923  23.0   172.0    70.0  No Medal\n",
       "268924  27.0   172.0    70.0  No Medal\n",
       "270221  29.0   177.0    69.0  No Medal\n",
       "271050  26.0   174.0    65.0  No Medal\n",
       "\n",
       "[467 rows x 4 columns]"
      ]
     },
     "execution_count": 335,
     "metadata": {},
     "output_type": "execute_result"
    }
   ],
   "source": [
    "sk_500_w_df"
   ]
  },
  {
   "cell_type": "code",
   "execution_count": 336,
   "id": "3f577e39-f662-4c88-a084-9765c2b39b0e",
   "metadata": {},
   "outputs": [],
   "source": [
    "sk_500_m_df = sk_500_m_df[['Age', 'Height', 'Weight', 'Medal']] "
   ]
  },
  {
   "cell_type": "code",
   "execution_count": 337,
   "id": "18eae34a-f0c1-4e05-98a0-f1a0c759b3dc",
   "metadata": {},
   "outputs": [
    {
     "data": {
      "text/html": [
       "<div>\n",
       "<style scoped>\n",
       "    .dataframe tbody tr th:only-of-type {\n",
       "        vertical-align: middle;\n",
       "    }\n",
       "\n",
       "    .dataframe tbody tr th {\n",
       "        vertical-align: top;\n",
       "    }\n",
       "\n",
       "    .dataframe thead th {\n",
       "        text-align: right;\n",
       "    }\n",
       "</style>\n",
       "<table border=\"1\" class=\"dataframe\">\n",
       "  <thead>\n",
       "    <tr style=\"text-align: right;\">\n",
       "      <th></th>\n",
       "      <th>Age</th>\n",
       "      <th>Height</th>\n",
       "      <th>Weight</th>\n",
       "      <th>Medal</th>\n",
       "    </tr>\n",
       "  </thead>\n",
       "  <tbody>\n",
       "    <tr>\n",
       "      <th>83</th>\n",
       "      <td>24.0</td>\n",
       "      <td>174.083352</td>\n",
       "      <td>70.026352</td>\n",
       "      <td>No Medal</td>\n",
       "    </tr>\n",
       "    <tr>\n",
       "      <th>997</th>\n",
       "      <td>21.0</td>\n",
       "      <td>183.000000</td>\n",
       "      <td>84.000000</td>\n",
       "      <td>No Medal</td>\n",
       "    </tr>\n",
       "    <tr>\n",
       "      <th>999</th>\n",
       "      <td>27.0</td>\n",
       "      <td>183.000000</td>\n",
       "      <td>84.000000</td>\n",
       "      <td>No Medal</td>\n",
       "    </tr>\n",
       "    <tr>\n",
       "      <th>1001</th>\n",
       "      <td>31.0</td>\n",
       "      <td>183.000000</td>\n",
       "      <td>84.000000</td>\n",
       "      <td>No Medal</td>\n",
       "    </tr>\n",
       "    <tr>\n",
       "      <th>1601</th>\n",
       "      <td>19.0</td>\n",
       "      <td>185.000000</td>\n",
       "      <td>75.000000</td>\n",
       "      <td>No Medal</td>\n",
       "    </tr>\n",
       "    <tr>\n",
       "      <th>...</th>\n",
       "      <td>...</td>\n",
       "      <td>...</td>\n",
       "      <td>...</td>\n",
       "      <td>...</td>\n",
       "    </tr>\n",
       "    <tr>\n",
       "      <th>269877</th>\n",
       "      <td>25.0</td>\n",
       "      <td>185.000000</td>\n",
       "      <td>80.000000</td>\n",
       "      <td>No Medal</td>\n",
       "    </tr>\n",
       "    <tr>\n",
       "      <th>269878</th>\n",
       "      <td>29.0</td>\n",
       "      <td>185.000000</td>\n",
       "      <td>80.000000</td>\n",
       "      <td>No Medal</td>\n",
       "    </tr>\n",
       "    <tr>\n",
       "      <th>269988</th>\n",
       "      <td>25.0</td>\n",
       "      <td>182.000000</td>\n",
       "      <td>80.000000</td>\n",
       "      <td>No Medal</td>\n",
       "    </tr>\n",
       "    <tr>\n",
       "      <th>270282</th>\n",
       "      <td>24.0</td>\n",
       "      <td>174.083352</td>\n",
       "      <td>70.026352</td>\n",
       "      <td>No Medal</td>\n",
       "    </tr>\n",
       "    <tr>\n",
       "      <th>270956</th>\n",
       "      <td>21.0</td>\n",
       "      <td>172.000000</td>\n",
       "      <td>78.000000</td>\n",
       "      <td>No Medal</td>\n",
       "    </tr>\n",
       "  </tbody>\n",
       "</table>\n",
       "<p>842 rows × 4 columns</p>\n",
       "</div>"
      ],
      "text/plain": [
       "         Age      Height     Weight     Medal\n",
       "83      24.0  174.083352  70.026352  No Medal\n",
       "997     21.0  183.000000  84.000000  No Medal\n",
       "999     27.0  183.000000  84.000000  No Medal\n",
       "1001    31.0  183.000000  84.000000  No Medal\n",
       "1601    19.0  185.000000  75.000000  No Medal\n",
       "...      ...         ...        ...       ...\n",
       "269877  25.0  185.000000  80.000000  No Medal\n",
       "269878  29.0  185.000000  80.000000  No Medal\n",
       "269988  25.0  182.000000  80.000000  No Medal\n",
       "270282  24.0  174.083352  70.026352  No Medal\n",
       "270956  21.0  172.000000  78.000000  No Medal\n",
       "\n",
       "[842 rows x 4 columns]"
      ]
     },
     "execution_count": 337,
     "metadata": {},
     "output_type": "execute_result"
    }
   ],
   "source": [
    "sk_500_m_df"
   ]
  },
  {
   "cell_type": "code",
   "execution_count": 338,
   "id": "ea9177e5-e6c1-4ff0-b7a2-825afc0a928d",
   "metadata": {},
   "outputs": [],
   "source": [
    "def digitalize(df: pd.core.frame.DataFrame):\n",
    "    digit_df = df.copy()\n",
    "    obj_columns = digit_df.select_dtypes(include=['object']).columns\n",
    "    for feat in obj_columns:\n",
    "        digit_df[feat] = pd.factorize(digit_df[feat])[0]\n",
    "    return digit_df"
   ]
  },
  {
   "cell_type": "code",
   "execution_count": 339,
   "id": "4f5f27b3-ef04-4d74-b7d0-7cd7028fa8e7",
   "metadata": {},
   "outputs": [],
   "source": [
    "sk_500_m_df_f = digitalize(sk_500_m_df)\n",
    "sk_500_w_df_f = digitalize(sk_500_w_df)"
   ]
  },
  {
   "cell_type": "code",
   "execution_count": 340,
   "id": "2d131433-52ee-47a3-afdd-e5760ef8721f",
   "metadata": {},
   "outputs": [
    {
     "data": {
      "text/html": [
       "<div>\n",
       "<style scoped>\n",
       "    .dataframe tbody tr th:only-of-type {\n",
       "        vertical-align: middle;\n",
       "    }\n",
       "\n",
       "    .dataframe tbody tr th {\n",
       "        vertical-align: top;\n",
       "    }\n",
       "\n",
       "    .dataframe thead th {\n",
       "        text-align: right;\n",
       "    }\n",
       "</style>\n",
       "<table border=\"1\" class=\"dataframe\">\n",
       "  <thead>\n",
       "    <tr style=\"text-align: right;\">\n",
       "      <th></th>\n",
       "      <th>Age</th>\n",
       "      <th>Height</th>\n",
       "      <th>Weight</th>\n",
       "      <th>Medal</th>\n",
       "    </tr>\n",
       "  </thead>\n",
       "  <tbody>\n",
       "    <tr>\n",
       "      <th>83</th>\n",
       "      <td>24.0</td>\n",
       "      <td>174.083352</td>\n",
       "      <td>70.026352</td>\n",
       "      <td>0</td>\n",
       "    </tr>\n",
       "    <tr>\n",
       "      <th>997</th>\n",
       "      <td>21.0</td>\n",
       "      <td>183.000000</td>\n",
       "      <td>84.000000</td>\n",
       "      <td>0</td>\n",
       "    </tr>\n",
       "    <tr>\n",
       "      <th>999</th>\n",
       "      <td>27.0</td>\n",
       "      <td>183.000000</td>\n",
       "      <td>84.000000</td>\n",
       "      <td>0</td>\n",
       "    </tr>\n",
       "    <tr>\n",
       "      <th>1001</th>\n",
       "      <td>31.0</td>\n",
       "      <td>183.000000</td>\n",
       "      <td>84.000000</td>\n",
       "      <td>0</td>\n",
       "    </tr>\n",
       "    <tr>\n",
       "      <th>1601</th>\n",
       "      <td>19.0</td>\n",
       "      <td>185.000000</td>\n",
       "      <td>75.000000</td>\n",
       "      <td>0</td>\n",
       "    </tr>\n",
       "    <tr>\n",
       "      <th>...</th>\n",
       "      <td>...</td>\n",
       "      <td>...</td>\n",
       "      <td>...</td>\n",
       "      <td>...</td>\n",
       "    </tr>\n",
       "    <tr>\n",
       "      <th>269877</th>\n",
       "      <td>25.0</td>\n",
       "      <td>185.000000</td>\n",
       "      <td>80.000000</td>\n",
       "      <td>0</td>\n",
       "    </tr>\n",
       "    <tr>\n",
       "      <th>269878</th>\n",
       "      <td>29.0</td>\n",
       "      <td>185.000000</td>\n",
       "      <td>80.000000</td>\n",
       "      <td>0</td>\n",
       "    </tr>\n",
       "    <tr>\n",
       "      <th>269988</th>\n",
       "      <td>25.0</td>\n",
       "      <td>182.000000</td>\n",
       "      <td>80.000000</td>\n",
       "      <td>0</td>\n",
       "    </tr>\n",
       "    <tr>\n",
       "      <th>270282</th>\n",
       "      <td>24.0</td>\n",
       "      <td>174.083352</td>\n",
       "      <td>70.026352</td>\n",
       "      <td>0</td>\n",
       "    </tr>\n",
       "    <tr>\n",
       "      <th>270956</th>\n",
       "      <td>21.0</td>\n",
       "      <td>172.000000</td>\n",
       "      <td>78.000000</td>\n",
       "      <td>0</td>\n",
       "    </tr>\n",
       "  </tbody>\n",
       "</table>\n",
       "<p>842 rows × 4 columns</p>\n",
       "</div>"
      ],
      "text/plain": [
       "         Age      Height     Weight  Medal\n",
       "83      24.0  174.083352  70.026352      0\n",
       "997     21.0  183.000000  84.000000      0\n",
       "999     27.0  183.000000  84.000000      0\n",
       "1001    31.0  183.000000  84.000000      0\n",
       "1601    19.0  185.000000  75.000000      0\n",
       "...      ...         ...        ...    ...\n",
       "269877  25.0  185.000000  80.000000      0\n",
       "269878  29.0  185.000000  80.000000      0\n",
       "269988  25.0  182.000000  80.000000      0\n",
       "270282  24.0  174.083352  70.026352      0\n",
       "270956  21.0  172.000000  78.000000      0\n",
       "\n",
       "[842 rows x 4 columns]"
      ]
     },
     "execution_count": 340,
     "metadata": {},
     "output_type": "execute_result"
    }
   ],
   "source": [
    "sk_500_m_df_f"
   ]
  },
  {
   "cell_type": "markdown",
   "id": "fdfc0b62-6703-468c-954f-93ebbbce1abb",
   "metadata": {},
   "source": [
    "# Корреляция"
   ]
  },
  {
   "cell_type": "code",
   "execution_count": 341,
   "id": "e795723f-2130-4996-a7b8-727b6b63d205",
   "metadata": {},
   "outputs": [
    {
     "data": {
      "text/html": [
       "<div>\n",
       "<style scoped>\n",
       "    .dataframe tbody tr th:only-of-type {\n",
       "        vertical-align: middle;\n",
       "    }\n",
       "\n",
       "    .dataframe tbody tr th {\n",
       "        vertical-align: top;\n",
       "    }\n",
       "\n",
       "    .dataframe thead th {\n",
       "        text-align: right;\n",
       "    }\n",
       "</style>\n",
       "<table border=\"1\" class=\"dataframe\">\n",
       "  <thead>\n",
       "    <tr style=\"text-align: right;\">\n",
       "      <th></th>\n",
       "      <th>Age</th>\n",
       "      <th>Height</th>\n",
       "      <th>Weight</th>\n",
       "      <th>Medal</th>\n",
       "    </tr>\n",
       "  </thead>\n",
       "  <tbody>\n",
       "    <tr>\n",
       "      <th>10833</th>\n",
       "      <td>23.0</td>\n",
       "      <td>174.083352</td>\n",
       "      <td>70.026352</td>\n",
       "      <td>1</td>\n",
       "    </tr>\n",
       "    <tr>\n",
       "      <th>13465</th>\n",
       "      <td>31.0</td>\n",
       "      <td>180.000000</td>\n",
       "      <td>70.026352</td>\n",
       "      <td>2</td>\n",
       "    </tr>\n",
       "    <tr>\n",
       "      <th>15338</th>\n",
       "      <td>27.0</td>\n",
       "      <td>174.083352</td>\n",
       "      <td>70.026352</td>\n",
       "      <td>3</td>\n",
       "    </tr>\n",
       "    <tr>\n",
       "      <th>25924</th>\n",
       "      <td>24.0</td>\n",
       "      <td>184.000000</td>\n",
       "      <td>92.000000</td>\n",
       "      <td>3</td>\n",
       "    </tr>\n",
       "    <tr>\n",
       "      <th>26777</th>\n",
       "      <td>25.0</td>\n",
       "      <td>171.000000</td>\n",
       "      <td>72.000000</td>\n",
       "      <td>1</td>\n",
       "    </tr>\n",
       "    <tr>\n",
       "      <th>...</th>\n",
       "      <td>...</td>\n",
       "      <td>...</td>\n",
       "      <td>...</td>\n",
       "      <td>...</td>\n",
       "    </tr>\n",
       "    <tr>\n",
       "      <th>239104</th>\n",
       "      <td>26.0</td>\n",
       "      <td>181.000000</td>\n",
       "      <td>77.000000</td>\n",
       "      <td>3</td>\n",
       "    </tr>\n",
       "    <tr>\n",
       "      <th>239745</th>\n",
       "      <td>30.0</td>\n",
       "      <td>167.000000</td>\n",
       "      <td>67.000000</td>\n",
       "      <td>1</td>\n",
       "    </tr>\n",
       "    <tr>\n",
       "      <th>239750</th>\n",
       "      <td>34.0</td>\n",
       "      <td>167.000000</td>\n",
       "      <td>67.000000</td>\n",
       "      <td>2</td>\n",
       "    </tr>\n",
       "    <tr>\n",
       "      <th>263063</th>\n",
       "      <td>21.0</td>\n",
       "      <td>190.000000</td>\n",
       "      <td>85.000000</td>\n",
       "      <td>3</td>\n",
       "    </tr>\n",
       "    <tr>\n",
       "      <th>265807</th>\n",
       "      <td>24.0</td>\n",
       "      <td>181.000000</td>\n",
       "      <td>79.000000</td>\n",
       "      <td>3</td>\n",
       "    </tr>\n",
       "  </tbody>\n",
       "</table>\n",
       "<p>72 rows × 4 columns</p>\n",
       "</div>"
      ],
      "text/plain": [
       "         Age      Height     Weight  Medal\n",
       "10833   23.0  174.083352  70.026352      1\n",
       "13465   31.0  180.000000  70.026352      2\n",
       "15338   27.0  174.083352  70.026352      3\n",
       "25924   24.0  184.000000  92.000000      3\n",
       "26777   25.0  171.000000  72.000000      1\n",
       "...      ...         ...        ...    ...\n",
       "239104  26.0  181.000000  77.000000      3\n",
       "239745  30.0  167.000000  67.000000      1\n",
       "239750  34.0  167.000000  67.000000      2\n",
       "263063  21.0  190.000000  85.000000      3\n",
       "265807  24.0  181.000000  79.000000      3\n",
       "\n",
       "[72 rows x 4 columns]"
      ]
     },
     "execution_count": 341,
     "metadata": {},
     "output_type": "execute_result"
    }
   ],
   "source": [
    "df_true_medal = sk_500_m_df_f[(sk_500_m_df_f['Medal'] != 0)]\n",
    "df_true_medal"
   ]
  },
  {
   "cell_type": "code",
   "execution_count": 342,
   "id": "e1ed39db-0833-4377-a252-9847fe7fd804",
   "metadata": {},
   "outputs": [
    {
     "data": {
      "text/html": [
       "<div>\n",
       "<style scoped>\n",
       "    .dataframe tbody tr th:only-of-type {\n",
       "        vertical-align: middle;\n",
       "    }\n",
       "\n",
       "    .dataframe tbody tr th {\n",
       "        vertical-align: top;\n",
       "    }\n",
       "\n",
       "    .dataframe thead th {\n",
       "        text-align: right;\n",
       "    }\n",
       "</style>\n",
       "<table border=\"1\" class=\"dataframe\">\n",
       "  <thead>\n",
       "    <tr style=\"text-align: right;\">\n",
       "      <th></th>\n",
       "      <th>Age</th>\n",
       "      <th>Height</th>\n",
       "      <th>Weight</th>\n",
       "      <th>Medal</th>\n",
       "    </tr>\n",
       "  </thead>\n",
       "  <tbody>\n",
       "    <tr>\n",
       "      <th>Age</th>\n",
       "      <td>1.000000</td>\n",
       "      <td>-0.068238</td>\n",
       "      <td>-0.036475</td>\n",
       "      <td>0.225416</td>\n",
       "    </tr>\n",
       "    <tr>\n",
       "      <th>Height</th>\n",
       "      <td>-0.068238</td>\n",
       "      <td>1.000000</td>\n",
       "      <td>0.786992</td>\n",
       "      <td>0.116923</td>\n",
       "    </tr>\n",
       "    <tr>\n",
       "      <th>Weight</th>\n",
       "      <td>-0.036475</td>\n",
       "      <td>0.786992</td>\n",
       "      <td>1.000000</td>\n",
       "      <td>0.083732</td>\n",
       "    </tr>\n",
       "    <tr>\n",
       "      <th>Medal</th>\n",
       "      <td>0.225416</td>\n",
       "      <td>0.116923</td>\n",
       "      <td>0.083732</td>\n",
       "      <td>1.000000</td>\n",
       "    </tr>\n",
       "  </tbody>\n",
       "</table>\n",
       "</div>"
      ],
      "text/plain": [
       "             Age    Height    Weight     Medal\n",
       "Age     1.000000 -0.068238 -0.036475  0.225416\n",
       "Height -0.068238  1.000000  0.786992  0.116923\n",
       "Weight -0.036475  0.786992  1.000000  0.083732\n",
       "Medal   0.225416  0.116923  0.083732  1.000000"
      ]
     },
     "execution_count": 342,
     "metadata": {},
     "output_type": "execute_result"
    }
   ],
   "source": [
    "correlation_matrix = df_true_medal.corr()\n",
    "correlation_matrix"
   ]
  },
  {
   "cell_type": "code",
   "execution_count": 343,
   "id": "47716107-a450-4de7-b892-cfe4a4e6c75b",
   "metadata": {},
   "outputs": [
    {
     "data": {
      "text/plain": [
       "<Axes: >"
      ]
     },
     "execution_count": 343,
     "metadata": {},
     "output_type": "execute_result"
    },
    {
     "data": {
      "image/png": "[encoded data removed]",
      "text/plain": [
       "<Figure size 640x480 with 2 Axes>"
      ]
     },
     "metadata": {},
     "output_type": "display_data"
    }
   ],
   "source": [
    "sns.set_theme()\n",
    "sns.heatmap(correlation_matrix, annot=True, linewidths=.5)"
   ]
  },
  {
   "cell_type": "markdown",
   "id": "bc5fd5c8-9469-46f4-9658-8ec8f0a3b4a5",
   "metadata": {},
   "source": [
    "# Создание тестовой и тренировочной выборки"
   ]
  },
  {
   "cell_type": "markdown",
   "id": "a5448670-dacc-4147-a6d1-f5af6eb5de44",
   "metadata": {},
   "source": [
    "---\n",
    "Указание параметра медали как три значения"
   ]
  },
  {
   "cell_type": "code",
   "execution_count": 385,
   "id": "3fa9b093-4581-4164-9eb3-ea22ae47ad5f",
   "metadata": {},
   "outputs": [],
   "source": [
    "features = sk_500_m_df_f[['Height', 'Weight', 'Age']]\n",
    "target = sk_500_m_df_f['Medal']"
   ]
  },
  {
   "cell_type": "code",
   "execution_count": 380,
   "id": "6e350d72-c3d9-434c-b5d0-0c67177b5019",
   "metadata": {},
   "outputs": [],
   "source": [
    "from sklearn.model_selection import train_test_split"
   ]
  },
  {
   "cell_type": "code",
   "execution_count": 381,
   "id": "b7872bee-043d-4c26-a58c-0e7596afb78d",
   "metadata": {},
   "outputs": [],
   "source": [
    "X_train, X_test, y_train, y_test = train_test_split(features, target, test_size=0.2, random_state=42)"
   ]
  },
  {
   "cell_type": "code",
   "execution_count": 382,
   "id": "ff9224bc-1564-4314-a257-9287ead8260b",
   "metadata": {},
   "outputs": [
    {
     "data": {
      "text/plain": [
       "((673, 3), (169, 3), (673,), (169,))"
      ]
     },
     "execution_count": 382,
     "metadata": {},
     "output_type": "execute_result"
    }
   ],
   "source": [
    "X_train.shape, X_test.shape, y_train.shape, y_test.shape, "
   ]
  },
  {
   "cell_type": "markdown",
   "id": "b579c911-b860-4095-a159-df7a886800ba",
   "metadata": {},
   "source": [
    "---\n",
    "Указание параметра медали как одно значение (только для призеров)"
   ]
  },
  {
   "cell_type": "code",
   "execution_count": 388,
   "id": "ef0c92cc-94ba-4502-a796-4aa3576f7451",
   "metadata": {},
   "outputs": [],
   "source": [
    "df_tru_medal_v2 = sk_500_m_df_f.copy()\n",
    "df_tru_medal_v2 = df_tru_medal_v2[df_tru_medal_v2['Medal'] != 0]\n",
    "df_tru_medal_v2['Medal'] = df_tru_medal_v2['Medal'].map({1: 0, 2: 1, 3: 0}).fillna(0)\n",
    "features_v2 = df_tru_medal_v2[['Height', 'Weight', 'Age']]\n",
    "target_v2 = df_tru_medal_v2['Medal']"
   ]
  },
  {
   "cell_type": "code",
   "execution_count": 389,
   "id": "8031bc8b-3803-417a-8353-3d2a37f42e51",
   "metadata": {},
   "outputs": [
    {
     "data": {
      "text/plain": [
       "((57, 3), (15, 3), (57,), (15,))"
      ]
     },
     "execution_count": 389,
     "metadata": {},
     "output_type": "execute_result"
    }
   ],
   "source": [
    "X_train_v2, X_test_v2, y_train_v2, y_test_v2 = train_test_split(features_v2, target_v2, test_size=0.2, random_state=42)\n",
    "X_train_v2.shape, X_test_v2.shape, y_train_v2.shape, y_test_v2.shape, "
   ]
  },
  {
   "cell_type": "markdown",
   "id": "977e781f-132e-475a-a05d-e94d449d1222",
   "metadata": {},
   "source": [
    "---\n",
    "Указание параметра медали как одно значение для всех медалистов"
   ]
  },
  {
   "cell_type": "code",
   "execution_count": 456,
   "id": "6850fc27-bd4e-4da1-a1c5-081c4477932a",
   "metadata": {},
   "outputs": [],
   "source": [
    "df_tru_medal_v3 = sk_500_m_df_f.copy()\n",
    "df_tru_medal_v3['Medal'] = df_tru_medal_v3['Medal'].map({1: 1, 2: 1, 3: 1}).fillna(0)\n",
    "features_v3 = df_tru_medal_v3[['Height', 'Weight', 'Age']]\n",
    "target_v3 = df_tru_medal_v3['Medal']"
   ]
  },
  {
   "cell_type": "code",
   "execution_count": 457,
   "id": "95bd8803-e59f-44d9-89ff-773cf8f62a9c",
   "metadata": {},
   "outputs": [
    {
     "data": {
      "text/plain": [
       "((673, 3), (169, 3), (673,), (169,))"
      ]
     },
     "execution_count": 457,
     "metadata": {},
     "output_type": "execute_result"
    }
   ],
   "source": [
    "X_train_v3, X_test_v3, y_train_v3, y_test_v3 = train_test_split(features_v3, target_v3, test_size=0.2, random_state=42)\n",
    "X_train_v3.shape, X_test_v3.shape, y_train_v3.shape, y_test_v3.shape, "
   ]
  },
  {
   "cell_type": "markdown",
   "id": "f711c248-79cc-4e7e-8046-c4557ef34671",
   "metadata": {},
   "source": [
    "## Модель"
   ]
  },
  {
   "cell_type": "code",
   "execution_count": 417,
   "id": "dec8a702-5def-4554-a877-862f42601bfc",
   "metadata": {},
   "outputs": [],
   "source": [
    "from sklearn.linear_model import LinearRegression\n",
    "from sklearn.ensemble  import RandomForestClassifier\n",
    "from sklearn import metrics\n",
    "from sklearn.metrics import classification_report, accuracy_score, roc_curve, auc\n",
    "from sklearn.utils import check_array\n",
    "import numpy.ma as ma\n",
    "import numpy as np"
   ]
  },
  {
   "cell_type": "code",
   "execution_count": 458,
   "id": "6c56132f-a89d-4a2e-ab49-02584d49dab3",
   "metadata": {},
   "outputs": [
    {
     "data": {
      "text/html": [
       "<style>#sk-container-id-28 {color: black;}#sk-container-id-28 pre{padding: 0;}#sk-container-id-28 div.sk-toggleable {background-color: white;}#sk-container-id-28 label.sk-toggleable__label {cursor: pointer;display: block;width: 100%;margin-bottom: 0;padding: 0.3em;box-sizing: border-box;text-align: center;}#sk-container-id-28 label.sk-toggleable__label-arrow:before {content: \"▸\";float: left;margin-right: 0.25em;color: #696969;}#sk-container-id-28 label.sk-toggleable__label-arrow:hover:before {color: black;}#sk-container-id-28 div.sk-estimator:hover label.sk-toggleable__label-arrow:before {color: black;}#sk-container-id-28 div.sk-toggleable__content {max-height: 0;max-width: 0;overflow: hidden;text-align: left;background-color: #f0f8ff;}#sk-container-id-28 div.sk-toggleable__content pre {margin: 0.2em;color: black;border-radius: 0.25em;background-color: #f0f8ff;}#sk-container-id-28 input.sk-toggleable__control:checked~div.sk-toggleable__content {max-height: 200px;max-width: 100%;overflow: auto;}#sk-container-id-28 input.sk-toggleable__control:checked~label.sk-toggleable__label-arrow:before {content: \"▾\";}#sk-container-id-28 div.sk-estimator input.sk-toggleable__control:checked~label.sk-toggleable__label {background-color: #d4ebff;}#sk-container-id-28 div.sk-label input.sk-toggleable__control:checked~label.sk-toggleable__label {background-color: #d4ebff;}#sk-container-id-28 input.sk-hidden--visually {border: 0;clip: rect(1px 1px 1px 1px);clip: rect(1px, 1px, 1px, 1px);height: 1px;margin: -1px;overflow: hidden;padding: 0;position: absolute;width: 1px;}#sk-container-id-28 div.sk-estimator {font-family: monospace;background-color: #f0f8ff;border: 1px dotted black;border-radius: 0.25em;box-sizing: border-box;margin-bottom: 0.5em;}#sk-container-id-28 div.sk-estimator:hover {background-color: #d4ebff;}#sk-container-id-28 div.sk-parallel-item::after {content: \"\";width: 100%;border-bottom: 1px solid gray;flex-grow: 1;}#sk-container-id-28 div.sk-label:hover label.sk-toggleable__label {background-color: #d4ebff;}#sk-container-id-28 div.sk-serial::before {content: \"\";position: absolute;border-left: 1px solid gray;box-sizing: border-box;top: 0;bottom: 0;left: 50%;z-index: 0;}#sk-container-id-28 div.sk-serial {display: flex;flex-direction: column;align-items: center;background-color: white;padding-right: 0.2em;padding-left: 0.2em;position: relative;}#sk-container-id-28 div.sk-item {position: relative;z-index: 1;}#sk-container-id-28 div.sk-parallel {display: flex;align-items: stretch;justify-content: center;background-color: white;position: relative;}#sk-container-id-28 div.sk-item::before, #sk-container-id-28 div.sk-parallel-item::before {content: \"\";position: absolute;border-left: 1px solid gray;box-sizing: border-box;top: 0;bottom: 0;left: 50%;z-index: -1;}#sk-container-id-28 div.sk-parallel-item {display: flex;flex-direction: column;z-index: 1;position: relative;background-color: white;}#sk-container-id-28 div.sk-parallel-item:first-child::after {align-self: flex-end;width: 50%;}#sk-container-id-28 div.sk-parallel-item:last-child::after {align-self: flex-start;width: 50%;}#sk-container-id-28 div.sk-parallel-item:only-child::after {width: 0;}#sk-container-id-28 div.sk-dashed-wrapped {border: 1px dashed gray;margin: 0 0.4em 0.5em 0.4em;box-sizing: border-box;padding-bottom: 0.4em;background-color: white;}#sk-container-id-28 div.sk-label label {font-family: monospace;font-weight: bold;display: inline-block;line-height: 1.2em;}#sk-container-id-28 div.sk-label-container {text-align: center;}#sk-container-id-28 div.sk-container {/* jupyter's `normalize.less` sets `[hidden] { display: none; }` but bootstrap.min.css set `[hidden] { display: none !important; }` so we also need the `!important` here to be able to override the default hidden behavior on the sphinx rendered scikit-learn.org. See: https://github.com/scikit-learn/scikit-learn/issues/21755 */display: inline-block !important;position: relative;}#sk-container-id-28 div.sk-text-repr-fallback {display: none;}</style><div id=\"sk-container-id-28\" class=\"sk-top-container\"><div class=\"sk-text-repr-fallback\"><pre>RandomForestClassifier(random_state=42)</pre><b>In a Jupyter environment, please rerun this cell to show the HTML representation or trust the notebook. <br />On GitHub, the HTML representation is unable to render, please try loading this page with nbviewer.org.</b></div><div class=\"sk-container\" hidden><div class=\"sk-item\"><div class=\"sk-estimator sk-toggleable\"><input class=\"sk-toggleable__control sk-hidden--visually\" id=\"sk-estimator-id-28\" type=\"checkbox\" checked><label for=\"sk-estimator-id-28\" class=\"sk-toggleable__label sk-toggleable__label-arrow\">RandomForestClassifier</label><div class=\"sk-toggleable__content\"><pre>RandomForestClassifier(random_state=42)</pre></div></div></div></div></div>"
      ],
      "text/plain": [
       "RandomForestClassifier(random_state=42)"
      ]
     },
     "execution_count": 458,
     "metadata": {},
     "output_type": "execute_result"
    }
   ],
   "source": [
    "model = LinearRegression()\n",
    "model.fit(X_train, y_train)\n",
    "\n",
    "model_v2 = LinearRegression()\n",
    "model_v2.fit(X_train_v2, y_train_v2)\n",
    "\n",
    "model_v3 = LinearRegression()\n",
    "model_v3.fit(X_train_v3, y_train_v3)\n",
    "\n",
    "model_forest = RandomForestClassifier(random_state=42)\n",
    "model_forest.fit(X_train, y_train)\n",
    "\n",
    "model_forest_v2 = RandomForestClassifier(random_state=42)\n",
    "model_forest_v2.fit(X_train_v2, y_train_v2)\n",
    "\n",
    "model_forest_v3 = RandomForestClassifier(random_state=42)\n",
    "model_forest_v3.fit(X_train_v3, y_train_v3)"
   ]
  },
  {
   "cell_type": "markdown",
   "id": "79d12a0e-579e-496f-b8c5-768d70e6a2a9",
   "metadata": {},
   "source": [
    "# Пресказание"
   ]
  },
  {
   "cell_type": "code",
   "execution_count": 392,
   "id": "e4f1d462-171f-46aa-94e9-ab7cbd7fb981",
   "metadata": {},
   "outputs": [
    {
     "data": {
      "text/plain": [
       "Medal\n",
       "0    0.914489\n",
       "3    0.030879\n",
       "1    0.027316\n",
       "2    0.027316\n",
       "Name: proportion, dtype: float64"
      ]
     },
     "execution_count": 392,
     "metadata": {},
     "output_type": "execute_result"
    }
   ],
   "source": [
    "sk_500_m_df_f['Medal'].value_counts(normalize=True, dropna=False)"
   ]
  },
  {
   "cell_type": "code",
   "execution_count": 393,
   "id": "f6a63c93-35ed-4d49-a968-c116bd8ea2c6",
   "metadata": {},
   "outputs": [
    {
     "data": {
      "text/plain": [
       "Medal\n",
       "No Medal    0.914489\n",
       "Silver      0.030879\n",
       "Bronze      0.027316\n",
       "Gold        0.027316\n",
       "Name: proportion, dtype: float64"
      ]
     },
     "execution_count": 393,
     "metadata": {},
     "output_type": "execute_result"
    }
   ],
   "source": [
    "sk_500_m_df['Medal'].value_counts(normalize=True, dropna=False)"
   ]
  },
  {
   "cell_type": "code",
   "execution_count": 470,
   "id": "d3760f53-3081-46b7-a316-abd5e7ef2c02",
   "metadata": {
    "scrolled": true
   },
   "outputs": [
    {
     "name": "stdout",
     "output_type": "stream",
     "text": [
      "Точность предсказаний среди всех участников (с указанием трех типов медалей)\n",
      "Точность (по случайному лесу): 0.8816568047337278\n",
      "              precision    recall  f1-score   support\n",
      "\n",
      "           0       0.89      0.99      0.94       151\n",
      "           1       0.00      0.00      0.00         7\n",
      "           2       0.00      0.00      0.00         6\n",
      "           3       0.00      0.00      0.00         5\n",
      "\n",
      "    accuracy                           0.88       169\n",
      "   macro avg       0.22      0.25      0.23       169\n",
      "weighted avg       0.80      0.88      0.84       169\n",
      "\n",
      "\n",
      "Точность предсказаний среди призеров (с указанием медали как одно значение только для призеров\n",
      "Точность (по случайному лесу): 0.6666666666666666\n",
      "              precision    recall  f1-score   support\n",
      "\n",
      "           0       0.71      0.91      0.80        11\n",
      "           1       0.00      0.00      0.00         4\n",
      "\n",
      "    accuracy                           0.67        15\n",
      "   macro avg       0.36      0.45      0.40        15\n",
      "weighted avg       0.52      0.67      0.59        15\n",
      "\n",
      "\n",
      "Точность предсказаний среди призеров (с указанием медали как одно значение для всех участников)\n",
      "Точность (по случайному лесу): 0.8698224852071006\n",
      "              precision    recall  f1-score   support\n",
      "\n",
      "         0.0       0.89      0.97      0.93       151\n",
      "         1.0       0.00      0.00      0.00        18\n",
      "\n",
      "    accuracy                           0.87       169\n",
      "   macro avg       0.45      0.49      0.47       169\n",
      "weighted avg       0.80      0.87      0.83       169\n",
      "\n"
     ]
    },
    {
     "name": "stderr",
     "output_type": "stream",
     "text": [
      "C:\\Users\\alexa\\AppData\\Local\\Programs\\Python\\Python311\\Lib\\site-packages\\sklearn\\metrics\\_classification.py:1469: UndefinedMetricWarning: Precision and F-score are ill-defined and being set to 0.0 in labels with no predicted samples. Use `zero_division` parameter to control this behavior.\n",
      "  _warn_prf(average, modifier, msg_start, len(result))\n",
      "C:\\Users\\alexa\\AppData\\Local\\Programs\\Python\\Python311\\Lib\\site-packages\\sklearn\\metrics\\_classification.py:1469: UndefinedMetricWarning: Precision and F-score are ill-defined and being set to 0.0 in labels with no predicted samples. Use `zero_division` parameter to control this behavior.\n",
      "  _warn_prf(average, modifier, msg_start, len(result))\n",
      "C:\\Users\\alexa\\AppData\\Local\\Programs\\Python\\Python311\\Lib\\site-packages\\sklearn\\metrics\\_classification.py:1469: UndefinedMetricWarning: Precision and F-score are ill-defined and being set to 0.0 in labels with no predicted samples. Use `zero_division` parameter to control this behavior.\n",
      "  _warn_prf(average, modifier, msg_start, len(result))\n"
     ]
    }
   ],
   "source": [
    "prediction_1 = model.predict(X_test)\n",
    "prediction_2 = model_forest.predict(X_test)\n",
    "accuracy_for = accuracy_score(y_test, prediction_2)\n",
    "\n",
    "print(\"Точность предсказаний среди всех участников (с указанием трех типов медалей)\")\n",
    "print(\"Точность (по случайному лесу):\", accuracy_for)\n",
    "print(classification_report(y_test, prediction_2))\n",
    "\n",
    "prediction_1_v2 = model_v2.predict(X_test_v2)\n",
    "prediction_2_v2 = model_forest_v2.predict(X_test_v2)\n",
    "accuracy_2_v2 = accuracy_score(y_test_v2, prediction_2_v2)\n",
    "\n",
    "print(\"\\nТочность предсказаний среди призеров (с указанием медали как одно значение только для призеров\")\n",
    "print(\"Точность (по случайному лесу):\", accuracy_2_v2)\n",
    "print(classification_report(y_test_v2, prediction_2_v2))\n",
    "\n",
    "prediction_1_v3 = model_v3.predict(X_test_v3)\n",
    "prediction_2_v3= model_forest_v3.predict(X_test_v3)\n",
    "accuracy_2_v3 = accuracy_score(y_test_v3, prediction_2_v3)\n",
    "\n",
    "print(\"\\nТочность предсказаний среди призеров (с указанием медали как одно значение для всех участников)\")\n",
    "print(\"Точность (по случайному лесу):\", accuracy_2_v3)\n",
    "print(classification_report(y_test_v3, prediction_2_v3))"
   ]
  },
  {
   "cell_type": "markdown",
   "id": "1b97aaf5-9666-4c89-b682-8bbda42b641a",
   "metadata": {},
   "source": [
    "В результате, модель являеться не точной из-за большого количества участников, у которых нет медалей или из-за, в целом, маленькой выборки значений.\n",
    "Проделаем предобработку данных повторно и возьмем всех участников мужчин спорта Speed Skating, без указания дистанции (до этого рассматривал дистанция 100 м.)"
   ]
  },
  {
   "cell_type": "code",
   "execution_count": 466,
   "id": "33d6723b-527e-4cea-8ff8-d4050e8af924",
   "metadata": {},
   "outputs": [
    {
     "name": "stdout",
     "output_type": "stream",
     "text": [
      "Акуратность (точность): 0.8983739837398373\n",
      "              precision    recall  f1-score   support\n",
      "\n",
      "         0.0       0.93      0.98      0.95       669\n",
      "         1.0       0.33      0.29      0.31        21\n",
      "         2.0       0.11      0.04      0.06        24\n",
      "         3.0       0.33      0.04      0.07        24\n",
      "\n",
      "    accuracy                           0.90       738\n",
      "   macro avg       0.43      0.34      0.35       738\n",
      "weighted avg       0.86      0.90      0.88       738\n",
      "\n"
     ]
    }
   ],
   "source": [
    "data_new = main_df.copy()\n",
    "data_new = data_new[(data_new['Sport'] == \"Speed Skating\") & (data_new['Sex'] == \"M\")]\n",
    "data_new['Medal'] = data_new['Medal'].fillna('No Medal')\n",
    "data_new = data_new.dropna()\n",
    "data_new = data_new.drop(['ID', 'Name', 'Team', 'NOC', 'Games', 'City', 'Sport', 'Event', 'Season', 'Sex', 'Year'], axis=1)  # Удаляем ненужные столбцы\n",
    "\n",
    "data_new['Medal'] = data_new['Medal'].map({'Gold': 1, 'Silver': 2,'Bronze': 3}).fillna(0)\n",
    "\n",
    "X_new = data_new.drop('Medal', axis=1)\n",
    "y_new = data_new['Medal']\n",
    "\n",
    "X_train_new, X_test_new, y_train_new, y_test_new = train_test_split(X_new, y_new, test_size=0.3, random_state=42)\n",
    "\n",
    "model_new = RandomForestClassifier(n_estimators=100, random_state=42)\n",
    "model_new.fit(X_train_new, y_train_new)\n",
    "\n",
    "pred_new = model_new.predict(X_test_new)\n",
    "\n",
    "accuracy_new = accuracy_score(y_test_new, pred_new)\n",
    "print(\"Акуратность (точность):\", accuracy_new)\n",
    "print(classification_report(y_test_new, pred_new))"
   ]
  },
  {
   "cell_type": "code",
   "execution_count": 469,
   "id": "66634352-d09f-4a8c-bd10-bf8bbd03435b",
   "metadata": {},
   "outputs": [
    {
     "name": "stdout",
     "output_type": "stream",
     "text": [
      "Accuracy: 0.9085365853658537\n",
      "              precision    recall  f1-score   support\n",
      "\n",
      "         0.0       0.93      0.97      0.95       446\n",
      "         1.0       0.52      0.35      0.42        46\n",
      "\n",
      "    accuracy                           0.91       492\n",
      "   macro avg       0.73      0.66      0.68       492\n",
      "weighted avg       0.90      0.91      0.90       492\n",
      "\n"
     ]
    }
   ],
   "source": [
    "\n",
    "data_new1 = main_df.copy()\n",
    "data_new1 = data_new1[(data_new1['Sport'] == \"Speed Skating\") & (data_new1['Sex'] == \"M\")]\n",
    "data_new1['Medal'] = data_new1['Medal'].fillna('No Medal')\n",
    "data_new1 = data_new1.dropna() \n",
    "data_new1 = data_new1.drop(['ID', 'Name', 'Team', 'NOC', 'Games', 'City', 'Sport', 'Event', 'Season', 'Sex', 'Year'], axis=1) \n",
    "\n",
    "data_new1['Medal'] = data_new1['Medal'].map({'Gold': 1, 'Silver': 1,'Bronze': 1}).fillna(0)\n",
    "\n",
    "X_new1 = data_new1.drop('Medal', axis=1)\n",
    "y_new1 = data_new1['Medal']\n",
    "\n",
    "X_train_new1, X_test_new1, y_train_new1, y_test_new1 = train_test_split(X_new1, y_new1, test_size=0.2, random_state=42)\n",
    "\n",
    "model_new1 = RandomForestClassifier(n_estimators=100, random_state=42)\n",
    "model_new1.fit(X_train_new1, y_train_new1)\n",
    "\n",
    "pred_new1 = model_new1.predict(X_test_new1)\n",
    "\n",
    "accuracy_new1 = accuracy_score(y_test_new1, pred_new1)\n",
    "print(\"Accuracy:\", accuracy_new1)\n",
    "print(classification_report(y_test_new1, pred_new1))"
   ]
  },
  {
   "cell_type": "markdown",
   "id": "61df57d9-25ac-4420-83a4-14a618c84664",
   "metadata": {},
   "source": [
    "В результате, если брать большее количество значений выборки, то модель работает точнее, не переобучаеться, что говорит о важности количества значений выборки и его влияния на конечный результат"
   ]
  },
  {
   "cell_type": "markdown",
   "id": "a9dd0fd4-57e7-42f4-849c-dba8f2202d39",
   "metadata": {},
   "source": [
    "# Ответы на вопросы"
   ]
  },
  {
   "cell_type": "markdown",
   "id": "bb24a3a3-4414-4353-ac4d-29c52ffebbe3",
   "metadata": {},
   "source": [
    "1.\tСколько лет было самому молодому мужчине и женщине-участникам Олимпийских игр 1992 года?"
   ]
  },
  {
   "cell_type": "code",
   "execution_count": 95,
   "id": "c6222202-5b4c-4c28-a856-b5c6e453f3c0",
   "metadata": {},
   "outputs": [
    {
     "data": {
      "text/html": [
       "<div>\n",
       "<style scoped>\n",
       "    .dataframe tbody tr th:only-of-type {\n",
       "        vertical-align: middle;\n",
       "    }\n",
       "\n",
       "    .dataframe tbody tr th {\n",
       "        vertical-align: top;\n",
       "    }\n",
       "\n",
       "    .dataframe thead th {\n",
       "        text-align: right;\n",
       "    }\n",
       "</style>\n",
       "<table border=\"1\" class=\"dataframe\">\n",
       "  <thead>\n",
       "    <tr style=\"text-align: right;\">\n",
       "      <th></th>\n",
       "      <th>Name</th>\n",
       "      <th>Age</th>\n",
       "      <th>Sex</th>\n",
       "    </tr>\n",
       "  </thead>\n",
       "  <tbody>\n",
       "    <tr>\n",
       "      <th>73461</th>\n",
       "      <td>Carlos Bienvenido Front Barrera</td>\n",
       "      <td>11.0</td>\n",
       "      <td>M</td>\n",
       "    </tr>\n",
       "    <tr>\n",
       "      <th>120234</th>\n",
       "      <td>Judit Kiss</td>\n",
       "      <td>12.0</td>\n",
       "      <td>F</td>\n",
       "    </tr>\n",
       "    <tr>\n",
       "      <th>120233</th>\n",
       "      <td>Judit Kiss</td>\n",
       "      <td>12.0</td>\n",
       "      <td>F</td>\n",
       "    </tr>\n",
       "    <tr>\n",
       "      <th>80831</th>\n",
       "      <td>Gina Elena Gogean (-Groza)</td>\n",
       "      <td>13.0</td>\n",
       "      <td>F</td>\n",
       "    </tr>\n",
       "    <tr>\n",
       "      <th>265499</th>\n",
       "      <td>Wei Ling \"Joscelin\" Yeo</td>\n",
       "      <td>13.0</td>\n",
       "      <td>F</td>\n",
       "    </tr>\n",
       "    <tr>\n",
       "      <th>265498</th>\n",
       "      <td>Wei Ling \"Joscelin\" Yeo</td>\n",
       "      <td>13.0</td>\n",
       "      <td>F</td>\n",
       "    </tr>\n",
       "    <tr>\n",
       "      <th>265497</th>\n",
       "      <td>Wei Ling \"Joscelin\" Yeo</td>\n",
       "      <td>13.0</td>\n",
       "      <td>F</td>\n",
       "    </tr>\n",
       "    <tr>\n",
       "      <th>102920</th>\n",
       "      <td>Noriko Inada</td>\n",
       "      <td>13.0</td>\n",
       "      <td>F</td>\n",
       "    </tr>\n",
       "    <tr>\n",
       "      <th>265496</th>\n",
       "      <td>Wei Ling \"Joscelin\" Yeo</td>\n",
       "      <td>13.0</td>\n",
       "      <td>F</td>\n",
       "    </tr>\n",
       "    <tr>\n",
       "      <th>102919</th>\n",
       "      <td>Noriko Inada</td>\n",
       "      <td>13.0</td>\n",
       "      <td>F</td>\n",
       "    </tr>\n",
       "  </tbody>\n",
       "</table>\n",
       "</div>"
      ],
      "text/plain": [
       "                                   Name   Age Sex\n",
       "73461   Carlos Bienvenido Front Barrera  11.0   M\n",
       "120234                       Judit Kiss  12.0   F\n",
       "120233                       Judit Kiss  12.0   F\n",
       "80831        Gina Elena Gogean (-Groza)  13.0   F\n",
       "265499          Wei Ling \"Joscelin\" Yeo  13.0   F\n",
       "265498          Wei Ling \"Joscelin\" Yeo  13.0   F\n",
       "265497          Wei Ling \"Joscelin\" Yeo  13.0   F\n",
       "102920                     Noriko Inada  13.0   F\n",
       "265496          Wei Ling \"Joscelin\" Yeo  13.0   F\n",
       "102919                     Noriko Inada  13.0   F"
      ]
     },
     "execution_count": 95,
     "metadata": {},
     "output_type": "execute_result"
    }
   ],
   "source": [
    "main_df[main_df['Year'] == 1992][['Name', 'Age', 'Sex']].sort_values('Age')[:10]"
   ]
  },
  {
   "cell_type": "markdown",
   "id": "fc1dbee6-bd21-407b-be99-ddbe0d9e7ffc",
   "metadata": {},
   "source": [
    "2.\tКаков был процент баскетболистов мужского пола среди всех мужчин-участников Олимпийских игр 2012 года? Округлите ответ до первого десятичного знака. Подсказка: здесь и далее при необходимости отбрасывайте дублированных спортсменов, чтобы считать только уникальных"
   ]
  },
  {
   "cell_type": "code",
   "execution_count": 96,
   "id": "a3d7e0fc-44cb-49cd-a5a9-602a6b6b574e",
   "metadata": {},
   "outputs": [
    {
     "data": {
      "text/plain": [
       "4.4"
      ]
     },
     "execution_count": 96,
     "metadata": {},
     "output_type": "execute_result"
    }
   ],
   "source": [
    "no_dup_df = main_df.drop_duplicates()\n",
    "count = len(no_dup_df[(no_dup_df['Sex'] == 'M') & (no_dup_df['Sport'] == 'Basketball') & (no_dup_df['Year'] == 2012)])\n",
    "all_count = len(no_dup_df[(no_dup_df['Sex'] == 'M') & (no_dup_df['Sport'] == 'Basketball')])\n",
    "round(count/all_count*100, 1)"
   ]
  },
  {
   "cell_type": "markdown",
   "id": "01e58115-d0b9-4d81-88b6-4b135410b98d",
   "metadata": {},
   "source": [
    "3.\tКаковы среднее и стандартное отклонение роста теннисисток, участвовавших в Олимпийских играх 2000 года? Округлите ответ до первого десятичного знака."
   ]
  },
  {
   "cell_type": "code",
   "execution_count": 97,
   "id": "d8bb5930-547c-4624-b5a8-87c7a1ebf537",
   "metadata": {},
   "outputs": [
    {
     "data": {
      "text/plain": [
       "(6.5, 171.792)"
      ]
     },
     "execution_count": 97,
     "metadata": {},
     "output_type": "execute_result"
    }
   ],
   "source": [
    "no_dup_df = main_df.drop_duplicates()\n",
    "no_dup_df = no_dup_df[no_dup_df['Height'].notna()]\n",
    "\n",
    "f_tennis_2000_df = no_dup_df[(no_dup_df['Sex'] == 'F') & (no_dup_df['Sport'] == 'Tennis') & (no_dup_df['Year'] == 2000)]\n",
    "average_height = f_tennis_2000_df['Height'].mean()\n",
    "std = f_tennis_2000_df['Height'].std()\n",
    "round(std, 1), average_height"
   ]
  },
  {
   "cell_type": "markdown",
   "id": "19d5ddd1-39ca-4342-ac39-20d4e74c0154",
   "metadata": {},
   "source": [
    "4.\tНайдите спортсмена, участвовавшего в Олимпийских играх 2006 года, с самым высоким весом среди других участников той же Олимпиады. Каким видом спорта он или она занимался?"
   ]
  },
  {
   "cell_type": "code",
   "execution_count": 98,
   "id": "842d28f6-42ce-4cbf-ba1f-91666a2fa219",
   "metadata": {},
   "outputs": [
    {
     "data": {
      "text/html": [
       "<div>\n",
       "<style scoped>\n",
       "    .dataframe tbody tr th:only-of-type {\n",
       "        vertical-align: middle;\n",
       "    }\n",
       "\n",
       "    .dataframe tbody tr th {\n",
       "        vertical-align: top;\n",
       "    }\n",
       "\n",
       "    .dataframe thead th {\n",
       "        text-align: right;\n",
       "    }\n",
       "</style>\n",
       "<table border=\"1\" class=\"dataframe\">\n",
       "  <thead>\n",
       "    <tr style=\"text-align: right;\">\n",
       "      <th></th>\n",
       "      <th>Sport</th>\n",
       "      <th>Name</th>\n",
       "      <th>Weight</th>\n",
       "      <th>Sex</th>\n",
       "    </tr>\n",
       "  </thead>\n",
       "  <tbody>\n",
       "    <tr>\n",
       "      <th>8102</th>\n",
       "      <td>Skeleton</td>\n",
       "      <td>Patrick R. Antaki</td>\n",
       "      <td>127.0</td>\n",
       "      <td>M</td>\n",
       "    </tr>\n",
       "  </tbody>\n",
       "</table>\n",
       "</div>"
      ],
      "text/plain": [
       "         Sport               Name  Weight Sex\n",
       "8102  Skeleton  Patrick R. Antaki   127.0   M"
      ]
     },
     "execution_count": 98,
     "metadata": {},
     "output_type": "execute_result"
    }
   ],
   "source": [
    "no_dup_df = main_df.drop_duplicates()\n",
    "no_dup_df = no_dup_df[no_dup_df['Weight'].notna()]\n",
    "players_2006 = no_dup_df[(no_dup_df['Year'] == 2006)].sort_values('Weight')[-1:][['Sport', 'Name', 'Weight', 'Sex']]\n",
    "players_2006"
   ]
  },
  {
   "cell_type": "markdown",
   "id": "bf9f10d2-e8a5-40cc-b760-adfbb1d75f1b",
   "metadata": {},
   "source": [
    "5.\tСколько раз Джон Ольберг участвовал в Олимпийских играх, проводимых в разные годы?"
   ]
  },
  {
   "cell_type": "code",
   "execution_count": 99,
   "id": "7c3cdadf-25ab-4cfe-a8b9-e56882893465",
   "metadata": {},
   "outputs": [
    {
     "data": {
      "text/plain": [
       "2"
      ]
     },
     "execution_count": 99,
     "metadata": {},
     "output_type": "execute_result"
    }
   ],
   "source": [
    "no_dup_df = main_df.drop_duplicates()\n",
    "john = len(no_dup_df[(no_dup_df['Name'] == 'John Aalberg')].Year.unique())\n",
    "john"
   ]
  },
  {
   "cell_type": "markdown",
   "id": "3201c250-0419-4f82-8c06-e41c8ba0c23c",
   "metadata": {},
   "source": [
    "6.\tСколько золотых медалей в теннисе завоевали спортсмены из сборной Швейцарии на Олимпийских играх 2008 года? Посчитайте каждую медаль от каждого спортсмена."
   ]
  },
  {
   "cell_type": "code",
   "execution_count": 100,
   "id": "07d4d1c1-9466-4b5c-b473-f3766f55b2ba",
   "metadata": {},
   "outputs": [
    {
     "data": {
      "text/plain": [
       "2"
      ]
     },
     "execution_count": 100,
     "metadata": {},
     "output_type": "execute_result"
    }
   ],
   "source": [
    "no_dup_df = main_df.drop_duplicates()\n",
    "players_tennis = len(no_dup_df[(no_dup_df['Year'] == 2008) & (no_dup_df['Team'] == 'Switzerland') & (no_dup_df['Medal'] == 'Gold') & (no_dup_df['Sport'] == 'Tennis')].Name.unique())\n",
    "players_tennis"
   ]
  },
  {
   "cell_type": "markdown",
   "id": "460c5d6f-87af-489b-8af3-ccf6c8bdfe8e",
   "metadata": {},
   "source": [
    "7.\tПравда ли, что Испания завоевала меньше медалей, чем Италия на Олимпийских играх 2016 года? Не учитывайте значения NaN в столбце Медаль"
   ]
  },
  {
   "cell_type": "code",
   "execution_count": 101,
   "id": "68193828-c201-4eee-9ebb-425752982c58",
   "metadata": {},
   "outputs": [
    {
     "data": {
      "text/plain": [
       "True"
      ]
     },
     "execution_count": 101,
     "metadata": {},
     "output_type": "execute_result"
    }
   ],
   "source": [
    "no_dup_df = main_df.drop_duplicates()\n",
    "no_dup_df = no_dup_df[no_dup_df['Medal'].notna()]\n",
    "count_players_spain = len(no_dup_df[(no_dup_df['Year'] == 2016) & (no_dup_df['Team'] == 'Spain')])\n",
    "count_players_italy = len(no_dup_df[(no_dup_df['Year'] == 2016) & (no_dup_df['Team'] == 'Italy')])\n",
    "count_players_spain < count_players_italy"
   ]
  },
  {
   "cell_type": "markdown",
   "id": "1be94df2-0c57-4bf9-b3fc-a6440ac5de5e",
   "metadata": {},
   "source": [
    "8.\tК какой возрастной категории относилось наименьшее количество и наибольшее количество участников Олимпийских игр 2008 года?"
   ]
  },
  {
   "cell_type": "code",
   "execution_count": 102,
   "id": "9e27c08d-d95f-4372-a633-85409e83e775",
   "metadata": {},
   "outputs": [
    {
     "data": {
      "text/plain": [
       "(500, 12178, 922)"
      ]
     },
     "execution_count": 102,
     "metadata": {},
     "output_type": "execute_result"
    }
   ],
   "source": [
    "no_dup_df = main_df.drop_duplicates()\n",
    "no_dup_df = no_dup_df[no_dup_df['Age'].notna()]\n",
    "players_2008 = no_dup_df[(no_dup_df['Year'] == 2008)]\n",
    "players_2008_before_18 = len(no_dup_df[(no_dup_df['Year'] == 2008) & (no_dup_df['Age'] < 18)])\n",
    "players_2008_before_34 = len(no_dup_df[(no_dup_df['Year'] == 2008) & (no_dup_df['Age'] < 35) & (no_dup_df['Age'] >= 18)])\n",
    "players_2008_after_35 = len(no_dup_df[(no_dup_df['Year'] == 2008) & (no_dup_df['Age'] >= 35)])\n",
    "players_2008_before_18, players_2008_before_34, players_2008_after_35"
   ]
  },
  {
   "cell_type": "markdown",
   "id": "53e2dc17-6b4c-4bc3-81bf-b05a266d0122",
   "metadata": {},
   "source": [
    "9.\tПравда ли, что в Атланте проводились летние Олимпийские игры? Правда ли, что в Скво-Вэлли проводились зимние Олимпийские игры?"
   ]
  },
  {
   "cell_type": "code",
   "execution_count": 104,
   "id": "63c6b743-c0e2-4f1f-9acb-c7e8a8a65f8e",
   "metadata": {},
   "outputs": [
    {
     "data": {
      "text/plain": [
       "True"
      ]
     },
     "execution_count": 104,
     "metadata": {},
     "output_type": "execute_result"
    }
   ],
   "source": [
    "no_dup_df = main_df.drop_duplicates()\n",
    "atlamta_games = len(no_dup_df[(no_dup_df['City'] == 'Atlanta') & (no_dup_df['Season'] == 'Summer')])\n",
    "atlamta_games > 0"
   ]
  },
  {
   "cell_type": "code",
   "execution_count": 105,
   "id": "e060df81-0188-42a2-850f-d2753ab0d051",
   "metadata": {},
   "outputs": [
    {
     "data": {
      "text/plain": [
       "True"
      ]
     },
     "execution_count": 105,
     "metadata": {},
     "output_type": "execute_result"
    }
   ],
   "source": [
    "no_dup_df = main_df.drop_duplicates()\n",
    "atlamta_games = len(no_dup_df[(no_dup_df['City'] == 'Squaw Valley') & (no_dup_df['Season'] == 'Winter')])\n",
    "atlamta_games > 0"
   ]
  },
  {
   "cell_type": "markdown",
   "id": "8a4eb25e-1810-4505-ad73-812738dd4f34",
   "metadata": {},
   "source": [
    "10.\tКакова абсолютная разница между количеством уникальных видов спорта на Олимпийских играх 1986 года и Олимпийских играх 2002 года?"
   ]
  },
  {
   "cell_type": "code",
   "execution_count": 106,
   "id": "73b4ea6e-2545-418e-bbc3-097c0e9f8791",
   "metadata": {},
   "outputs": [
    {
     "data": {
      "text/plain": [
       "(0, 15)"
      ]
     },
     "execution_count": 106,
     "metadata": {},
     "output_type": "execute_result"
    }
   ],
   "source": [
    "no_dup_df = main_df.drop_duplicates()\n",
    "games_1986 = len(no_dup_df[(no_dup_df['Year'] == 1986)].Sport.unique())\n",
    "games_2002 = len(no_dup_df[(no_dup_df['Year'] == 2002)].Sport.unique())\n",
    "games_1986, games_2002"
   ]
  }
 ],
 "metadata": {
  "kernelspec": {
   "display_name": "Python 3 (ipykernel)",
   "language": "python",
   "name": "python3"
  },
  "language_info": {
   "codemirror_mode": {
    "name": "ipython",
    "version": 3
   },
   "file_extension": ".py",
   "mimetype": "text/x-python",
   "name": "python",
   "nbconvert_exporter": "python",
   "pygments_lexer": "ipython3",
   "version": "3.11.5"
  }
 },
 "nbformat": 4,
 "nbformat_minor": 5
}
